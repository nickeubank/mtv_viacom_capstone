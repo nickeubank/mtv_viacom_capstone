{
 "cells": [
  {
   "cell_type": "markdown",
   "metadata": {},
   "source": [
    "## Dropoff Voting Analysis"
   ]
  },
  {
   "cell_type": "code",
   "execution_count": 97,
   "metadata": {},
   "outputs": [],
   "source": [
    "import pandas as pd\n",
    "from matplotlib import pyplot as plt\n",
    "import numpy as np\n",
    "import geopandas as gpd"
   ]
  },
  {
   "cell_type": "code",
   "execution_count": 98,
   "metadata": {},
   "outputs": [],
   "source": [
    "data_dropoff = gpd.read_file(\"../../20_intermediate_files/31_campuses_w_dist_to_nearest_dropoff.geojson\")\n",
    "data = gpd.read_file(\"../../20_intermediate_files/30_campuses_w_dist_to_nearest_pp.geojson\")"
   ]
  },
  {
   "cell_type": "code",
   "execution_count": 99,
   "metadata": {},
   "outputs": [],
   "source": [
    "do_2020 = data_dropoff[data_dropoff['distances_Dropoff_2020'].notna()]\n",
    "do_2018 = data_dropoff[data_dropoff['distances_Dropoff_2018'].notna()]\n",
    "\n",
    "ed_2020 = data[data['distances_2020'].notna()]\n",
    "ev_2020 = data[data['distances_2020_early'].notna()]\n",
    "ed_2018 = data[data['distances_2018'].notna()]"
   ]
  },
  {
   "cell_type": "code",
   "execution_count": 100,
   "metadata": {},
   "outputs": [],
   "source": [
    "# Limit to common states\n",
    "states_20 = set(do_2020['STATE'].unique()).intersection(set(ed_2020['STATE'].unique()))\n",
    "states_20_early = set(do_2020['STATE'].unique()).intersection(set(ev_2020['STATE'].unique()))\n",
    "states_18 = set(do_2018['STATE'].unique()).intersection(set(ed_2018['STATE'].unique()))\n",
    "do_2020 = do_2020[do_2020['STATE'].isin(states_20)]\n",
    "ed_2018 = ed_2018[ed_2018['STATE'].isin(states_18)]\n",
    "do_2018 = do_2018[do_2018['STATE'].isin(states_18)]\n",
    "ed_2020 = ed_2020[ed_2020['STATE'].isin(states_20)]\n",
    "ev_2020 = ev_2020[ev_2020['STATE'].isin(states_20_early)]"
   ]
  },
  {
   "cell_type": "code",
   "execution_count": 101,
   "metadata": {},
   "outputs": [],
   "source": [
    "#Shorten dropoff dataframe\n",
    "do_2020 = do_2020[['UNIQUEID','distances_Dropoff_2020']]\n",
    "do_2018 = do_2018[['UNIQUEID','distances_Dropoff_2018']]"
   ]
  },
  {
   "cell_type": "code",
   "execution_count": 102,
   "metadata": {},
   "outputs": [],
   "source": [
    "#Merge 2018 and 2020\n",
    "merged_2020 = ed_2020.merge(do_2020,on='UNIQUEID')\n",
    "merged_2020_early = ev_2020.merge(do_2020,on='UNIQUEID')\n",
    "merged_2018 = ed_2018.merge(do_2018,on='UNIQUEID')"
   ]
  },
  {
   "cell_type": "markdown",
   "metadata": {},
   "source": [
    "### 2020 Election Day"
   ]
  },
  {
   "cell_type": "code",
   "execution_count": 105,
   "metadata": {},
   "outputs": [
    {
     "name": "stdout",
     "output_type": "stream",
     "text": [
      "There are 34 states in this dataset.\n",
      "The states for which we have 2020 election day and dropoff data are ['MA' 'NV' 'WV' 'OH' 'OK' 'AL' 'NM' 'IL' 'LA' 'ME' 'FL' 'RI' 'ND' 'MD'\n",
      " 'VT' 'VA' 'NC' 'UT' 'NE' 'CA' 'SC' 'IA' 'MN' 'IN' 'WI' 'CT' 'AK' 'TX'\n",
      " 'PA' 'AR' 'NH' 'DE' 'MI' 'GA'].\n",
      "There are 1761 colleges in this dataset.\n"
     ]
    }
   ],
   "source": [
    "print('There are {} states in this dataset.'.format(len(merged_2020['STATE'].unique())))\n",
    "print('The states for which we have 2020 election day and dropoff data are {}.'.format(merged_2020['STATE'].unique()))\n",
    "print('There are {} colleges in this dataset.'.format(len(merged_2020)))\n"
   ]
  },
  {
   "cell_type": "code",
   "execution_count": 104,
   "metadata": {},
   "outputs": [
    {
     "name": "stdout",
     "output_type": "stream",
     "text": [
      "76.0 % of colleges do not have an election day polling place on campus.\n",
      "74.0 % of colleges do not have an election day voting option on campus (polling place or dropoff).\n"
     ]
    }
   ],
   "source": [
    "num = (len(merged_2020) - len(merged_2020[merged_2020['distances_2020'] == 0]))/len(merged_2020)\n",
    "print(\"{} % of colleges do not have an election day polling place on campus.\".format(np.round(100*num))\n",
    "     )\n",
    "num = (len(merged_2020) - len(merged_2020[(merged_2020['distances_2020'] == 0) | (merged_2020['distances_Dropoff_2020'] == 0)]))/len(merged_2020)\n",
    "print(\"{} % of colleges do not have an election day voting option on campus (polling place or dropoff).\".format(np.round(100*num))\n",
    "     "
   ]
  },
  {
   "cell_type": "code",
   "execution_count": 109,
   "metadata": {},
   "outputs": [
    {
     "name": "stdout",
     "output_type": "stream",
     "text": [
      "The nearest election day polling place is more than 1 mile from the edge of campus for 16.0 % of colleges.\n",
      "The nearest election day voting option (polling place or dropoff) is more than 1 mile from the edge of campus for 14.0 % of colleges.\n"
     ]
    }
   ],
   "source": [
    "num = (len(merged_2020[merged_2020['distances_2020']/1609 > 1]))/len(merged_2020)\n",
    "print(\"The nearest election day polling place is more than 1 mile from the edge of campus for {} % of colleges.\".format(np.round(100*num)))\n",
    "\n",
    "num = (len(merged_2020[(merged_2020['distances_2020']/1609 > 1) & (merged_2020['distances_Dropoff_2020']/1609 > 1)]))/len(merged_2020)\n",
    "print(\"The nearest election day voting option (polling place or dropoff) is more than 1 mile from the edge of campus for {} % of colleges.\".format(np.round(100*num)))\n"
   ]
  },
  {
   "cell_type": "markdown",
   "metadata": {},
   "source": [
    "### 2020 Early Voting"
   ]
  },
  {
   "cell_type": "code",
   "execution_count": 112,
   "metadata": {},
   "outputs": [
    {
     "name": "stdout",
     "output_type": "stream",
     "text": [
      "There are 32 states in this dataset.\n",
      "The states for which we have 2020 early voting and dropoff data are ['MA' 'NV' 'WV' 'OH' 'OK' 'AL' 'NM' 'IL' 'LA' 'ME' 'FL' 'RI' 'ND' 'MD'\n",
      " 'VT' 'VA' 'NC' 'UT' 'NE' 'CA' 'SC' 'IA' 'MN' 'IN' 'WI' 'AK' 'TX' 'PA'\n",
      " 'AR' 'NH' 'MI' 'GA'].\n",
      "There are 1727 colleges in this dataset.\n"
     ]
    }
   ],
   "source": [
    "print('There are {} states in this dataset.'.format(len(merged_2020_early['STATE'].unique())))\n",
    "print('The states for which we have 2020 early voting and dropoff data are {}.'.format(merged_2020_early['STATE'].unique()))\n",
    "print('There are {} colleges in this dataset.'.format(len(merged_2020_early)))\n"
   ]
  },
  {
   "cell_type": "code",
   "execution_count": 116,
   "metadata": {},
   "outputs": [
    {
     "name": "stdout",
     "output_type": "stream",
     "text": [
      "91.0 % of colleges do not have an early voting polling place on campus.\n",
      "89.0 % of colleges do not have an early voting option on campus (polling place or dropoff).\n"
     ]
    }
   ],
   "source": [
    "num = (len(merged_2020_early) - len(merged_2020_early[merged_2020_early['distances_2020_early'] == 0]))/len(merged_2020_early)\n",
    "print(\"{} % of colleges do not have an early voting polling place on campus.\".format(np.round(100*num))\n",
    "     )\n",
    "num = (len(merged_2020_early) - len(merged_2020_early[(merged_2020_early['distances_2020_early'] == 0) | (merged_2020_early['distances_Dropoff_2020'] == 0)]))/len(merged_2020_early)\n",
    "print(\"{} % of colleges do not have an early voting option on campus (polling place or dropoff).\".format(np.round(100*num)))\n",
    "  "
   ]
  },
  {
   "cell_type": "code",
   "execution_count": 119,
   "metadata": {},
   "outputs": [
    {
     "name": "stdout",
     "output_type": "stream",
     "text": [
      "The nearest early voting polling place is more than 1 mile from the edge of campus for 57.0 % of colleges.\n",
      "The nearest early voting option (polling place or dropoff) is more than 1 mile from the edge of campus for 51.0 % of colleges.\n"
     ]
    }
   ],
   "source": [
    "num = (len(merged_2020_early[merged_2020_early['distances_2020_early']/1609 > 1]))/len(merged_2020_early)\n",
    "print(\"The nearest early voting polling place is more than 1 mile from the edge of campus for {} % of colleges.\".format(np.round(100*num)))\n",
    "\n",
    "num = (len(merged_2020_early[(merged_2020_early['distances_2020_early']/1609 > 1) & (merged_2020_early['distances_Dropoff_2020']/1609 > 1)]))/len(merged_2020_early)\n",
    "print(\"The nearest early voting option (polling place or dropoff) is more than 1 mile from the edge of campus for {} % of colleges.\".format(np.round(100*num)))\n"
   ]
  },
  {
   "cell_type": "markdown",
   "metadata": {},
   "source": [
    "### 2018 Election Day"
   ]
  },
  {
   "cell_type": "code",
   "execution_count": 121,
   "metadata": {},
   "outputs": [
    {
     "name": "stdout",
     "output_type": "stream",
     "text": [
      "There are 6 states in this dataset.\n",
      "The states for which we have 2018 election day and dropoff data are ['AZ' 'OR' 'WA' 'UT' 'NE' 'CO'].\n",
      "There are 196 colleges in this dataset.\n"
     ]
    }
   ],
   "source": [
    "print('There are {} states in this dataset.'.format(len(merged_2018['STATE'].unique())))\n",
    "print('The states for which we have 2018 election day and dropoff data are {}.'.format(merged_2018['STATE'].unique()))\n",
    "print('There are {} colleges in this dataset.'.format(len(merged_2018)))"
   ]
  },
  {
   "cell_type": "code",
   "execution_count": 123,
   "metadata": {},
   "outputs": [
    {
     "name": "stdout",
     "output_type": "stream",
     "text": [
      "97.0 % of colleges do not have an election day polling place on campus.\n",
      "86.0 % of colleges do not have an election day voting option on campus (polling place or dropoff).\n"
     ]
    }
   ],
   "source": [
    "num = (len(merged_2018) - len(merged_2018[merged_2018['distances_2018'] == 0]))/len(merged_2018)\n",
    "print(\"{} % of colleges do not have an election day polling place on campus.\".format(np.round(100*num))\n",
    "     )\n",
    "num = (len(merged_2018) - len(merged_2018[(merged_2018['distances_2018'] == 0) | (merged_2018['distances_Dropoff_2018'] == 0)]))/len(merged_2018)\n",
    "print(\"{} % of colleges do not have an election day voting option on campus (polling place or dropoff).\".format(np.round(100*num)))\n",
    "  "
   ]
  },
  {
   "cell_type": "code",
   "execution_count": 124,
   "metadata": {},
   "outputs": [
    {
     "name": "stdout",
     "output_type": "stream",
     "text": [
      "The nearest election day polling place is more than 1 mile from the edge of campus for 87.0 % of colleges.\n",
      "The nearest election day voting option (polling place or dropoff) is more than 1 mile from the edge of campus for 47.0 % of colleges.\n"
     ]
    }
   ],
   "source": [
    "num = (len(merged_2018[merged_2018['distances_2018']/1609 > 1]))/len(merged_2018)\n",
    "print(\"The nearest election day polling place is more than 1 mile from the edge of campus for {} % of colleges.\".format(np.round(100*num)))\n",
    "\n",
    "num = (len(merged_2018[(merged_2018['distances_2018']/1609 > 1) & (merged_2018['distances_Dropoff_2018']/1609 > 1)]))/len(merged_2018)\n",
    "print(\"The nearest election day voting option (polling place or dropoff) is more than 1 mile from the edge of campus for {} % of colleges.\".format(np.round(100*num)))\n"
   ]
  },
  {
   "cell_type": "code",
   "execution_count": null,
   "metadata": {},
   "outputs": [],
   "source": []
  }
 ],
 "metadata": {
  "kernelspec": {
   "display_name": "Python 3",
   "language": "python",
   "name": "python3"
  },
  "language_info": {
   "codemirror_mode": {
    "name": "ipython",
    "version": 3
   },
   "file_extension": ".py",
   "mimetype": "text/x-python",
   "name": "python",
   "nbconvert_exporter": "python",
   "pygments_lexer": "ipython3",
   "version": "3.8.3"
  }
 },
 "nbformat": 4,
 "nbformat_minor": 4
}
