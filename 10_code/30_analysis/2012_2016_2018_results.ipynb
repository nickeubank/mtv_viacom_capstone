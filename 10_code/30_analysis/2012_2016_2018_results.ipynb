{
 "cells": [
  {
   "cell_type": "code",
   "execution_count": 28,
   "metadata": {},
   "outputs": [],
   "source": [
    "import pandas as pd\n",
    "import numpy as np"
   ]
  },
  {
   "cell_type": "code",
   "execution_count": 29,
   "metadata": {},
   "outputs": [],
   "source": [
    "data=pd.read_csv(\"../../20_intermediate_files/30_campuses_w_dist_to_nearest_pp.csv\")"
   ]
  },
  {
   "cell_type": "code",
   "execution_count": 30,
   "metadata": {},
   "outputs": [
    {
     "data": {
      "text/plain": [
       "Index(['Unnamed: 0', 'Unnamed: 0.1', 'Unnamed: 0.1.1', 'Unnamed: 0.1.1.1',\n",
       "       'Unnamed: 0.1.1.1.1', 'Unnamed: 0.1.1.1.1.1', 'UNIQUEID', 'NAME',\n",
       "       'ADDRESS', 'CITY',\n",
       "       ...\n",
       "       '2020_early_distance_by_driving (miles)',\n",
       "       '2020_early_duration_by_driving (minutes)',\n",
       "       '2020_early_distance_by_transit (miles)',\n",
       "       '2020_early_duration_by_transit (minutes)',\n",
       "       '2020_distance_by_walking (miles)',\n",
       "       '2020_duration_by_walking (minutes)',\n",
       "       '2020_distance_by_driving (miles)',\n",
       "       '2020_duration_by_driving (minutes)',\n",
       "       '2020_distance_by_transit (miles)',\n",
       "       '2020_duration_by_transit (minutes)'],\n",
       "      dtype='object', length=115)"
      ]
     },
     "execution_count": 30,
     "metadata": {},
     "output_type": "execute_result"
    }
   ],
   "source": [
    "data.columns"
   ]
  },
  {
   "cell_type": "code",
   "execution_count": 31,
   "metadata": {},
   "outputs": [],
   "source": [
    "data['distances_2012_miles']=0.000621371*data['distances_2012']\n",
    "data['distances_2016_miles']=0.000621371*data['distances_2016']\n",
    "data['distances_2018_miles']=0.000621371*data['distances_2018']\n",
    "data['distances_2020_miles']=0.000621371*data['distances_2020']\n",
    "\n",
    "\n"
   ]
  },
  {
   "cell_type": "code",
   "execution_count": 33,
   "metadata": {},
   "outputs": [],
   "source": [
    "accident_states_2016 = ['NY','TX','CA','MO','AR','TN','UT','NV','AL','WY','FL','RI','CO','VT','IN','KS','MN','SC','AZ']\n",
    "accident_states_2012 = ['GA','WY','TN','IN','TX','MO','MN','NY','CA']\n",
    "accident_states_2018 = ['ID','VT','TX','CA','NY','MO','MI','OR','KS','FL','IN','TN','AZ','CO','AL','NV','UT','WA','WY','AS']\n",
    "accident_states = set(accident_states_2016).union(set(accident_states_2012))\n",
    "accident_states = accident_states.union(set(accident_states_2018))\n",
    "data = data[~data['STATE'].isin(accident_states)]\n",
    "\n",
    "\n",
    "data = data[(data['distances_2012'].notna()) & (data['distances_2016'].notna()) & (data['distances_2018'].notna()) & (data['distances_2020'].notna())]"
   ]
  },
  {
   "cell_type": "code",
   "execution_count": 34,
   "metadata": {},
   "outputs": [
    {
     "data": {
      "text/plain": [
       "902"
      ]
     },
     "execution_count": 34,
     "metadata": {},
     "output_type": "execute_result"
    }
   ],
   "source": [
    "len(data)"
   ]
  },
  {
   "cell_type": "code",
   "execution_count": null,
   "metadata": {},
   "outputs": [],
   "source": []
  },
  {
   "cell_type": "code",
   "execution_count": 35,
   "metadata": {},
   "outputs": [
    {
     "name": "stdout",
     "output_type": "stream",
     "text": [
      "2012\n",
      "The total number of states present: 19\n",
      "States present: ['MA' 'WV' 'OH' 'OK' 'IL' 'LA' 'ME' 'ND' 'MD' 'VA' 'NC' 'NE' 'IA' 'WI'\n",
      " 'CT' 'AK' 'PA' 'NH' 'DE']\n",
      "19.845% of campuses have election day on campus voting in 2012\n",
      "In 2012, 86.475 % of colleges have its nearest polling place less than 1 mile from the college edge\n",
      "In 2012, 11.641 % of colleges have its nearest polling place between greater than or equal to 1 mile and less than 3 miles from the college edge\n",
      "In 2012, 1.885 % of colleges have its nearest polling place between greater than than 3 miles from the college edge\n",
      "In 2012, 80.0 % of colleges do not have an election day voting option on campus.\n",
      "In 2012, the nearest election day voting option is more than 1 mile from the edge of campus for 14.0 % of colleges.\n",
      "\n",
      "\n",
      "2016\n",
      "The total number of states present: 19\n",
      "States present: ['MA' 'WV' 'OH' 'OK' 'IL' 'LA' 'ME' 'ND' 'MD' 'VA' 'NC' 'NE' 'IA' 'WI'\n",
      " 'CT' 'AK' 'PA' 'NH' 'DE']\n",
      "16.63% of campuses have election day on campus voting in 2016\n",
      "In 2016, 76.386 % of colleges have its nearest polling place less than 1 mile from the college edge\n",
      "In 2016, 17.517 % of colleges have its nearest polling place between greater than or equal to 1 mile and less than 3 miles from the college edge\n",
      "In 2016, 6.098 % of colleges have its nearest polling place between greater than than 3 miles from the college edge\n",
      "In 2016, 83.0 % of colleges do not have an election day voting option on campus.\n",
      "In 2016, the nearest election day voting option is more than 1 mile from the edge of campus for 24.0 % of colleges.\n",
      "\n",
      "\n",
      "2018\n",
      "The total number of states present: 19\n",
      "States present: ['MA' 'WV' 'OH' 'OK' 'IL' 'LA' 'ME' 'ND' 'MD' 'VA' 'NC' 'NE' 'IA' 'WI'\n",
      " 'CT' 'AK' 'PA' 'NH' 'DE']\n",
      "17.073% of campuses have election day on campus voting in 2018\n",
      "In 2018, 76.497 % of colleges have its nearest polling place less than 1 mile from the college edge\n",
      "In 2018, 16.851 % of colleges have its nearest polling place between greater than or equal to 1 mile and less than 3 miles from the college edge\n",
      "In 2018, 6.652 % of colleges have its nearest polling place between greater than than 3 miles from the college edge\n",
      "In 2018, 83.0 % of colleges do not have an election day voting option on campus.\n",
      "In 2018, the nearest election day voting option is more than 1 mile from the edge of campus for 24.0 % of colleges.\n",
      "\n",
      "\n",
      "2020\n",
      "The total number of states present: 19\n",
      "States present: ['MA' 'WV' 'OH' 'OK' 'IL' 'LA' 'ME' 'ND' 'MD' 'VA' 'NC' 'NE' 'IA' 'WI'\n",
      " 'CT' 'AK' 'PA' 'NH' 'DE']\n",
      "21.84% of campuses have election day on campus voting in 2020\n",
      "In 2020, 86.253 % of colleges have its nearest polling place less than 1 mile from the college edge\n",
      "In 2020, 12.084 % of colleges have its nearest polling place between greater than or equal to 1 mile and less than 3 miles from the college edge\n",
      "In 2020, 1.663 % of colleges have its nearest polling place between greater than than 3 miles from the college edge\n",
      "In 2020, 78.0 % of colleges do not have an election day voting option on campus.\n",
      "In 2020, the nearest election day voting option is more than 1 mile from the edge of campus for 14.0 % of colleges.\n",
      "\n",
      "\n"
     ]
    }
   ],
   "source": [
    "#Merged all Years Combined\n",
    "\n",
    "def results(data,i,colname,accident):\n",
    "    print(i)\n",
    "    df=data.dropna(subset=[colname])\n",
    "    df=df[~df['STATE'].isin(accident)]\n",
    "    print(\"The total number of states present:\", len(df.STATE.unique()))\n",
    "    print(\"States present:\", df.STATE.unique())\n",
    "    \n",
    "    print(\"{}% of campuses have election day on campus voting in {}\".format(round(sum(df[colname]==0)/len(df)*100,3),i))\n",
    "    \n",
    "    print(\"In {}, {} % of colleges have its nearest polling place less than 1 mile from the college edge\"\n",
    "    .format(i,round(100*(len(df[(df[colname]<1)])/len(df)),3)))\n",
    "\n",
    "    print(\"In {}, {} % of colleges have its nearest polling place between greater than or equal to 1 mile and less than 3 miles from the college edge\"\n",
    "    .format(i, round(100*(len(df[(df[colname]>=1) & (df[colname]<3)])/len(df)),3)))\n",
    "\n",
    "    print(\"In {}, {} % of colleges have its nearest polling place between greater than than 3 miles from the college edge\"\n",
    "    .format(i, round(100*(len(df[(df[colname]>3)])/len(df)),3)))\n",
    "    \n",
    "    num = (len(df) - len(df[df[colname] == 0]))/len(df)\n",
    "    print(\"In {}, {} % of colleges do not have an election day voting option on campus.\".format(i, np.round(100*num)))\n",
    "    \n",
    "    num = (len(df[df[colname] > 1]))/len(df)\n",
    "    print(\"In {}, the nearest election day voting option is more than 1 mile from the edge of campus for {} % of colleges.\".format(i, np.round(100*num)))\n",
    "\n",
    "    print()\n",
    "    print()\n",
    "\n",
    "\n",
    "    \n",
    "\n",
    "accident_states_2016 = ['NY','TX','CA','MO','AR','TN','UT','NV','AL','WY','FL','RI','CO','VT','IN','KS','MN','SC','AZ']\n",
    "accident_states_2012 = ['GA','WY','TN','IN','TX','MO','MN','NY','CA']\n",
    "accident_states_2018 = ['ID','VT','TX','CA','NY','MO','MI','OR','KS','FL','IN','TN','AZ','CO','AL','NV','UT','WA','WY','AS']\n",
    "for i,colname,accident in zip([2012,2016,2018,2020],\n",
    "                        ['distances_2012_miles','distances_2016_miles','distances_2018_miles','distances_2020_miles'],\n",
    "                        [accident_states_2012,accident_states_2016,accident_states_2018,[]]):\n",
    "    results(data,i,colname,accident)"
   ]
  },
  {
   "cell_type": "code",
   "execution_count": 5,
   "metadata": {},
   "outputs": [
    {
     "name": "stdout",
     "output_type": "stream",
     "text": [
      "2012\n",
      "The total number of states present: 27\n",
      "States present: ['MA' 'WV' 'MS' 'KY' 'OH' 'OK' 'IL' 'LA' 'ME' 'RI' 'ND' 'MD' 'VA' 'NC'\n",
      " 'MT' 'NE' 'SC' 'IA' 'WI' 'CT' 'AK' 'PA' 'AR' 'NH' 'NJ' 'DE' 'MI']\n",
      "18.839% of campuses have election day on campus voting in 2012\n",
      "In 2012, 85.702 % of colleges have its nearest polling place less than 1 mile from the college edge\n",
      "In 2012, 11.775 % of colleges have its nearest polling place between greater than or equal to 1 mile and less than 3 miles from the college edge\n",
      "In 2012, 2.523 % of colleges have its nearest polling place between greater than than 3 miles from the college edge\n",
      "In 2012, 81.0 % of colleges do not have an election day voting option on campus.\n",
      "In 2012, the nearest election day voting option is more than 1 mile from the edge of campus for 14.0 % of colleges.\n",
      "\n",
      "\n",
      "2016\n",
      "The total number of states present: 26\n",
      "States present: ['MA' 'WV' 'MS' 'KY' 'OH' 'OK' 'SD' 'NM' 'IL' 'LA' 'ME' 'ND' 'MD' 'VA'\n",
      " 'NC' 'MT' 'NE' 'IA' 'WI' 'CT' 'AK' 'PA' 'NH' 'NJ' 'DE' 'GA']\n",
      "14.983% of campuses have election day on campus voting in 2016\n",
      "In 2016, 77.091 % of colleges have its nearest polling place less than 1 mile from the college edge\n",
      "In 2016, 16.376 % of colleges have its nearest polling place between greater than or equal to 1 mile and less than 3 miles from the college edge\n",
      "In 2016, 6.533 % of colleges have its nearest polling place between greater than than 3 miles from the college edge\n",
      "In 2016, 85.0 % of colleges do not have an election day voting option on campus.\n",
      "In 2016, the nearest election day voting option is more than 1 mile from the edge of campus for 23.0 % of colleges.\n",
      "\n",
      "\n",
      "2018\n",
      "The total number of states present: 30\n",
      "States present: ['MA' 'WV' 'MS' 'KY' 'OH' 'OK' 'SD' 'NM' 'IL' 'LA' 'ME' 'RI' 'ND' 'MD'\n",
      " 'VA' 'NC' 'MT' 'NE' 'SC' 'IA' 'MN' 'WI' 'CT' 'AK' 'PA' 'AR' 'NH' 'NJ'\n",
      " 'DE' 'GA']\n",
      "16.031% of campuses have election day on campus voting in 2018\n",
      "In 2018, 77.557 % of colleges have its nearest polling place less than 1 mile from the college edge\n",
      "In 2018, 16.031 % of colleges have its nearest polling place between greater than or equal to 1 mile and less than 3 miles from the college edge\n",
      "In 2018, 6.412 % of colleges have its nearest polling place between greater than than 3 miles from the college edge\n",
      "In 2018, 84.0 % of colleges do not have an election day voting option on campus.\n",
      "In 2018, the nearest election day voting option is more than 1 mile from the edge of campus for 22.0 % of colleges.\n",
      "\n",
      "\n",
      "2020\n",
      "The total number of states present: 35\n",
      "States present: ['MA' 'NV' 'WV' 'OH' 'OK' 'AL' 'NM' 'IL' 'LA' 'ME' 'FL' 'RI' 'ND' 'MD'\n",
      " 'VT' 'VA' 'MO' 'NC' 'UT' 'NE' 'CA' 'SC' 'IA' 'MN' 'IN' 'WI' 'CT' 'AK'\n",
      " 'TX' 'PA' 'AR' 'NH' 'DE' 'MI' 'GA']\n",
      "24.186% of campuses have election day on campus voting in 2020\n",
      "In 2020, 84.263 % of colleges have its nearest polling place less than 1 mile from the college edge\n",
      "In 2020, 13.363 % of colleges have its nearest polling place between greater than or equal to 1 mile and less than 3 miles from the college edge\n",
      "In 2020, 2.374 % of colleges have its nearest polling place between greater than than 3 miles from the college edge\n",
      "In 2020, 76.0 % of colleges do not have an election day voting option on campus.\n",
      "In 2020, the nearest election day voting option is more than 1 mile from the edge of campus for 16.0 % of colleges.\n",
      "\n",
      "\n"
     ]
    }
   ],
   "source": [
    "#Individual Year Stats\n",
    "def results(data,i,colname,accident):\n",
    "    print(i)\n",
    "    df=data.dropna(subset=[colname])\n",
    "    df=df[~df['STATE'].isin(accident)]\n",
    "    print(\"The total number of states present:\", len(df.STATE.unique()))\n",
    "    print(\"States present:\", df.STATE.unique())\n",
    "    \n",
    "    print(\"{}% of campuses have election day on campus voting in {}\".format(round(sum(df[colname]==0)/len(df)*100,3),i))\n",
    "    \n",
    "    print(\"In {}, {} % of colleges have its nearest polling place less than 1 mile from the college edge\"\n",
    "    .format(i,round(100*(len(df[(df[colname]<1)])/len(df)),3)))\n",
    "\n",
    "    print(\"In {}, {} % of colleges have its nearest polling place between greater than or equal to 1 mile and less than 3 miles from the college edge\"\n",
    "    .format(i, round(100*(len(df[(df[colname]>=1) & (df[colname]<3)])/len(df)),3)))\n",
    "\n",
    "    print(\"In {}, {} % of colleges have its nearest polling place between greater than than 3 miles from the college edge\"\n",
    "    .format(i, round(100*(len(df[(df[colname]>3)])/len(df)),3)))\n",
    "    \n",
    "    num = (len(df) - len(df[df[colname] == 0]))/len(df)\n",
    "    print(\"In {}, {} % of colleges do not have an election day voting option on campus.\".format(i, np.round(100*num)))\n",
    "    \n",
    "    num = (len(df[df[colname] > 1]))/len(df)\n",
    "    print(\"In {}, the nearest election day voting option is more than 1 mile from the edge of campus for {} % of colleges.\".format(i, np.round(100*num)))\n",
    "\n",
    "    print()\n",
    "    print()\n",
    "\n",
    "\n",
    "    \n",
    "\n",
    "accident_states_2016 = ['NY','TX','CA','MO','AR','TN','UT','NV','AL','WY','FL','RI','CO','VT','IN','KS','MN','SC','AZ']\n",
    "accident_states_2012 = ['GA','WY','TN','IN','TX','MO','MN','NY','CA']\n",
    "accident_states_2018 = ['ID','VT','TX','CA','NY','MO','MI','OR','KS','FL','IN','TN','AZ','CO','AL','NV','UT','WA','WY','AS']\n",
    "for i,colname,accident in zip([2012,2016,2018,2020],\n",
    "                        ['distances_2012_miles','distances_2016_miles','distances_2018_miles','distances_2020_miles'],\n",
    "                        [accident_states_2012,accident_states_2016,accident_states_2018,[]]):\n",
    "    results(data,i,colname,accident)"
   ]
  },
  {
   "cell_type": "code",
   "execution_count": 48,
   "metadata": {},
   "outputs": [],
   "source": [
    "def google_results(data,i,colname,accident):\n",
    "    print(i)\n",
    "    df=data.dropna(subset=[colname])\n",
    "    df=df[~df['STATE'].isin(accident)]\n",
    "    print(\"The total number of states present:\", len(df.STATE.unique()))\n",
    "    print(\"States present:\", df.STATE.unique())\n",
    "    \n",
    "    #Do not have on campus voting \n",
    "    df=df[df[colname]!=0]\n",
    "\n",
    "\n",
    "\n",
    "\n",
    "\n",
    "    if i==2012:\n",
    "        print(\"Walking\")\n",
    "        print(np.mean(df[['2012_distance_by_walking (miles)']]))\n",
    "        print(np.mean(df[['2012_duration_by_walking (minutes)']]))\n",
    "\n",
    "        print(\"Percentage of Colleges that have less than or equal to 10 mins of walking to nearest polling place:\", \n",
    "                                        round(100*len(df[df['2012_duration_by_walking (minutes)']<=10])/len(df)))\n",
    "        print(\"Percentage of Colleges that have between 10-30 mins of walking to nearest polling place:\", \n",
    "                                        round(100*len(df[(df['2012_duration_by_walking (minutes)']>10) & (df['2012_duration_by_walking (minutes)']<=30)])/len(df)))\n",
    "\n",
    "        print(\"Percentage of Colleges that have greater than 30 mins of walking to nearest polling place:\", \n",
    "                                        round(100*len(df[df['2012_duration_by_walking (minutes)']>30])/len(df)))\n",
    "\n",
    "        \n",
    "        \n",
    "        print(\"Driving\")\n",
    "        print(np.mean(df[['2012_distance_by_driving (miles)']]))\n",
    "        print(np.mean(df[['2012_duration_by_driving (minutes)']]))\n",
    "\n",
    "        print(\"Percentage of Colleges that have less than or equal to 5 mins of driving to nearest polling place:\", \n",
    "                                        round(100*len(df[df['2012_duration_by_driving (minutes)']<=5])/len(df)))\n",
    "        print(\"Percentage of Colleges that have between 5-10 mins of driving to nearest polling place:\", \n",
    "                                        round(100*len(df[(df['2012_duration_by_driving (minutes)']>5) & (df['2012_duration_by_driving (minutes)']<=10)])/len(df)))\n",
    "\n",
    "        print(\"Percentage of Colleges that have greater than 10 mins of driving to nearest polling place:\", \n",
    "                                        round(100*len(df[df['2012_duration_by_driving (minutes)']>10])/len(df)))\n",
    "\n",
    "        \n",
    "\n",
    "\n",
    "        print(\"Transit\")\n",
    "        print(np.mean(df[['2012_distance_by_transit (miles)']]))\n",
    "        print(np.mean(df[['2012_duration_by_transit (minutes)']]))\n",
    "\n",
    "    if i==2016:\n",
    "        print(\"Walking\")\n",
    "        print(np.mean(df[['2016_distance_by_walking (miles)']]))\n",
    "        print(np.mean(df[['2016_duration_by_walking (minutes)']]))\n",
    "   \n",
    "        print(\"Percentage of Colleges that have less than or equal to 10 mins of walking to nearest polling place:\", \n",
    "                                        round(100*len(df[df['2016_duration_by_walking (minutes)']<=10])/len(df)))\n",
    "        print(\"Percentage of Colleges that have between 10-30 mins of walking to nearest polling place:\", \n",
    "                                        round(100*len(df[(df['2016_duration_by_walking (minutes)']>10) & (df['2016_duration_by_walking (minutes)']<=30)])/len(df)))\n",
    "\n",
    "        print(\"Percentage of Colleges that have greater than 30 mins of walking to nearest polling place:\", \n",
    "                                        round(100*len(df[df['2016_duration_by_walking (minutes)']>30])/len(df)))\n",
    "\n",
    "        \n",
    "        print(\"Driving\")\n",
    "        print(np.mean(df[['2016_distance_by_driving (miles)']]))\n",
    "        print(np.mean(df[['2016_duration_by_driving (minutes)']]))\n",
    "\n",
    "        print(\"Percentage of Colleges that have less than or equal to 5 mins of driving to nearest polling place:\", \n",
    "                                        round(100*len(df[df['2016_duration_by_driving (minutes)']<=5])/len(df)))\n",
    "        print(\"Percentage of Colleges that have between 5-10 mins of driving to nearest polling place:\", \n",
    "                                        round(100*len(df[(df['2016_duration_by_driving (minutes)']>5) & (df['2016_duration_by_driving (minutes)']<=10)])/len(df)))\n",
    "\n",
    "        print(\"Percentage of Colleges that have greater than 10 mins of driving to nearest polling place:\", \n",
    "                                        round(100*len(df[df['2016_duration_by_driving (minutes)']>10])/len(df)))\n",
    "\n",
    "\n",
    "        print(\"Transit\")\n",
    "        print(np.mean(df[['2016_distance_by_transit (miles)']]))\n",
    "        print(np.mean(df[['2016_duration_by_transit (minutes)']]))\n",
    "\n",
    "\n",
    "\n",
    "    if i==2018:\n",
    "        print(\"Walking\")\n",
    "        print(np.mean(df[['2018_distance_by_walking (miles)']]))\n",
    "        print(np.mean(df[['2018_duration_by_walking (minutes)']]))\n",
    "\n",
    "        print(\"Percentage of Colleges that have less than or equal to 10 mins of walking to nearest polling place:\", \n",
    "                                        round(100*len(df[df['2018_duration_by_walking (minutes)']<=10])/len(df),2))\n",
    "        print(\"Percentage of Colleges that have between 10-30 mins of walking to nearest polling place:\", \n",
    "                                        round(100*len(df[(df['2018_duration_by_walking (minutes)']>10) & (df['2018_duration_by_walking (minutes)']<=30)])/len(df),2))\n",
    "\n",
    "        print(\"Percentage of Colleges that have greater than 30 mins of walking to nearest polling place:\", \n",
    "                                        round(100*len(df[df['2018_duration_by_walking (minutes)']>30])/len(df),2))\n",
    "\n",
    "        \n",
    "        print(\"Driving\")\n",
    "        print(np.mean(df[['2018_distance_by_driving (miles)']]))\n",
    "        print(np.mean(df[['2018_duration_by_driving (minutes)']]))\n",
    "\n",
    "\n",
    "        print(\"Percentage of Colleges that have less than or equal to 5 mins of driving to nearest polling place:\", \n",
    "                                        round(100*len(df[df['2018_duration_by_driving (minutes)']<=5])/len(df),2))\n",
    "        print(\"Percentage of Colleges that have between 5-10 mins of driving to nearest polling place:\", \n",
    "                                        round(100*len(df[(df['2018_duration_by_driving (minutes)']>5) & (df['2018_duration_by_driving (minutes)']<=10)])/len(df),2))\n",
    "\n",
    "        print(\"Percentage of Colleges that have greater than 10 mins of driving to nearest polling place:\", \n",
    "                                        round(100*len(df[df['2018_duration_by_driving (minutes)']>10])/len(df),2))\n",
    "\n",
    "\n",
    "        print(\"Transit\")\n",
    "        print(np.mean(df[['2018_distance_by_transit (miles)']]))\n",
    "        print(np.mean(df[['2018_duration_by_transit (minutes)']]))\n",
    "\n",
    "\n",
    "\n",
    "    if i==2020:\n",
    "        print(\"Walking\")\n",
    "        print(np.mean(df[['2020_distance_by_walking (miles)']]))\n",
    "        print(np.mean(df[['2020_duration_by_walking (minutes)']]))\n",
    "\n",
    "        print(\"Percentage of Colleges that have less than or equal to 10 mins of walking to nearest polling place:\", \n",
    "                                        round(100*len(df[df['2020_duration_by_walking (minutes)']<=10])/len(df)))\n",
    "        print(\"Percentage of Colleges that have between 10-30 mins of walking to nearest polling place:\", \n",
    "                                        round(100*len(df[(df['2020_duration_by_walking (minutes)']>10) & (df['2020_duration_by_walking (minutes)']<=30)])/len(df)))\n",
    "\n",
    "        print(\"Percentage of Colleges that have greater than 30 mins of walking to nearest polling place:\", \n",
    "                                        round(100*len(df[df['2020_duration_by_walking (minutes)']>30])/len(df)))\n",
    "\n",
    "        \n",
    "\n",
    "        print(\"Driving\")\n",
    "        print(np.mean(df[['2020_distance_by_driving (miles)']]))\n",
    "        print(np.mean(df[['2020_duration_by_driving (minutes)']]))\n",
    "\n",
    "        print(\"Percentage of Colleges that have less than or equal to 5 mins of driving to nearest polling place:\", \n",
    "                                        round(100*len(df[df['2020_duration_by_driving (minutes)']<=5])/len(df)))\n",
    "        print(\"Percentage of Colleges that have between 5-10 mins of driving to nearest polling place:\", \n",
    "                                        round(100*len(df[(df['2020_duration_by_driving (minutes)']>5) & (df['2020_duration_by_driving (minutes)']<=10)])/len(df)))\n",
    "\n",
    "        print(\"Percentage of Colleges that have greater than 10 mins of driving to nearest polling place:\", \n",
    "                                        round(100*len(df[df['2020_duration_by_driving (minutes)']>10])/len(df)))\n",
    "\n",
    "        \n",
    "\n",
    "        print(\"Transit\")\n",
    "        print(np.mean(df[['2020_distance_by_transit (miles)']]))\n",
    "        print(np.mean(df[['2020_duration_by_transit (minutes)']]))\n",
    "\n",
    "\n",
    "\n",
    "    print()\n",
    "    print()\n"
   ]
  },
  {
   "cell_type": "code",
   "execution_count": 49,
   "metadata": {},
   "outputs": [
    {
     "name": "stdout",
     "output_type": "stream",
     "text": [
      "2012\n",
      "The total number of states present: 27\n",
      "States present: ['MA' 'WV' 'MS' 'KY' 'OH' 'OK' 'IL' 'LA' 'ME' 'RI' 'ND' 'MD' 'VA' 'NC'\n",
      " 'MT' 'NE' 'SC' 'IA' 'WI' 'CT' 'AK' 'PA' 'AR' 'NH' 'NJ' 'DE' 'MI']\n",
      "Walking\n",
      "2012_distance_by_walking (miles)    1.567787\n",
      "dtype: float64\n",
      "2012_duration_by_walking (minutes)    29.214508\n",
      "dtype: float64\n",
      "Percentage of Colleges that have less than or equal to 10 mins of walking to nearest polling place: 22\n",
      "Percentage of Colleges that have between 10-30 mins of walking to nearest polling place: 54\n",
      "Percentage of Colleges that have greater than 30 mins of walking to nearest polling place: 24\n",
      "Driving\n",
      "2012_distance_by_driving (miles)    1.591933\n",
      "dtype: float64\n",
      "2012_duration_by_driving (minutes)    4.534715\n",
      "dtype: float64\n",
      "Percentage of Colleges that have less than or equal to 5 mins of driving to nearest polling place: 75\n",
      "Percentage of Colleges that have between 5-10 mins of driving to nearest polling place: 23\n",
      "Percentage of Colleges that have greater than 10 mins of driving to nearest polling place: 3\n",
      "Transit\n",
      "2012_distance_by_transit (miles)    1.328216\n",
      "dtype: float64\n",
      "2012_duration_by_transit (minutes)    21.677419\n",
      "dtype: float64\n",
      "\n",
      "\n",
      "2016\n",
      "The total number of states present: 26\n",
      "States present: ['MA' 'WV' 'MS' 'KY' 'OH' 'OK' 'SD' 'NM' 'IL' 'LA' 'ME' 'ND' 'MD' 'VA'\n",
      " 'NC' 'MT' 'NE' 'IA' 'WI' 'CT' 'AK' 'PA' 'NH' 'NJ' 'DE' 'GA']\n",
      "Walking\n",
      "2016_distance_by_walking (miles)    1.965404\n",
      "dtype: float64\n",
      "2016_duration_by_walking (minutes)    38.192623\n",
      "dtype: float64\n",
      "Percentage of Colleges that have less than or equal to 10 mins of walking to nearest polling place: 18\n",
      "Percentage of Colleges that have between 10-30 mins of walking to nearest polling place: 49\n",
      "Percentage of Colleges that have greater than 30 mins of walking to nearest polling place: 33\n",
      "Driving\n",
      "2016_distance_by_driving (miles)    2.098782\n",
      "dtype: float64\n",
      "2016_duration_by_driving (minutes)    5.530738\n",
      "dtype: float64\n",
      "Percentage of Colleges that have less than or equal to 5 mins of driving to nearest polling place: 64\n",
      "Percentage of Colleges that have between 5-10 mins of driving to nearest polling place: 27\n",
      "Percentage of Colleges that have greater than 10 mins of driving to nearest polling place: 9\n",
      "Transit\n",
      "2016_distance_by_transit (miles)    1.63473\n",
      "dtype: float64\n",
      "2016_duration_by_transit (minutes)    24.209639\n",
      "dtype: float64\n",
      "\n",
      "\n",
      "2018\n",
      "The total number of states present: 30\n",
      "States present: ['MA' 'WV' 'MS' 'KY' 'OH' 'OK' 'SD' 'NM' 'IL' 'LA' 'ME' 'RI' 'ND' 'MD'\n",
      " 'VA' 'NC' 'MT' 'NE' 'SC' 'IA' 'MN' 'WI' 'CT' 'AK' 'PA' 'AR' 'NH' 'NJ'\n",
      " 'DE' 'GA']\n",
      "Walking\n",
      "2018_distance_by_walking (miles)    1.988161\n",
      "dtype: float64\n",
      "2018_duration_by_walking (minutes)    38.693636\n",
      "dtype: float64\n",
      "Percentage of Colleges that have less than or equal to 10 mins of walking to nearest polling place: 17.45\n",
      "Percentage of Colleges that have between 10-30 mins of walking to nearest polling place: 49.09\n",
      "Percentage of Colleges that have greater than 30 mins of walking to nearest polling place: 33.45\n",
      "Driving\n",
      "2018_distance_by_driving (miles)    2.136782\n",
      "dtype: float64\n",
      "2018_duration_by_driving (minutes)    5.565455\n",
      "dtype: float64\n",
      "Percentage of Colleges that have less than or equal to 5 mins of driving to nearest polling place: 64.91\n",
      "Percentage of Colleges that have between 5-10 mins of driving to nearest polling place: 26.09\n",
      "Percentage of Colleges that have greater than 10 mins of driving to nearest polling place: 9.0\n",
      "Transit\n",
      "2018_distance_by_transit (miles)    1.679555\n",
      "dtype: float64\n",
      "2018_duration_by_transit (minutes)    24.277955\n",
      "dtype: float64\n",
      "\n",
      "\n",
      "2020\n",
      "The total number of states present: 35\n",
      "States present: ['MA' 'NV' 'WV' 'OH' 'OK' 'AL' 'NM' 'IL' 'LA' 'ME' 'FL' 'RI' 'ND' 'MD'\n",
      " 'VT' 'VA' 'MO' 'NC' 'UT' 'NE' 'CA' 'SC' 'IA' 'MN' 'IN' 'WI' 'CT' 'AK'\n",
      " 'TX' 'PA' 'AR' 'NH' 'DE' 'MI' 'GA']\n",
      "Walking\n",
      "2020_distance_by_walking (miles)    1.578002\n",
      "dtype: float64\n",
      "2020_duration_by_walking (minutes)    29.828114\n",
      "dtype: float64\n",
      "Percentage of Colleges that have less than or equal to 10 mins of walking to nearest polling place: 19\n",
      "Percentage of Colleges that have between 10-30 mins of walking to nearest polling place: 52\n",
      "Percentage of Colleges that have greater than 30 mins of walking to nearest polling place: 29\n",
      "Driving\n",
      "2020_distance_by_driving (miles)    1.653082\n",
      "dtype: float64\n",
      "2020_duration_by_driving (minutes)    4.876184\n",
      "dtype: float64\n",
      "Percentage of Colleges that have less than or equal to 5 mins of driving to nearest polling place: 68\n",
      "Percentage of Colleges that have between 5-10 mins of driving to nearest polling place: 28\n",
      "Percentage of Colleges that have greater than 10 mins of driving to nearest polling place: 4\n",
      "Transit\n",
      "2020_distance_by_transit (miles)    1.507174\n",
      "dtype: float64\n",
      "2020_duration_by_transit (minutes)    23.213023\n",
      "dtype: float64\n",
      "\n",
      "\n"
     ]
    }
   ],
   "source": [
    "\n",
    "accident_states_2016 = ['NY','TX','CA','MO','AR','TN','UT','NV','AL','WY','FL','RI','CO','VT','IN','KS','MN','SC','AZ']\n",
    "accident_states_2012 = ['GA','WY','TN','IN','TX','MO','MN','NY','CA']\n",
    "accident_states_2018 = ['ID','VT','TX','CA','NY','MO','MI','OR','KS','FL','IN','TN','AZ','CO','AL','NV','UT','WA','WY','AS']\n",
    "\n",
    "for i,colname,accident in zip([2012,2016,2018,2020],\n",
    "                        ['distances_2012_miles','distances_2016_miles','distances_2018_miles','distances_2020_miles'],\n",
    "                        [accident_states_2012,accident_states_2016,accident_states_2018,[]]):\n",
    "    google_results(data,i,colname,accident)"
   ]
  },
  {
   "cell_type": "code",
   "execution_count": null,
   "metadata": {},
   "outputs": [],
   "source": []
  },
  {
   "cell_type": "code",
   "execution_count": null,
   "metadata": {},
   "outputs": [],
   "source": []
  },
  {
   "cell_type": "code",
   "execution_count": null,
   "metadata": {},
   "outputs": [],
   "source": []
  },
  {
   "cell_type": "code",
   "execution_count": null,
   "metadata": {},
   "outputs": [],
   "source": []
  },
  {
   "cell_type": "code",
   "execution_count": null,
   "metadata": {},
   "outputs": [],
   "source": []
  },
  {
   "cell_type": "code",
   "execution_count": null,
   "metadata": {},
   "outputs": [],
   "source": []
  },
  {
   "cell_type": "code",
   "execution_count": null,
   "metadata": {},
   "outputs": [],
   "source": []
  },
  {
   "cell_type": "code",
   "execution_count": null,
   "metadata": {},
   "outputs": [],
   "source": []
  },
  {
   "cell_type": "markdown",
   "metadata": {},
   "source": [
    "# Practice"
   ]
  },
  {
   "cell_type": "code",
   "execution_count": 67,
   "metadata": {},
   "outputs": [
    {
     "data": {
      "text/plain": [
       "421"
      ]
     },
     "execution_count": 67,
     "metadata": {},
     "output_type": "execute_result"
    }
   ],
   "source": [
    "#Noticing that there are 421 missing rows in distances - we exclude them for 2012 analysis\n",
    "sum(pd.isna(data['distances_2012_miles']))"
   ]
  },
  {
   "cell_type": "code",
   "execution_count": 68,
   "metadata": {},
   "outputs": [
    {
     "data": {
      "text/plain": [
       "2372"
      ]
     },
     "execution_count": 68,
     "metadata": {},
     "output_type": "execute_result"
    }
   ],
   "source": [
    "len(data)"
   ]
  },
  {
   "cell_type": "code",
   "execution_count": 69,
   "metadata": {},
   "outputs": [],
   "source": [
    "data_2012=data.dropna(subset=['distances_2012_miles'])"
   ]
  },
  {
   "cell_type": "code",
   "execution_count": 70,
   "metadata": {},
   "outputs": [],
   "source": [
    "#36 States present in 2012 analysis\n",
    "data_2012.STATE.unique()\n",
    "accident_states_2012 = ['GA','WY','TN','IN','TX','MO','MN','NY','CA']\n",
    "data_2012=data_2012[~data_2012['STATE'].isin(accident_states_2012)]\n"
   ]
  },
  {
   "cell_type": "code",
   "execution_count": 71,
   "metadata": {},
   "outputs": [
    {
     "name": "stdout",
     "output_type": "stream",
     "text": [
      "18.86% of campuses have election day on campus voting in 2012\n"
     ]
    }
   ],
   "source": [
    "#On Campus Polling Place\n",
    "oncampus=sum(data_2012['distances_2012_miles']==0)/len(data_2012)\n",
    "print(\"{}% of campuses have election day on campus voting in 2012\".format(round(sum(data_2012['distances_2012_miles']==0)/len(data_2012)*100,3)))"
   ]
  },
  {
   "cell_type": "code",
   "execution_count": 73,
   "metadata": {},
   "outputs": [
    {
     "data": {
      "text/plain": [
       "0.8113998323554066"
      ]
     },
     "execution_count": 73,
     "metadata": {},
     "output_type": "execute_result"
    }
   ],
   "source": [
    "len(data_2012[data_2012['distances_2012_miles']!=0])/len(data_2012)"
   ]
  },
  {
   "cell_type": "code",
   "execution_count": 83,
   "metadata": {},
   "outputs": [
    {
     "name": "stdout",
     "output_type": "stream",
     "text": [
      "In 2012, 85.75 % of colleges have its nearest polling place less than 1 mile from the college edge\n"
     ]
    }
   ],
   "source": [
    "print(\"In {}, {} % of colleges have its nearest polling place less than 1 mile from the college edge\"\n",
    ".format(2012,round(100*(len(data_2012[(data_2012['distances_2012_miles']<1)])/len(data_2012)),3)))"
   ]
  },
  {
   "cell_type": "code",
   "execution_count": 84,
   "metadata": {},
   "outputs": [
    {
     "name": "stdout",
     "output_type": "stream",
     "text": [
      "In 2012, 11.735 % of colleges have its nearest polling place between greater than or equal to 1 mile and less than 3 miles from the college edge\n"
     ]
    }
   ],
   "source": [
    "print(\"In {}, {} % of colleges have its nearest polling place between greater than or equal to 1 mile and less than 3 miles from the college edge\"\n",
    ".format(2012, round(100*(len(data_2012[(data_2012['distances_2012_miles']>=1) & (data_2012['distances_2012_miles']<3)])/len(data_2012)),3)))"
   ]
  },
  {
   "cell_type": "code",
   "execution_count": 85,
   "metadata": {},
   "outputs": [
    {
     "name": "stdout",
     "output_type": "stream",
     "text": [
      "In 2012, 2.515 % of colleges have its nearest polling place between greater than than 3 miles from the college edge\n"
     ]
    }
   ],
   "source": [
    "print(\"In {}, {} % of colleges have its nearest polling place between greater than than 3 miles from the college edge\"\n",
    ".format(2012, round(100*(len(data_2012[(data_2012['distances_2012_miles']>3)])/len(data_2012)),3)))"
   ]
  },
  {
   "cell_type": "markdown",
   "metadata": {},
   "source": []
  }
 ],
 "metadata": {
  "interpreter": {
   "hash": "978425f60fb964c9c7597e43bce9b8271f41153cf5269d337f4ded145b1410d0"
  },
  "kernelspec": {
   "display_name": "Python 3",
   "language": "python",
   "name": "python3"
  },
  "language_info": {
   "codemirror_mode": {
    "name": "ipython",
    "version": 3
   },
   "file_extension": ".py",
   "mimetype": "text/x-python",
   "name": "python",
   "nbconvert_exporter": "python",
   "pygments_lexer": "ipython3",
   "version": "3.9.9"
  }
 },
 "nbformat": 4,
 "nbformat_minor": 4
}
