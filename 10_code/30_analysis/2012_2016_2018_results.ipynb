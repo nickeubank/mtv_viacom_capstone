{
 "cells": [
  {
   "cell_type": "code",
   "execution_count": 1,
   "metadata": {},
   "outputs": [],
   "source": [
    "import pandas as pd\n",
    "import numpy as np"
   ]
  },
  {
   "cell_type": "code",
   "execution_count": 2,
   "metadata": {},
   "outputs": [],
   "source": [
    "data=pd.read_csv(\"../../20_intermediate_files/30_campuses_w_dist_to_nearest_pp.csv\")"
   ]
  },
  {
   "cell_type": "code",
   "execution_count": 3,
   "metadata": {},
   "outputs": [
    {
     "data": {
      "text/plain": [
       "Index(['Unnamed: 0', 'Unnamed: 0.1', 'Unnamed: 0.1.1', 'Unnamed: 0.1.1.1',\n",
       "       'UNIQUEID', 'NAME', 'ADDRESS', 'CITY', 'STATE', 'ZIP',\n",
       "       ...\n",
       "       '2016_distance_by_driving (miles)',\n",
       "       '2016_duration_by_driving (minutes)',\n",
       "       '2016_distance_by_transit (miles)',\n",
       "       '2016_duration_by_transit (minutes)',\n",
       "       '2018_distance_by_walking (miles)',\n",
       "       '2018_duration_by_walking (minutes)',\n",
       "       '2018_distance_by_driving (miles)',\n",
       "       '2018_duration_by_driving (minutes)',\n",
       "       '2018_distance_by_transit (miles)',\n",
       "       '2018_duration_by_transit (minutes)'],\n",
       "      dtype='object', length=101)"
      ]
     },
     "execution_count": 3,
     "metadata": {},
     "output_type": "execute_result"
    }
   ],
   "source": [
    "data.columns"
   ]
  },
  {
   "cell_type": "code",
   "execution_count": 4,
   "metadata": {},
   "outputs": [],
   "source": [
    "data['distances_2012_miles']=0.000621371*data['distances_2012']\n",
    "data['distances_2016_miles']=0.000621371*data['distances_2016']\n",
    "data['distances_2018_miles']=0.000621371*data['distances_2018']\n",
    "data['distances_2020_miles']=0.000621371*data['distances_2020']\n",
    "\n",
    "\n"
   ]
  },
  {
   "cell_type": "code",
   "execution_count": 5,
   "metadata": {},
   "outputs": [
    {
     "name": "stdout",
     "output_type": "stream",
     "text": [
      "2012\n",
      "The total number of states present: 27\n",
      "States present: ['MA' 'WV' 'MS' 'KY' 'OH' 'OK' 'IL' 'LA' 'ME' 'RI' 'ND' 'MD' 'VA' 'NC'\n",
      " 'MT' 'NE' 'SC' 'IA' 'WI' 'CT' 'AK' 'PA' 'AR' 'NH' 'NJ' 'DE' 'MI']\n",
      "18.839% of campuses have election day on campus voting in 2012\n",
      "In 2012, 85.702 % of colleges have its nearest polling place less than 1 mile from the college edge\n",
      "In 2012, 11.775 % of colleges have its nearest polling place between greater than or equal to 1 mile and less than 3 miles from the college edge\n",
      "In 2012, 2.523 % of colleges have its nearest polling place between greater than than 3 miles from the college edge\n",
      "In 2012, 81.0 % of colleges do not have an election day voting option on campus.\n",
      "In 2012, the nearest election day voting option is more than 1 mile from the edge of campus for 14.0 % of colleges.\n",
      "\n",
      "\n",
      "2016\n",
      "The total number of states present: 26\n",
      "States present: ['MA' 'WV' 'MS' 'KY' 'OH' 'OK' 'SD' 'NM' 'IL' 'LA' 'ME' 'ND' 'MD' 'VA'\n",
      " 'NC' 'MT' 'NE' 'IA' 'WI' 'CT' 'AK' 'PA' 'NH' 'NJ' 'DE' 'GA']\n",
      "14.983% of campuses have election day on campus voting in 2016\n",
      "In 2016, 77.091 % of colleges have its nearest polling place less than 1 mile from the college edge\n",
      "In 2016, 16.376 % of colleges have its nearest polling place between greater than or equal to 1 mile and less than 3 miles from the college edge\n",
      "In 2016, 6.533 % of colleges have its nearest polling place between greater than than 3 miles from the college edge\n",
      "In 2016, 85.0 % of colleges do not have an election day voting option on campus.\n",
      "In 2016, the nearest election day voting option is more than 1 mile from the edge of campus for 23.0 % of colleges.\n",
      "\n",
      "\n",
      "2018\n",
      "The total number of states present: 30\n",
      "States present: ['MA' 'WV' 'MS' 'KY' 'OH' 'OK' 'SD' 'NM' 'IL' 'LA' 'ME' 'RI' 'ND' 'MD'\n",
      " 'VA' 'NC' 'MT' 'NE' 'SC' 'IA' 'MN' 'WI' 'CT' 'AK' 'PA' 'AR' 'NH' 'NJ'\n",
      " 'DE' 'GA']\n",
      "16.031% of campuses have election day on campus voting in 2018\n",
      "In 2018, 77.557 % of colleges have its nearest polling place less than 1 mile from the college edge\n",
      "In 2018, 16.031 % of colleges have its nearest polling place between greater than or equal to 1 mile and less than 3 miles from the college edge\n",
      "In 2018, 6.412 % of colleges have its nearest polling place between greater than than 3 miles from the college edge\n",
      "In 2018, 84.0 % of colleges do not have an election day voting option on campus.\n",
      "In 2018, the nearest election day voting option is more than 1 mile from the edge of campus for 22.0 % of colleges.\n",
      "\n",
      "\n",
      "2020\n",
      "The total number of states present: 35\n",
      "States present: ['MA' 'NV' 'WV' 'OH' 'OK' 'AL' 'NM' 'IL' 'LA' 'ME' 'FL' 'RI' 'ND' 'MD'\n",
      " 'VT' 'VA' 'MO' 'NC' 'UT' 'NE' 'CA' 'SC' 'IA' 'MN' 'IN' 'WI' 'CT' 'AK'\n",
      " 'TX' 'PA' 'AR' 'NH' 'DE' 'MI' 'GA']\n",
      "24.186% of campuses have election day on campus voting in 2020\n",
      "In 2020, 84.263 % of colleges have its nearest polling place less than 1 mile from the college edge\n",
      "In 2020, 13.363 % of colleges have its nearest polling place between greater than or equal to 1 mile and less than 3 miles from the college edge\n",
      "In 2020, 2.374 % of colleges have its nearest polling place between greater than than 3 miles from the college edge\n",
      "In 2020, 76.0 % of colleges do not have an election day voting option on campus.\n",
      "In 2020, the nearest election day voting option is more than 1 mile from the edge of campus for 16.0 % of colleges.\n",
      "\n",
      "\n"
     ]
    }
   ],
   "source": [
    "def results(data,i,colname,accident):\n",
    "    print(i)\n",
    "    df=data.dropna(subset=[colname])\n",
    "    df=df[~df['STATE'].isin(accident)]\n",
    "    print(\"The total number of states present:\", len(df.STATE.unique()))\n",
    "    print(\"States present:\", df.STATE.unique())\n",
    "    \n",
    "    print(\"{}% of campuses have election day on campus voting in {}\".format(round(sum(df[colname]==0)/len(df)*100,3),i))\n",
    "    \n",
    "    print(\"In {}, {} % of colleges have its nearest polling place less than 1 mile from the college edge\"\n",
    "    .format(i,round(100*(len(df[(df[colname]<1)])/len(df)),3)))\n",
    "\n",
    "    print(\"In {}, {} % of colleges have its nearest polling place between greater than or equal to 1 mile and less than 3 miles from the college edge\"\n",
    "    .format(i, round(100*(len(df[(df[colname]>=1) & (df[colname]<3)])/len(df)),3)))\n",
    "\n",
    "    print(\"In {}, {} % of colleges have its nearest polling place between greater than than 3 miles from the college edge\"\n",
    "    .format(i, round(100*(len(df[(df[colname]>3)])/len(df)),3)))\n",
    "    \n",
    "    num = (len(df) - len(df[df[colname] == 0]))/len(df)\n",
    "    print(\"In {}, {} % of colleges do not have an election day voting option on campus.\".format(i, np.round(100*num)))\n",
    "    \n",
    "    num = (len(df[df[colname] > 1]))/len(df)\n",
    "    print(\"In {}, the nearest election day voting option is more than 1 mile from the edge of campus for {} % of colleges.\".format(i, np.round(100*num)))\n",
    "\n",
    "    print()\n",
    "    print()\n",
    "\n",
    "accident_states_2016 = ['NY','TX','CA','MO','AR','TN','UT','NV','AL','WY','FL','RI','CO','VT','IN','KS','MN','SC','AZ']\n",
    "accident_states_2012 = ['GA','WY','TN','IN','TX','MO','MN','NY','CA']\n",
    "accident_states_2018 = ['ID','VT','TX','CA','NY','MO','MI','OR','KS','FL','IN','TN','AZ','CO','AL','NV','UT','WA','WY','AS']\n",
    "for i,colname,accident in zip([2012,2016,2018,2020],\n",
    "                        ['distances_2012_miles','distances_2016_miles','distances_2018_miles','distances_2020_miles'],\n",
    "                        [accident_states_2012,accident_states_2016,accident_states_2018,[]]):\n",
    "    results(data,i,colname,accident)"
   ]
  },
  {
   "cell_type": "markdown",
   "metadata": {},
   "source": [
    "# Practice"
   ]
  },
  {
   "cell_type": "code",
   "execution_count": 67,
   "metadata": {},
   "outputs": [
    {
     "data": {
      "text/plain": [
       "421"
      ]
     },
     "execution_count": 67,
     "metadata": {},
     "output_type": "execute_result"
    }
   ],
   "source": [
    "#Noticing that there are 421 missing rows in distances - we exclude them for 2012 analysis\n",
    "sum(pd.isna(data['distances_2012_miles']))"
   ]
  },
  {
   "cell_type": "code",
   "execution_count": 68,
   "metadata": {},
   "outputs": [
    {
     "data": {
      "text/plain": [
       "2372"
      ]
     },
     "execution_count": 68,
     "metadata": {},
     "output_type": "execute_result"
    }
   ],
   "source": [
    "len(data)"
   ]
  },
  {
   "cell_type": "code",
   "execution_count": 69,
   "metadata": {},
   "outputs": [],
   "source": [
    "data_2012=data.dropna(subset=['distances_2012_miles'])"
   ]
  },
  {
   "cell_type": "code",
   "execution_count": 70,
   "metadata": {},
   "outputs": [],
   "source": [
    "#36 States present in 2012 analysis\n",
    "data_2012.STATE.unique()\n",
    "accident_states_2012 = ['GA','WY','TN','IN','TX','MO','MN','NY','CA']\n",
    "data_2012=data_2012[~data_2012['STATE'].isin(accident_states_2012)]\n"
   ]
  },
  {
   "cell_type": "code",
   "execution_count": 71,
   "metadata": {},
   "outputs": [
    {
     "name": "stdout",
     "output_type": "stream",
     "text": [
      "18.86% of campuses have election day on campus voting in 2012\n"
     ]
    }
   ],
   "source": [
    "#On Campus Polling Place\n",
    "oncampus=sum(data_2012['distances_2012_miles']==0)/len(data_2012)\n",
    "print(\"{}% of campuses have election day on campus voting in 2012\".format(round(sum(data_2012['distances_2012_miles']==0)/len(data_2012)*100,3)))"
   ]
  },
  {
   "cell_type": "code",
   "execution_count": 73,
   "metadata": {},
   "outputs": [
    {
     "data": {
      "text/plain": [
       "0.8113998323554066"
      ]
     },
     "execution_count": 73,
     "metadata": {},
     "output_type": "execute_result"
    }
   ],
   "source": [
    "len(data_2012[data_2012['distances_2012_miles']!=0])/len(data_2012)"
   ]
  },
  {
   "cell_type": "code",
   "execution_count": 83,
   "metadata": {},
   "outputs": [
    {
     "name": "stdout",
     "output_type": "stream",
     "text": [
      "In 2012, 85.75 % of colleges have its nearest polling place less than 1 mile from the college edge\n"
     ]
    }
   ],
   "source": [
    "print(\"In {}, {} % of colleges have its nearest polling place less than 1 mile from the college edge\"\n",
    ".format(2012,round(100*(len(data_2012[(data_2012['distances_2012_miles']<1)])/len(data_2012)),3)))"
   ]
  },
  {
   "cell_type": "code",
   "execution_count": 84,
   "metadata": {},
   "outputs": [
    {
     "name": "stdout",
     "output_type": "stream",
     "text": [
      "In 2012, 11.735 % of colleges have its nearest polling place between greater than or equal to 1 mile and less than 3 miles from the college edge\n"
     ]
    }
   ],
   "source": [
    "print(\"In {}, {} % of colleges have its nearest polling place between greater than or equal to 1 mile and less than 3 miles from the college edge\"\n",
    ".format(2012, round(100*(len(data_2012[(data_2012['distances_2012_miles']>=1) & (data_2012['distances_2012_miles']<3)])/len(data_2012)),3)))"
   ]
  },
  {
   "cell_type": "code",
   "execution_count": 85,
   "metadata": {},
   "outputs": [
    {
     "name": "stdout",
     "output_type": "stream",
     "text": [
      "In 2012, 2.515 % of colleges have its nearest polling place between greater than than 3 miles from the college edge\n"
     ]
    }
   ],
   "source": [
    "print(\"In {}, {} % of colleges have its nearest polling place between greater than than 3 miles from the college edge\"\n",
    ".format(2012, round(100*(len(data_2012[(data_2012['distances_2012_miles']>3)])/len(data_2012)),3)))"
   ]
  },
  {
   "cell_type": "markdown",
   "metadata": {},
   "source": []
  }
 ],
 "metadata": {
  "interpreter": {
   "hash": "978425f60fb964c9c7597e43bce9b8271f41153cf5269d337f4ded145b1410d0"
  },
  "kernelspec": {
   "display_name": "Python 3",
   "language": "python",
   "name": "python3"
  },
  "language_info": {
   "codemirror_mode": {
    "name": "ipython",
    "version": 3
   },
   "file_extension": ".py",
   "mimetype": "text/x-python",
   "name": "python",
   "nbconvert_exporter": "python",
   "pygments_lexer": "ipython3",
   "version": "3.9.9"
  }
 },
 "nbformat": 4,
 "nbformat_minor": 4
}
