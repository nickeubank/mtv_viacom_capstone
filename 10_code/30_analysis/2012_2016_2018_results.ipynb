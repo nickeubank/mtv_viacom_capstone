{
 "cells": [
  {
   "cell_type": "code",
   "execution_count": 63,
   "metadata": {},
   "outputs": [],
   "source": [
    "import pandas as pd\n",
    "import numpy as np"
   ]
  },
  {
   "cell_type": "code",
   "execution_count": 64,
   "metadata": {},
   "outputs": [],
   "source": [
    "data=pd.read_csv(\"../../20_intermediate_files/30_campuses_w_dist_to_nearest_pp.csv\")"
   ]
  },
  {
   "cell_type": "code",
   "execution_count": 65,
   "metadata": {},
   "outputs": [
    {
     "data": {
      "text/plain": [
       "Index(['Unnamed: 0', 'UNIQUEID', 'NAME', 'ADDRESS', 'CITY', 'STATE', 'ZIP',\n",
       "       'ZIP4', 'TELEPHONE', 'TYPE', 'STATUS', 'POPULATION', 'COUNTY',\n",
       "       'COUNTYFIPS', 'COUNTRY', 'NAICS_CODE', 'NAICS_DESC', 'SOURCE',\n",
       "       'SOURCEDATE', 'VAL_METHOD', 'VAL_DATE', 'WEBSITE', 'TOT_ENROLL',\n",
       "       'TOT_EMP', 'SHELTERID', 'preprocessed_name', 'centroid_x_epsg_102005',\n",
       "       'centroid_y_epsg_102005', 'centroid_long', 'centroid_lat', 'OPE ID',\n",
       "       'IPED ID', 'School Name', 'Institution Type', '# of Nat'l AP Partners',\n",
       "       '# of Partners', 'Civic Holiday', 'MSI', 'NSLVE', 'NSLVE\\n2014',\n",
       "       '2016 NSLVE Report', '2018 NSLVE Reports', '2016 Action Plan',\n",
       "       '2018 Action Plan', '2020 Action Plan', 'Campus Contact', 'Longitude',\n",
       "       'Latitude', 'Pell Grant %', 'BIPOC %',\n",
       "       'American Indian or Alaskan Native', 'Asian',\n",
       "       'Black or African American', 'Hispanic or Latinx', 'NHPI',\n",
       "       'Two or more Races', 'geometry', 'index_right', 'state_2020',\n",
       "       'Latitude_2020', 'Longitude_2020', 'distances_2020',\n",
       "       'Latitude_2020_early', 'Longitude_2020_early', 'distances_2020_early',\n",
       "       'Latitude_2012', 'Longitude_2012', 'distances_2012', 'Latitude_2016',\n",
       "       'Longitude_2016', 'distances_2016', 'Latitude_2018', 'Longitude_2018',\n",
       "       'distances_2018', 'Latitude_starbucks', 'Longitude_starbucks',\n",
       "       'distances_starbucks', 'Latitude_target', 'Longitude_target',\n",
       "       'distances_target'],\n",
       "      dtype='object')"
      ]
     },
     "execution_count": 65,
     "metadata": {},
     "output_type": "execute_result"
    }
   ],
   "source": [
    "data.columns"
   ]
  },
  {
   "cell_type": "code",
   "execution_count": 66,
   "metadata": {},
   "outputs": [],
   "source": [
    "data['distances_2012_miles']=0.000621371*data['distances_2012']\n",
    "data['distances_2016_miles']=0.000621371*data['distances_2016']\n",
    "data['distances_2018_miles']=0.000621371*data['distances_2018']\n",
    "\n"
   ]
  },
  {
   "cell_type": "code",
   "execution_count": 87,
   "metadata": {},
   "outputs": [
    {
     "name": "stdout",
     "output_type": "stream",
     "text": [
      "2012\n",
      "The total number of states present: 27\n",
      "States present: ['MA' 'WV' 'MS' 'KY' 'OH' 'OK' 'IL' 'LA' 'ME' 'RI' 'ND' 'MD' 'VA' 'NC'\n",
      " 'MT' 'NE' 'SC' 'IA' 'WI' 'CT' 'AK' 'PA' 'AR' 'NH' 'NJ' 'DE' 'MI']\n",
      "18.86% of campuses have election day on campus voting in 2012\n",
      "In 2012, 85.75 % of colleges have its nearest polling place less than 1 mile from the college edge\n",
      "In 2012, 11.735 % of colleges have its nearest polling place between greater than or equal to 1 mile and less than 3 miles from the college edge\n",
      "In 2012, 2.515 % of colleges have its nearest polling place between greater than than 3 miles from the college edge\n",
      "\n",
      "\n",
      "2016\n",
      "The total number of states present: 26\n",
      "States present: ['MA' 'WV' 'MS' 'KY' 'OH' 'OK' 'SD' 'NM' 'IL' 'LA' 'ME' 'ND' 'MD' 'VA'\n",
      " 'NC' 'MT' 'NE' 'IA' 'WI' 'CT' 'AK' 'PA' 'NH' 'NJ' 'DE' 'GA']\n",
      "17.274% of campuses have election day on campus voting in 2016\n",
      "In 2016, 77.083 % of colleges have its nearest polling place less than 1 mile from the college edge\n",
      "In 2016, 16.406 % of colleges have its nearest polling place between greater than or equal to 1 mile and less than 3 miles from the college edge\n",
      "In 2016, 6.51 % of colleges have its nearest polling place between greater than than 3 miles from the college edge\n",
      "\n",
      "\n",
      "2018\n",
      "The total number of states present: 30\n",
      "States present: ['MA' 'WV' 'MS' 'KY' 'OH' 'OK' 'SD' 'NM' 'IL' 'LA' 'ME' 'RI' 'ND' 'MD'\n",
      " 'VA' 'NC' 'MT' 'NE' 'SC' 'IA' 'MN' 'WI' 'CT' 'AK' 'PA' 'AR' 'NH' 'NJ'\n",
      " 'DE' 'GA']\n",
      "16.438% of campuses have election day on campus voting in 2018\n",
      "In 2018, 77.549 % of colleges have its nearest polling place less than 1 mile from the college edge\n",
      "In 2018, 16.058 % of colleges have its nearest polling place between greater than or equal to 1 mile and less than 3 miles from the college edge\n",
      "In 2018, 6.393 % of colleges have its nearest polling place between greater than than 3 miles from the college edge\n",
      "\n",
      "\n"
     ]
    }
   ],
   "source": [
    "def results(data,i,colname,accident):\n",
    "    print(i)\n",
    "    df=data.dropna(subset=[colname])\n",
    "    df=df[~df['STATE'].isin(accident)]\n",
    "    print(\"The total number of states present:\", len(df.STATE.unique()))\n",
    "    print(\"States present:\", df.STATE.unique())\n",
    "    \n",
    "    print(\"{}% of campuses have election day on campus voting in {}\".format(round(sum(df['distances_2012_miles']==0)/len(df)*100,3),i))\n",
    "    \n",
    "    print(\"In {}, {} % of colleges have its nearest polling place less than 1 mile from the college edge\"\n",
    "    .format(i,round(100*(len(df[(df[colname]<1)])/len(df)),3)))\n",
    "\n",
    "    print(\"In {}, {} % of colleges have its nearest polling place between greater than or equal to 1 mile and less than 3 miles from the college edge\"\n",
    "    .format(i, round(100*(len(df[(df[colname]>=1) & (df[colname]<3)])/len(df)),3)))\n",
    "\n",
    "    print(\"In {}, {} % of colleges have its nearest polling place between greater than than 3 miles from the college edge\"\n",
    "    .format(i, round(100*(len(df[(df[colname]>3)])/len(df)),3)))\n",
    "\n",
    "    print()\n",
    "    print()\n",
    "\n",
    "accident_states_2016 = ['NY','TX','CA','MO','AR','TN','UT','NV','AL','WY','FL','RI','CO','VT','IN','KS','MN','SC','AZ']\n",
    "accident_states_2012 = ['GA','WY','TN','IN','TX','MO','MN','NY','CA']\n",
    "accident_states_2018 = ['ID','VT','TX','CA','NY','MO','MI','OR','KS','FL','IN','TN','AZ','CO','AL','NV','UT','WA','WY','AS']\n",
    "for i,colname,accident in zip([2012,2016,2018],\n",
    "                        ['distances_2012_miles','distances_2016_miles','distances_2018_miles'],\n",
    "                        [accident_states_2012,accident_states_2016,accident_states_2018]):\n",
    "    results(data,i,colname,accident)"
   ]
  },
  {
   "cell_type": "markdown",
   "metadata": {},
   "source": [
    "# Practice"
   ]
  },
  {
   "cell_type": "markdown",
   "metadata": {},
   "source": [
    "####### 2012"
   ]
  },
  {
   "cell_type": "code",
   "execution_count": 67,
   "metadata": {},
   "outputs": [
    {
     "data": {
      "text/plain": [
       "421"
      ]
     },
     "execution_count": 67,
     "metadata": {},
     "output_type": "execute_result"
    }
   ],
   "source": [
    "#Noticing that there are 421 missing rows in distances - we exclude them for 2012 analysis\n",
    "sum(pd.isna(data['distances_2012_miles']))"
   ]
  },
  {
   "cell_type": "code",
   "execution_count": 68,
   "metadata": {},
   "outputs": [
    {
     "data": {
      "text/plain": [
       "2372"
      ]
     },
     "execution_count": 68,
     "metadata": {},
     "output_type": "execute_result"
    }
   ],
   "source": [
    "len(data)"
   ]
  },
  {
   "cell_type": "code",
   "execution_count": 69,
   "metadata": {},
   "outputs": [],
   "source": [
    "data_2012=data.dropna(subset=['distances_2012_miles'])"
   ]
  },
  {
   "cell_type": "code",
   "execution_count": 70,
   "metadata": {},
   "outputs": [],
   "source": [
    "#36 States present in 2012 analysis\n",
    "data_2012.STATE.unique()\n",
    "accident_states_2012 = ['GA','WY','TN','IN','TX','MO','MN','NY','CA']\n",
    "data_2012=data_2012[~data_2012['STATE'].isin(accident_states_2012)]\n"
   ]
  },
  {
   "cell_type": "code",
   "execution_count": 71,
   "metadata": {},
   "outputs": [
    {
     "name": "stdout",
     "output_type": "stream",
     "text": [
      "18.86% of campuses have election day on campus voting in 2012\n"
     ]
    }
   ],
   "source": [
    "#On Campus Polling Place\n",
    "oncampus=sum(data_2012['distances_2012_miles']==0)/len(data_2012)\n",
    "print(\"{}% of campuses have election day on campus voting in 2012\".format(round(sum(data_2012['distances_2012_miles']==0)/len(data_2012)*100,3)))"
   ]
  },
  {
   "cell_type": "code",
   "execution_count": 73,
   "metadata": {},
   "outputs": [
    {
     "data": {
      "text/plain": [
       "0.8113998323554066"
      ]
     },
     "execution_count": 73,
     "metadata": {},
     "output_type": "execute_result"
    }
   ],
   "source": [
    "len(data_2012[data_2012['distances_2012_miles']!=0])/len(data_2012)"
   ]
  },
  {
   "cell_type": "code",
   "execution_count": 83,
   "metadata": {},
   "outputs": [
    {
     "name": "stdout",
     "output_type": "stream",
     "text": [
      "In 2012, 85.75 % of colleges have its nearest polling place less than 1 mile from the college edge\n"
     ]
    }
   ],
   "source": [
    "print(\"In {}, {} % of colleges have its nearest polling place less than 1 mile from the college edge\"\n",
    ".format(2012,round(100*(len(data_2012[(data_2012['distances_2012_miles']<1)])/len(data_2012)),3)))"
   ]
  },
  {
   "cell_type": "code",
   "execution_count": 84,
   "metadata": {},
   "outputs": [
    {
     "name": "stdout",
     "output_type": "stream",
     "text": [
      "In 2012, 11.735 % of colleges have its nearest polling place between greater than or equal to 1 mile and less than 3 miles from the college edge\n"
     ]
    }
   ],
   "source": [
    "print(\"In {}, {} % of colleges have its nearest polling place between greater than or equal to 1 mile and less than 3 miles from the college edge\"\n",
    ".format(2012, round(100*(len(data_2012[(data_2012['distances_2012_miles']>=1) & (data_2012['distances_2012_miles']<3)])/len(data_2012)),3)))"
   ]
  },
  {
   "cell_type": "code",
   "execution_count": 85,
   "metadata": {},
   "outputs": [
    {
     "name": "stdout",
     "output_type": "stream",
     "text": [
      "In 2012, 2.515 % of colleges have its nearest polling place between greater than than 3 miles from the college edge\n"
     ]
    }
   ],
   "source": [
    "print(\"In {}, {} % of colleges have its nearest polling place between greater than than 3 miles from the college edge\"\n",
    ".format(2012, round(100*(len(data_2012[(data_2012['distances_2012_miles']>3)])/len(data_2012)),3)))"
   ]
  },
  {
   "cell_type": "markdown",
   "metadata": {},
   "source": []
  }
 ],
 "metadata": {
  "interpreter": {
   "hash": "978425f60fb964c9c7597e43bce9b8271f41153cf5269d337f4ded145b1410d0"
  },
  "kernelspec": {
   "display_name": "Python 3.9.9 64-bit ('geo_final': conda)",
   "language": "python",
   "name": "python3"
  },
  "language_info": {
   "codemirror_mode": {
    "name": "ipython",
    "version": 3
   },
   "file_extension": ".py",
   "mimetype": "text/x-python",
   "name": "python",
   "nbconvert_exporter": "python",
   "pygments_lexer": "ipython3",
   "version": "3.9.9"
  },
  "orig_nbformat": 4
 },
 "nbformat": 4,
 "nbformat_minor": 2
}
