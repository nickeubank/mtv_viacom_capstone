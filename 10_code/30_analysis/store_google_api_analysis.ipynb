{
 "cells": [
  {
   "cell_type": "code",
   "execution_count": null,
   "metadata": {},
   "outputs": [],
   "source": []
  }
 ],
 "metadata": {
  "interpreter": {
   "hash": "037f9c9fb1937728a17c634c929e5b70e1d57e7eb01fba9ce1f1d953d6845e8b"
  },
  "kernelspec": {
   "display_name": "Python 3.7.11 64-bit ('geo': conda)",
   "language": "python",
   "name": "python3"
  },
  "language_info": {
   "name": "python",
   "version": "3.7.11"
  },
  "orig_nbformat": 4
 },
 "nbformat": 4,
 "nbformat_minor": 2
}
