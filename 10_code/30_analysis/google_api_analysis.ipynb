{
 "cells": [
  {
   "cell_type": "code",
   "execution_count": 99,
   "metadata": {},
   "outputs": [],
   "source": [
    "import geopandas as gpd\n",
    "import pandas as pd\n",
    "import json\n",
    "import numpy as np\n",
    "pd.options.display.max_rows=200"
   ]
  },
  {
   "cell_type": "code",
   "execution_count": 100,
   "metadata": {},
   "outputs": [
    {
     "name": "stdout",
     "output_type": "stream",
     "text": [
      "/Users/pranavmanjunath/Library/Mobile Documents/com~apple~CloudDocs/mtv_viacom_capstone/10_code/30_analysis\n"
     ]
    }
   ],
   "source": [
    "!pwd"
   ]
  },
  {
   "cell_type": "code",
   "execution_count": 101,
   "metadata": {},
   "outputs": [],
   "source": [
    "data=pd.read_csv(\"../../20_intermediate_files/30_campuses_w_dist_to_nearest_pp.csv\")"
   ]
  },
  {
   "cell_type": "code",
   "execution_count": 102,
   "metadata": {},
   "outputs": [
    {
     "data": {
      "text/plain": [
       "0        21.0\n",
       "1        34.0\n",
       "2        22.0\n",
       "3        32.0\n",
       "4        19.0\n",
       "        ...  \n",
       "1721     46.0\n",
       "1722    110.0\n",
       "1723     25.0\n",
       "1724      2.0\n",
       "1725      6.0\n",
       "Name: Starbucks_duration_by_walking (minutes), Length: 1726, dtype: float64"
      ]
     },
     "execution_count": 102,
     "metadata": {},
     "output_type": "execute_result"
    }
   ],
   "source": [
    "data['Starbucks_duration_by_walking (minutes)']"
   ]
  },
  {
   "cell_type": "code",
   "execution_count": 103,
   "metadata": {},
   "outputs": [
    {
     "data": {
      "text/plain": [
       "\"\\na=pd.DataFrame()\\nfor i in range(len(data['features'])):\\n    d=pd.DataFrame.from_dict(data['features'][i]['properties'], orient='index')\\n    d=d.transpose()\\n    a=a.append(d)\\n\""
      ]
     },
     "execution_count": 103,
     "metadata": {},
     "output_type": "execute_result"
    }
   ],
   "source": [
    "'''\n",
    "a=pd.DataFrame()\n",
    "for i in range(len(data['features'])):\n",
    "    d=pd.DataFrame.from_dict(data['features'][i]['properties'], orient='index')\n",
    "    d=d.transpose()\n",
    "    a=a.append(d)\n",
    "'''"
   ]
  },
  {
   "cell_type": "code",
   "execution_count": 104,
   "metadata": {},
   "outputs": [
    {
     "data": {
      "text/plain": [
       "1726"
      ]
     },
     "execution_count": 104,
     "metadata": {},
     "output_type": "execute_result"
    }
   ],
   "source": [
    "len(data)"
   ]
  },
  {
   "cell_type": "code",
   "execution_count": 105,
   "metadata": {},
   "outputs": [
    {
     "data": {
      "text/plain": [
       "Index(['Unnamed: 0', 'UNIQUEID', 'NAME', 'ADDRESS', 'CITY', 'STATE', 'ZIP',\n",
       "       'ZIP4', 'TELEPHONE', 'TYPE',\n",
       "       ...\n",
       "       '2020_distance_by_driving (miles)',\n",
       "       '2020_duration_by_driving (minutes)',\n",
       "       '2020_distance_by_transit (miles)',\n",
       "       '2020_duration_by_transit (minutes)',\n",
       "       'early_2020_distance_by_walking (miles)',\n",
       "       'early_2020_duration_by_walking (minutes)',\n",
       "       'early_2020_distance_by_driving (miles)',\n",
       "       'early_2020_duration_by_driving (minutes)',\n",
       "       'early_2020_distance_by_transit (miles)',\n",
       "       'early_2020_duration_by_transit (minutes)'],\n",
       "      dtype='object', length=104)"
      ]
     },
     "execution_count": 105,
     "metadata": {},
     "output_type": "execute_result"
    }
   ],
   "source": [
    "data.columns"
   ]
  },
  {
   "cell_type": "markdown",
   "metadata": {},
   "source": [
    "### Transportation Mode: Car"
   ]
  },
  {
   "cell_type": "markdown",
   "metadata": {},
   "source": [
    "#### Distance"
   ]
  },
  {
   "cell_type": "markdown",
   "metadata": {},
   "source": []
  },
  {
   "cell_type": "code",
   "execution_count": 106,
   "metadata": {},
   "outputs": [
    {
     "name": "stdout",
     "output_type": "stream",
     "text": [
      "The Percentage of Colleges where Polling Place is less than 1 mile from campus by car is:  51.04 %\n",
      "The Percentage of Colleges where Polling Place is greater than or equal to 1 mile and less than 3 miles from campus by car is:  38.3 %\n",
      "The Percentage of Colleges where Polling Place is greater than or equal to 3 miles from campus by car is:  10.66 %\n"
     ]
    }
   ],
   "source": [
    "print(\"The Percentage of Colleges where Polling Place is less than 1 mile from campus by car is: \",round(100*sum(data['2020_distance_by_driving (miles)']<1)/len(data),2),'%')\n",
    "print(\"The Percentage of Colleges where Polling Place is greater than or equal to 1 mile and less than 3 miles from campus by car is: \",round(100*len(data.query('`2020_distance_by_driving (miles)`>=1 and `2020_distance_by_driving (miles)`<3'))/len(data),2),'%')\n",
    "print(\"The Percentage of Colleges where Polling Place is greater than or equal to 3 miles from campus by car is: \",round(100*len(data.query('`2020_distance_by_driving (miles)`>=3'))/len(data),2),'%')\n"
   ]
  },
  {
   "cell_type": "code",
   "execution_count": 108,
   "metadata": {},
   "outputs": [
    {
     "name": "stdout",
     "output_type": "stream",
     "text": [
      "The Percentage of Colleges where Starbucks is less than 1 mile from campus by car is:  24.1 %\n",
      "The Percentage of Colleges where Starbucks is greater than or equal to 1 mile and less than 3 miles from campus by car is:  37.31 %\n",
      "The Percentage of Colleges where Starbucks is greater than or equal to 3 miles from campus by car is:  38.59 %\n"
     ]
    }
   ],
   "source": [
    "print(\"The Percentage of Colleges where Starbucks is less than 1 mile from campus by car is: \",round(100*sum(data['Starbucks_distance_by_driving (miles)']<1)/len(data),2),'%')\n",
    "print(\"The Percentage of Colleges where Starbucks is greater than or equal to 1 mile and less than 3 miles from campus by car is: \",round(100*len(data.query('`Starbucks_distance_by_driving (miles)`>=1 and `Starbucks_distance_by_driving (miles)`<3'))/len(data),2),'%')\n",
    "print(\"The Percentage of Colleges where Starbucks is greater than or equal to 3 miles from campus by car is: \",round(100*len(data.query('`Starbucks_distance_by_driving (miles)`>=3'))/len(data),2),'%')\n"
   ]
  },
  {
   "cell_type": "code",
   "execution_count": 109,
   "metadata": {},
   "outputs": [
    {
     "name": "stdout",
     "output_type": "stream",
     "text": [
      "The Percentage of Colleges where Target is less than 1 mile from campus by car is:  3.53 %\n",
      "The Percentage of Colleges where Target is greater than or equal to 1 mile and less than 3 miles from campus by car is:  21.03 %\n",
      "The Percentage of Colleges where Target is greater than or equal to 3 miles from campus by car is:  75.43 %\n"
     ]
    }
   ],
   "source": [
    "print(\"The Percentage of Colleges where Target is less than 1 mile from campus by car is: \",round(100*sum(data['Target_distance_by_driving (miles)']<1)/len(data),2),'%')\n",
    "print(\"The Percentage of Colleges where Target is greater than or equal to 1 mile and less than 3 miles from campus by car is: \",round(100*len(data.query('`Target_distance_by_driving (miles)`>=1 and `Target_distance_by_driving (miles)`<3'))/len(data),2),'%')\n",
    "print(\"The Percentage of Colleges where Target is greater than or equal to 3 miles from campus by car is: \",round(100*len(data.query('`Target_distance_by_driving (miles)`>=3'))/len(data),2),'%')\n"
   ]
  },
  {
   "cell_type": "markdown",
   "metadata": {},
   "source": [
    "#### Duration"
   ]
  },
  {
   "cell_type": "code",
   "execution_count": 70,
   "metadata": {},
   "outputs": [
    {
     "name": "stdout",
     "output_type": "stream",
     "text": [
      "The Percentage of Colleges where Polling Place is less than 5 minutes from campus by car is:  59.43 %\n",
      "The Percentage of Colleges where Polling Place is greater than or equal to 5 minutes and less than 10 minutes from campus by car is:  36.27 %\n",
      "The Percentage of Colleges where Polling Place is greater than or equal to 10 minutes from campus by car is:  4.29 %\n"
     ]
    }
   ],
   "source": [
    "data['2020_duration_by_driving (minutes)'] = pd.to_numeric(data['2020_duration_by_driving (minutes)'])\n",
    "print(\"The Percentage of Colleges where Polling Place is less than 5 minutes from campus by car is: \",round(100*sum(data['2020_duration_by_driving (minutes)']<5)/len(data),2),'%')\n",
    "print(\"The Percentage of Colleges where Polling Place is greater than or equal to 5 minutes and less than 10 minutes from campus by car is: \",round(100*len(data.query('`2020_duration_by_driving (minutes)`>=5 and `2020_duration_by_driving (minutes)`<10'))/len(data),2),'%')\n",
    "print(\"The Percentage of Colleges where Polling Place is greater than or equal to 10 minutes from campus by car is: \",round(100*len(data.query('`2020_duration_by_driving (minutes)`>=10'))/len(data),2),'%')\n"
   ]
  },
  {
   "cell_type": "code",
   "execution_count": 110,
   "metadata": {},
   "outputs": [
    {
     "name": "stdout",
     "output_type": "stream",
     "text": [
      "The Percentage of Colleges where Starbucks is less than 5 minutes from campus by car is:  22.36 %\n",
      "The Percentage of Colleges where Starbucks is greater than or equal to 5 minutes and less than 10 minutes from campus by car is:  44.21 %\n",
      "The Percentage of Colleges where Starbucks is greater than or equal to 10 minutes from campus by car is:  33.43 %\n"
     ]
    }
   ],
   "source": [
    "data['Starbucks_duration_by_driving (minutes)'] = pd.to_numeric(data['Starbucks_duration_by_driving (minutes)'])\n",
    "print(\"The Percentage of Colleges where Starbucks is less than 5 minutes from campus by car is: \",round(100*sum(data['Starbucks_duration_by_driving (minutes)']<5)/len(data),2),'%')\n",
    "print(\"The Percentage of Colleges where Starbucks is greater than or equal to 5 minutes and less than 10 minutes from campus by car is: \",round(100*len(data.query('`Starbucks_duration_by_driving (minutes)`>=5 and `Starbucks_duration_by_driving (minutes)`<10'))/len(data),2),'%')\n",
    "print(\"The Percentage of Colleges where Starbucks is greater than or equal to 10 minutes from campus by car is: \",round(100*len(data.query('`Starbucks_duration_by_driving (minutes)`>=10'))/len(data),2),'%')\n"
   ]
  },
  {
   "cell_type": "code",
   "execution_count": 111,
   "metadata": {},
   "outputs": [
    {
     "name": "stdout",
     "output_type": "stream",
     "text": [
      "The Percentage of Colleges where Target is less than 5 minutes from campus by car is:  1.97 %\n",
      "The Percentage of Colleges where Target is greater than or equal to 5 minutes and less than 10 minutes from campus by car is:  23.41 %\n",
      "The Percentage of Colleges where Target is greater than or equal to 10 minutes from campus by car is:  74.62 %\n"
     ]
    }
   ],
   "source": [
    "data['Target_duration_by_driving (minutes)'] = pd.to_numeric(data['Target_duration_by_driving (minutes)'])\n",
    "print(\"The Percentage of Colleges where Target is less than 5 minutes from campus by car is: \",round(100*sum(data['Target_duration_by_driving (minutes)']<5)/len(data),2),'%')\n",
    "print(\"The Percentage of Colleges where Target is greater than or equal to 5 minutes and less than 10 minutes from campus by car is: \",round(100*len(data.query('`Target_duration_by_driving (minutes)`>=5 and `Target_duration_by_driving (minutes)`<10'))/len(data),2),'%')\n",
    "print(\"The Percentage of Colleges where Target is greater than or equal to 10 minutes from campus by car is: \",round(100*len(data.query('`Target_duration_by_driving (minutes)`>=10'))/len(data),2),'%')\n"
   ]
  },
  {
   "cell_type": "markdown",
   "metadata": {},
   "source": [
    "### Transportation Mode: Walk"
   ]
  },
  {
   "cell_type": "markdown",
   "metadata": {},
   "source": [
    "#### Distance"
   ]
  },
  {
   "cell_type": "code",
   "execution_count": 71,
   "metadata": {},
   "outputs": [
    {
     "name": "stdout",
     "output_type": "stream",
     "text": [
      "The Percentage of Colleges where Polling Place is less than 1 mile from campus by walk is:  58.68 %\n",
      "The Percentage of Colleges where Polling Place is greater than or equal to 1 mile and less than 3 miles from campus by walk is:  30.7 %\n",
      "The Percentage of Colleges where Polling Place is greater than or equal to 3 miles from campus by walk is:  10.62 %\n"
     ]
    }
   ],
   "source": [
    "print(\"The Percentage of Colleges where Polling Place is less than 1 mile from campus by walk is: \",round(100*sum(data['2020_distance_by_walking (miles)']<=1)/len(data),2),'%')\n",
    "print(\"The Percentage of Colleges where Polling Place is greater than or equal to 1 mile and less than 3 miles from campus by walk is: \",round(100*len(data.query('`2020_distance_by_walking (miles)`>=1 and `2020_distance_by_walking (miles)`<3'))/len(data),2),'%')\n",
    "print(\"The Percentage of Colleges where Polling Place is greater than or equal to 3 miles from campus by walk is: \",round(100*len(data.query('`2020_distance_by_walking (miles)`>=3'))/len(data),2),'%')"
   ]
  },
  {
   "cell_type": "code",
   "execution_count": 112,
   "metadata": {},
   "outputs": [
    {
     "name": "stdout",
     "output_type": "stream",
     "text": [
      "The Percentage of Colleges where Starbucks is less than 1 mile from campus by walk is:  29.08 %\n",
      "The Percentage of Colleges where Starbucks is greater than or equal to 1 mile and less than 3 miles from campus by walk is:  33.6 %\n",
      "The Percentage of Colleges where Starbucks is greater than or equal to 3 miles from campus by walk is:  37.31 %\n"
     ]
    }
   ],
   "source": [
    "print(\"The Percentage of Colleges where Starbucks is less than 1 mile from campus by walk is: \",round(100*sum(data['Starbucks_distance_by_walking (miles)']<=1)/len(data),2),'%')\n",
    "print(\"The Percentage of Colleges where Starbucks is greater than or equal to 1 mile and less than 3 miles from campus by walk is: \",round(100*len(data.query('`Starbucks_distance_by_walking (miles)`>=1 and `Starbucks_distance_by_walking (miles)`<3'))/len(data),2),'%')\n",
    "print(\"The Percentage of Colleges where Starbucks is greater than or equal to 3 miles from campus by walk is: \",round(100*len(data.query('`Starbucks_distance_by_walking (miles)`>=3'))/len(data),2),'%')"
   ]
  },
  {
   "cell_type": "code",
   "execution_count": 113,
   "metadata": {},
   "outputs": [
    {
     "name": "stdout",
     "output_type": "stream",
     "text": [
      "The Percentage of Colleges where Target is less than 1 mile from campus by walk is:  4.75 %\n",
      "The Percentage of Colleges where Target is greater than or equal to 1 mile and less than 3 miles from campus by walk is:  21.96 %\n",
      "The Percentage of Colleges where Target is greater than or equal to 3 miles from campus by walk is:  73.29 %\n"
     ]
    }
   ],
   "source": [
    "print(\"The Percentage of Colleges where Target is less than 1 mile from campus by walk is: \",round(100*sum(data['Target_distance_by_walking (miles)']<=1)/len(data),2),'%')\n",
    "print(\"The Percentage of Colleges where Target is greater than or equal to 1 mile and less than 3 miles from campus by walk is: \",round(100*len(data.query('`Target_distance_by_walking (miles)`>=1 and `Target_distance_by_walking (miles)`<3'))/len(data),2),'%')\n",
    "print(\"The Percentage of Colleges where Target is greater than or equal to 3 miles from campus by walk is: \",round(100*len(data.query('`Target_distance_by_walking (miles)`>=3'))/len(data),2),'%')"
   ]
  },
  {
   "cell_type": "markdown",
   "metadata": {},
   "source": [
    "#### Duration"
   ]
  },
  {
   "cell_type": "code",
   "execution_count": 72,
   "metadata": {},
   "outputs": [
    {
     "name": "stdout",
     "output_type": "stream",
     "text": [
      "The Percentage of Colleges where Polling Place is less than 5 minutes from campus by walk is:  11.61 %\n",
      "The Percentage of Colleges where Polling Place is greater than or equal to 5 minutes and less than 10 minutes from campus by walk is:  17.76 %\n",
      "The Percentage of Colleges where Polling Place is greater than or equal to 10 minutes from campus by walk is:  70.63 %\n"
     ]
    }
   ],
   "source": [
    "data['2020_duration_by_walking (minutes)'] = pd.to_numeric(data['2020_duration_by_walking (minutes)'])\n",
    "print(\"The Percentage of Colleges where Polling Place is less than 5 minutes from campus by walk is: \",round(100*sum(data['2020_duration_by_walking (minutes)']<5)/len(data),2),'%')\n",
    "print(\"The Percentage of Colleges where Polling Place is greater than or equal to 5 minutes and less than 10 minutes from campus by walk is: \",round(100*len(data.query('`2020_duration_by_walking (minutes)`>=5 and `2020_duration_by_walking (minutes)`<10'))/len(data),2),'%')\n",
    "print(\"The Percentage of Colleges where Polling Place is greater than or equal to 10 minutes from campus by walk is: \",round(100*len(data.query('`2020_duration_by_walking (minutes)`>=10'))/len(data),2),'%')\n"
   ]
  },
  {
   "cell_type": "code",
   "execution_count": 114,
   "metadata": {},
   "outputs": [
    {
     "name": "stdout",
     "output_type": "stream",
     "text": [
      "The Percentage of Colleges where Starbucks is less than 5 minutes from campus by walk is:  5.16 %\n",
      "The Percentage of Colleges where Starbucks is greater than or equal to 5 minutes and less than 10 minutes from campus by walk is:  8.81 %\n",
      "The Percentage of Colleges where Starbucks is greater than or equal to 10 minutes from campus by walk is:  86.04 %\n"
     ]
    }
   ],
   "source": [
    "data['Starbucks_duration_by_walking (minutes)'] = pd.to_numeric(data['Starbucks_duration_by_walking (minutes)'])\n",
    "print(\"The Percentage of Colleges where Starbucks is less than 5 minutes from campus by walk is: \",round(100*sum(data['Starbucks_duration_by_walking (minutes)']<5)/len(data),2),'%')\n",
    "print(\"The Percentage of Colleges where Starbucks is greater than or equal to 5 minutes and less than 10 minutes from campus by walk is: \",round(100*len(data.query('`Starbucks_duration_by_walking (minutes)`>=5 and `Starbucks_duration_by_walking (minutes)`<10'))/len(data),2),'%')\n",
    "print(\"The Percentage of Colleges where Starbucks is greater than or equal to 10 minutes from campus by walk is: \",round(100*len(data.query('`Starbucks_duration_by_walking (minutes)`>=10'))/len(data),2),'%')\n"
   ]
  },
  {
   "cell_type": "code",
   "execution_count": 115,
   "metadata": {},
   "outputs": [
    {
     "name": "stdout",
     "output_type": "stream",
     "text": [
      "The Percentage of Colleges where Target is less than 5 minutes from campus by walk is:  0.12 %\n",
      "The Percentage of Colleges where Target is greater than or equal to 5 minutes and less than 10 minutes from campus by walk is:  0.7 %\n",
      "The Percentage of Colleges where Target is greater than or equal to 10 minutes from campus by walk is:  99.19 %\n"
     ]
    }
   ],
   "source": [
    "data['Target_duration_by_walking (minutes)'] = pd.to_numeric(data['Target_duration_by_walking (minutes)'])\n",
    "print(\"The Percentage of Colleges where Target is less than 5 minutes from campus by walk is: \",round(100*sum(data['Target_duration_by_walking (minutes)']<5)/len(data),2),'%')\n",
    "print(\"The Percentage of Colleges where Target is greater than or equal to 5 minutes and less than 10 minutes from campus by walk is: \",round(100*len(data.query('`Target_duration_by_walking (minutes)`>=5 and `Target_duration_by_walking (minutes)`<10'))/len(data),2),'%')\n",
    "print(\"The Percentage of Colleges where Target is greater than or equal to 10 minutes from campus by walk is: \",round(100*len(data.query('`Target_duration_by_walking (minutes)`>=10'))/len(data),2),'%')\n"
   ]
  },
  {
   "cell_type": "markdown",
   "metadata": {},
   "source": [
    "### Transportation Mode: Transit"
   ]
  },
  {
   "cell_type": "markdown",
   "metadata": {},
   "source": [
    "#### Distance"
   ]
  },
  {
   "cell_type": "code",
   "execution_count": 73,
   "metadata": {},
   "outputs": [
    {
     "name": "stdout",
     "output_type": "stream",
     "text": [
      "The Percentage of Colleges where Polling Place is less than 1 mile from campus by transit is:  55.48 %\n",
      "The Percentage of Colleges where Polling Place is greater than or equal to 1 mile and less than 3 miles from campus by transit is:  28.9 %\n",
      "The Percentage of Colleges where Polling Place is greater than or equal to 3 miles from campus by transit is:  7.54 %\n"
     ]
    }
   ],
   "source": [
    "print(\"The Percentage of Colleges where Polling Place is less than 1 mile from campus by transit is: \",round(100*sum(data['2020_distance_by_transit (miles)']<=1)/len(data),2),'%')\n",
    "print(\"The Percentage of Colleges where Polling Place is greater than or equal to 1 mile and less than 3 miles from campus by transit is: \",round(100*len(data.query('`2020_distance_by_transit (miles)`>=1 and `2020_distance_by_transit (miles)`<3'))/len(data),2),'%')\n",
    "print(\"The Percentage of Colleges where Polling Place is greater than or equal to 3 miles from campus by transit is: \",round(100*len(data.query('`2020_distance_by_transit (miles)`>=3'))/len(data),2),'%')"
   ]
  },
  {
   "cell_type": "code",
   "execution_count": 116,
   "metadata": {},
   "outputs": [
    {
     "name": "stdout",
     "output_type": "stream",
     "text": [
      "The Percentage of Colleges where Starbucks is less than 1 mile from campus by transit is:  28.79 %\n",
      "The Percentage of Colleges where Starbucks is greater than or equal to 1 mile and less than 3 miles from campus by transit is:  32.68 %\n",
      "The Percentage of Colleges where Starbucks is greater than or equal to 3 miles from campus by transit is:  13.73 %\n"
     ]
    }
   ],
   "source": [
    "print(\"The Percentage of Colleges where Starbucks is less than 1 mile from campus by transit is: \",round(100*sum(data['Starbucks_distance_by_transit (miles)']<=1)/len(data),2),'%')\n",
    "print(\"The Percentage of Colleges where Starbucks is greater than or equal to 1 mile and less than 3 miles from campus by transit is: \",round(100*len(data.query('`Starbucks_distance_by_transit (miles)`>=1 and `Starbucks_distance_by_transit (miles)`<3'))/len(data),2),'%')\n",
    "print(\"The Percentage of Colleges where Starbucks is greater than or equal to 3 miles from campus by transit is: \",round(100*len(data.query('`Starbucks_distance_by_transit (miles)`>=3'))/len(data),2),'%')"
   ]
  },
  {
   "cell_type": "code",
   "execution_count": 117,
   "metadata": {},
   "outputs": [
    {
     "name": "stdout",
     "output_type": "stream",
     "text": [
      "The Percentage of Colleges where Target is less than 1 mile from campus by transit is:  4.52 %\n",
      "The Percentage of Colleges where Target is greater than or equal to 1 mile and less than 3 miles from campus by transit is:  20.74 %\n",
      "The Percentage of Colleges where Target is greater than or equal to 3 miles from campus by transit is:  38.12 %\n"
     ]
    }
   ],
   "source": [
    "print(\"The Percentage of Colleges where Target is less than 1 mile from campus by transit is: \",round(100*sum(data['Target_distance_by_transit (miles)']<=1)/len(data),2),'%')\n",
    "print(\"The Percentage of Colleges where Target is greater than or equal to 1 mile and less than 3 miles from campus by transit is: \",round(100*len(data.query('`Target_distance_by_transit (miles)`>=1 and `Target_distance_by_transit (miles)`<3'))/len(data),2),'%')\n",
    "print(\"The Percentage of Colleges where Target is greater than or equal to 3 miles from campus by transit is: \",round(100*len(data.query('`Target_distance_by_transit (miles)`>=3'))/len(data),2),'%')"
   ]
  },
  {
   "cell_type": "markdown",
   "metadata": {},
   "source": [
    "#### Duration"
   ]
  },
  {
   "cell_type": "code",
   "execution_count": 74,
   "metadata": {},
   "outputs": [
    {
     "name": "stdout",
     "output_type": "stream",
     "text": [
      "The Percentage of Colleges where Polling Place is less than 5 minutes from campus by transit is:  11.49 %\n",
      "The Percentage of Colleges where Polling Place is greater than or equal to 5 minutes and less than 10 minutes from campus by transit is:  18.63 %\n",
      "The Percentage of Colleges where Polling Place is greater than or equal to 10 minutes from campus by transit is:  61.81 %\n"
     ]
    }
   ],
   "source": [
    "data['2020_duration_by_transit (minutes)'] = pd.to_numeric(data['2020_duration_by_transit (minutes)'])\n",
    "print(\"The Percentage of Colleges where Polling Place is less than 5 minutes from campus by transit is: \",round(100*sum(data['2020_duration_by_transit (minutes)']<5)/len(data),2),'%')\n",
    "print(\"The Percentage of Colleges where Polling Place is greater than or equal to 5 minutes and less than 10 minutes from campus by transit is: \",round(100*len(data.query('`2020_duration_by_transit (minutes)`>=5 and `2020_duration_by_transit (minutes)`<10'))/len(data),2),'%')\n",
    "print(\"The Percentage of Colleges where Polling Place is greater than or equal to 10 minutes from campus by transit is: \",round(100*len(data.query('`2020_duration_by_transit (minutes)`>=10'))/len(data),2),'%')\n"
   ]
  },
  {
   "cell_type": "code",
   "execution_count": 118,
   "metadata": {},
   "outputs": [
    {
     "name": "stdout",
     "output_type": "stream",
     "text": [
      "The Percentage of Colleges where Starbucks is less than 5 minutes from campus by transit is:  5.16 %\n",
      "The Percentage of Colleges where Starbucks is greater than or equal to 5 minutes and less than 10 minutes from campus by transit is:  8.98 %\n",
      "The Percentage of Colleges where Starbucks is greater than or equal to 10 minutes from campus by transit is:  61.07 %\n"
     ]
    }
   ],
   "source": [
    "data['Starbucks_duration_by_transit (minutes)'] = pd.to_numeric(data['Starbucks_duration_by_transit (minutes)'])\n",
    "print(\"The Percentage of Colleges where Starbucks is less than 5 minutes from campus by transit is: \",round(100*sum(data['Starbucks_duration_by_transit (minutes)']<5)/len(data),2),'%')\n",
    "print(\"The Percentage of Colleges where Starbucks is greater than or equal to 5 minutes and less than 10 minutes from campus by transit is: \",round(100*len(data.query('`Starbucks_duration_by_transit (minutes)`>=5 and `Starbucks_duration_by_transit (minutes)`<10'))/len(data),2),'%')\n",
    "print(\"The Percentage of Colleges where Starbucks is greater than or equal to 10 minutes from campus by transit is: \",round(100*len(data.query('`Starbucks_duration_by_transit (minutes)`>=10'))/len(data),2),'%')\n"
   ]
  },
  {
   "cell_type": "code",
   "execution_count": 119,
   "metadata": {},
   "outputs": [
    {
     "name": "stdout",
     "output_type": "stream",
     "text": [
      "The Percentage of Colleges where Target is less than 5 minutes from campus by transit is:  0.12 %\n",
      "The Percentage of Colleges where Target is greater than or equal to 5 minutes and less than 10 minutes from campus by transit is:  0.93 %\n",
      "The Percentage of Colleges where Target is greater than or equal to 10 minutes from campus by transit is:  62.34 %\n"
     ]
    }
   ],
   "source": [
    "data['Target_duration_by_transit (minutes)'] = pd.to_numeric(data['Target_duration_by_transit (minutes)'])\n",
    "print(\"The Percentage of Colleges where Target is less than 5 minutes from campus by transit is: \",round(100*sum(data['Target_duration_by_transit (minutes)']<5)/len(data),2),'%')\n",
    "print(\"The Percentage of Colleges where Target is greater than or equal to 5 minutes and less than 10 minutes from campus by transit is: \",round(100*len(data.query('`Target_duration_by_transit (minutes)`>=5 and `Target_duration_by_transit (minutes)`<10'))/len(data),2),'%')\n",
    "print(\"The Percentage of Colleges where Target is greater than or equal to 10 minutes from campus by transit is: \",round(100*len(data.query('`Target_duration_by_transit (minutes)`>=10'))/len(data),2),'%')\n"
   ]
  },
  {
   "cell_type": "code",
   "execution_count": null,
   "metadata": {},
   "outputs": [],
   "source": []
  }
 ],
 "metadata": {
  "interpreter": {
   "hash": "037f9c9fb1937728a17c634c929e5b70e1d57e7eb01fba9ce1f1d953d6845e8b"
  },
  "kernelspec": {
   "display_name": "Python 3 (ipykernel)",
   "language": "python",
   "name": "python3"
  },
  "language_info": {
   "codemirror_mode": {
    "name": "ipython",
    "version": 3
   },
   "file_extension": ".py",
   "mimetype": "text/x-python",
   "name": "python",
   "nbconvert_exporter": "python",
   "pygments_lexer": "ipython3",
   "version": "3.9.9"
  }
 },
 "nbformat": 4,
 "nbformat_minor": 4
}
