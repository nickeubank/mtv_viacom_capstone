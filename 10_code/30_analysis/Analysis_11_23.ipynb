{
 "cells": [
  {
   "cell_type": "code",
   "execution_count": 1,
   "id": "10c448c3-2eaa-4436-a8ea-34a8b9a56467",
   "metadata": {},
   "outputs": [],
   "source": [
    "import pandas as pd"
   ]
  },
  {
   "cell_type": "code",
   "execution_count": 2,
   "id": "a04c2778-f17d-4b5d-9181-6061da5c2305",
   "metadata": {},
   "outputs": [
    {
     "name": "stdout",
     "output_type": "stream",
     "text": [
      "Requirement already satisfied: geopandas in /Users/Pm231/opt/anaconda3/lib/python3.9/site-packages (0.10.2)\n",
      "Requirement already satisfied: shapely>=1.6 in /Users/Pm231/opt/anaconda3/lib/python3.9/site-packages (from geopandas) (1.8.0)\n",
      "Requirement already satisfied: fiona>=1.8 in /Users/Pm231/opt/anaconda3/lib/python3.9/site-packages (from geopandas) (1.8.20)\n",
      "Requirement already satisfied: pyproj>=2.2.0 in /Users/Pm231/opt/anaconda3/lib/python3.9/site-packages (from geopandas) (3.3.0)\n",
      "Requirement already satisfied: pandas>=0.25.0 in /Users/Pm231/opt/anaconda3/lib/python3.9/site-packages (from geopandas) (1.3.4)\n",
      "Requirement already satisfied: certifi in /Users/Pm231/opt/anaconda3/lib/python3.9/site-packages (from fiona>=1.8->geopandas) (2021.10.8)\n",
      "Requirement already satisfied: cligj>=0.5 in /Users/Pm231/opt/anaconda3/lib/python3.9/site-packages (from fiona>=1.8->geopandas) (0.7.2)\n",
      "Requirement already satisfied: click>=4.0 in /Users/Pm231/opt/anaconda3/lib/python3.9/site-packages (from fiona>=1.8->geopandas) (8.0.3)\n",
      "Requirement already satisfied: setuptools in /Users/Pm231/opt/anaconda3/lib/python3.9/site-packages (from fiona>=1.8->geopandas) (58.0.4)\n",
      "Requirement already satisfied: munch in /Users/Pm231/opt/anaconda3/lib/python3.9/site-packages (from fiona>=1.8->geopandas) (2.5.0)\n",
      "Requirement already satisfied: click-plugins>=1.0 in /Users/Pm231/opt/anaconda3/lib/python3.9/site-packages (from fiona>=1.8->geopandas) (1.1.1)\n",
      "Requirement already satisfied: six>=1.7 in /Users/Pm231/opt/anaconda3/lib/python3.9/site-packages (from fiona>=1.8->geopandas) (1.16.0)\n",
      "Requirement already satisfied: attrs>=17 in /Users/Pm231/opt/anaconda3/lib/python3.9/site-packages (from fiona>=1.8->geopandas) (21.2.0)\n",
      "Requirement already satisfied: python-dateutil>=2.7.3 in /Users/Pm231/opt/anaconda3/lib/python3.9/site-packages (from pandas>=0.25.0->geopandas) (2.8.2)\n",
      "Requirement already satisfied: pytz>=2017.3 in /Users/Pm231/opt/anaconda3/lib/python3.9/site-packages (from pandas>=0.25.0->geopandas) (2021.3)\n",
      "Requirement already satisfied: numpy>=1.17.3 in /Users/Pm231/opt/anaconda3/lib/python3.9/site-packages (from pandas>=0.25.0->geopandas) (1.20.3)\n"
     ]
    }
   ],
   "source": [
    "!pip install geopandas\n"
   ]
  },
  {
   "cell_type": "code",
   "execution_count": null,
   "id": "94e99724-aec9-4b94-aa11-f9430bf92a63",
   "metadata": {},
   "outputs": [],
   "source": []
  },
  {
   "cell_type": "code",
   "execution_count": 3,
   "id": "d0f2e537-d061-4e6a-9179-4f5f94fcadab",
   "metadata": {},
   "outputs": [],
   "source": [
    "import geopandas as gpd"
   ]
  },
  {
   "cell_type": "code",
   "execution_count": 8,
   "id": "b8832770-6f4a-4a3f-b794-3833720c02d5",
   "metadata": {},
   "outputs": [],
   "source": [
    "data=gpd.read_file(\"../../20_intermediate_files/30_campuses_w_dist_to_nearest_pp.geojson\")"
   ]
  },
  {
   "cell_type": "code",
   "execution_count": 9,
   "id": "8b1e6c58-3c8d-49b9-a2d5-b9d479cb8c50",
   "metadata": {},
   "outputs": [
    {
     "data": {
      "text/plain": [
       "                      1610\n",
       "HSI                    276\n",
       "HBCU                    84\n",
       "AANAPISI & HSI          68\n",
       "PBI                     66\n",
       "AANAPISI                46\n",
       "NASNTI                  17\n",
       "TCU                     15\n",
       "AANAPISI & ANNH         14\n",
       "ANNH & NASNTI            8\n",
       "HSI & PBI                6\n",
       "ANNH & TCU               4\n",
       "ANNH                     2\n",
       "AANAPISI & PBI           2\n",
       "ANNH, HSI & NASNTI       1\n",
       "Name: MSI, dtype: int64"
      ]
     },
     "execution_count": 9,
     "metadata": {},
     "output_type": "execute_result"
    }
   ],
   "source": [
    "data['MSI'].value_counts()"
   ]
  },
  {
   "cell_type": "code",
   "execution_count": 10,
   "id": "365b80f2-5e88-42d8-b4f1-dbb4963c227e",
   "metadata": {},
   "outputs": [],
   "source": [
    "data.loc[(data['MSI'] =='HBCU') | (data['MSI']=='PBI'), 'MSI'] = 'HBCU_PBI'\n",
    "data.loc[(data['MSI']==\" \"),'MSI']= 'PWI'\n",
    "data.loc[(data['MSI']==\"AANAPISI & HSI\"),'MSI']= 'HSI'\n",
    "\n"
   ]
  },
  {
   "cell_type": "code",
   "execution_count": 11,
   "id": "5330833c-1ede-4647-8159-85d1167529e9",
   "metadata": {},
   "outputs": [],
   "source": [
    "data.loc[(data['MSI']!='HBCU_PBI') & (data['MSI']!='PWI') & (data['MSI']!='HSI') ,'MSI']= 'Misc'"
   ]
  },
  {
   "cell_type": "code",
   "execution_count": 12,
   "id": "ebbc488f-5059-41e7-873c-2150cc167642",
   "metadata": {},
   "outputs": [
    {
     "data": {
      "text/plain": [
       "PWI         1610\n",
       "HSI          344\n",
       "HBCU_PBI     150\n",
       "Misc         116\n",
       "Name: MSI, dtype: int64"
      ]
     },
     "execution_count": 12,
     "metadata": {},
     "output_type": "execute_result"
    }
   ],
   "source": [
    "data['MSI'].value_counts()"
   ]
  },
  {
   "cell_type": "markdown",
   "id": "c480be09-1b4f-49b5-82a8-772e18855a23",
   "metadata": {},
   "source": [
    "# Early Voting"
   ]
  },
  {
   "cell_type": "code",
   "execution_count": 13,
   "id": "f99c7c15-f805-45d9-941a-d75a1ca48e45",
   "metadata": {},
   "outputs": [
    {
     "data": {
      "text/plain": [
       "NaN             272\n",
       "0.000000        186\n",
       "807.795184        1\n",
       "4088.059231       1\n",
       "3620.470396       1\n",
       "               ... \n",
       "2532.412356       1\n",
       "10473.117185      1\n",
       "3954.750582       1\n",
       "254.518405        1\n",
       "1642.481309       1\n",
       "Name: distances_2020_early, Length: 1764, dtype: int64"
      ]
     },
     "execution_count": 13,
     "metadata": {},
     "output_type": "execute_result"
    }
   ],
   "source": [
    "data['distances_2020_early'].value_counts(dropna=False)"
   ]
  },
  {
   "cell_type": "code",
   "execution_count": 14,
   "id": "d41da6cd-a47b-4711-a8d9-90de26d73519",
   "metadata": {},
   "outputs": [],
   "source": [
    "data['distances_2020_early']=data['distances_2020_early']/1609"
   ]
  },
  {
   "cell_type": "code",
   "execution_count": 15,
   "id": "e16934fe-fd94-4091-8e5a-61724a168739",
   "metadata": {},
   "outputs": [
    {
     "data": {
      "text/plain": [
       "0.000000    186\n",
       "0.502048      1\n",
       "0.470299      1\n",
       "2.250137      1\n",
       "0.827659      1\n",
       "           ... \n",
       "1.573905      1\n",
       "6.509085      1\n",
       "2.457893      1\n",
       "0.158184      1\n",
       "1.020809      1\n",
       "Name: distances_2020_early, Length: 1763, dtype: int64"
      ]
     },
     "execution_count": 15,
     "metadata": {},
     "output_type": "execute_result"
    }
   ],
   "source": [
    "data['distances_2020_early'].value_counts()"
   ]
  },
  {
   "cell_type": "code",
   "execution_count": 16,
   "id": "ce2ebdd5-23bd-470d-839d-ddb6d0ea7043",
   "metadata": {},
   "outputs": [],
   "source": [
    "#Droppings 272 rows (NA)"
   ]
  },
  {
   "cell_type": "code",
   "execution_count": 17,
   "id": "79d89d81-e029-4e4c-92c6-be96cd081b8e",
   "metadata": {},
   "outputs": [],
   "source": [
    "data_early=data.dropna(subset=['distances_2020_early'])"
   ]
  },
  {
   "cell_type": "code",
   "execution_count": 18,
   "id": "836519e6-9222-4cff-b225-c2dcbf6d8758",
   "metadata": {},
   "outputs": [],
   "source": [
    "import matplotlib.pyplot as plt"
   ]
  },
  {
   "cell_type": "code",
   "execution_count": 19,
   "id": "94537227-40f7-49b9-a543-9dde7c2ca283",
   "metadata": {},
   "outputs": [
    {
     "data": {
      "image/png": "[encoded data removed]",
      "text/plain": [
       "<Figure size 1440x720 with 1 Axes>"
      ]
     },
     "metadata": {
      "needs_background": "light"
     },
     "output_type": "display_data"
    }
   ],
   "source": [
    "plt.figure(figsize=(20,10))\n",
    "plt.hist(data_early.query('MSI == \"HBCU_PBI\"')['distances_2020_early'],color='green',alpha=0.9,label='HBCU_PBI', bins=10)\n",
    "plt.hist(data_early.query('MSI == \"PWI\"')['distances_2020_early'],color='blue',alpha=0.2, label='PWI',bins=10)\n",
    "plt.hist(data_early.query('MSI == \"HSI\"')['distances_2020_early'],color='black',alpha=0.2, label='HSI',bins=10)\n",
    "plt.title(\"2020 Early Polling Distances\")\n",
    "plt.xlabel(\"Miles\")\n",
    "plt.legend()\n",
    "plt.show()\n",
    "\n",
    "\n"
   ]
  },
  {
   "cell_type": "code",
   "execution_count": 20,
   "id": "0ac97c0c-6f67-4ef4-b936-cce9d6aebdec",
   "metadata": {},
   "outputs": [
    {
     "data": {
      "text/plain": [
       "count    1427.000000\n",
       "mean        3.993182\n",
       "std         9.908791\n",
       "min         0.000000\n",
       "25%         0.492264\n",
       "50%         1.333679\n",
       "75%         3.288492\n",
       "max       112.603767\n",
       "Name: distances_2020_early, dtype: float64"
      ]
     },
     "execution_count": 20,
     "metadata": {},
     "output_type": "execute_result"
    }
   ],
   "source": [
    "data_early.query('MSI == \"PWI\"')['distances_2020_early'].describe()"
   ]
  },
  {
   "cell_type": "code",
   "execution_count": 21,
   "id": "ca17982d-8cd6-4386-86e1-fdf12c12776d",
   "metadata": {},
   "outputs": [
    {
     "data": {
      "text/plain": [
       "0.000000    5.956552\n",
       "0.494360    0.070077\n",
       "0.032765    0.070077\n",
       "0.911058    0.070077\n",
       "5.168549    0.070077\n",
       "              ...   \n",
       "3.034703    0.070077\n",
       "1.860424    0.070077\n",
       "0.907442    0.070077\n",
       "1.102142    0.070077\n",
       "1.020809    0.070077\n",
       "Name: distances_2020_early, Length: 1343, dtype: float64"
      ]
     },
     "execution_count": 21,
     "metadata": {},
     "output_type": "execute_result"
    }
   ],
   "source": [
    "data_early.query('MSI == \"PWI\"')['distances_2020_early'].value_counts(normalize=True)*100"
   ]
  },
  {
   "cell_type": "markdown",
   "id": "f338c2c7-6a0d-49e6-a9c6-b1be4bbc0e22",
   "metadata": {},
   "source": [
    "### ~6% of PWI have on campus early voting sites"
   ]
  },
  {
   "cell_type": "code",
   "execution_count": 22,
   "id": "14019a73-92eb-4fb9-8117-23b5c3dad9c5",
   "metadata": {},
   "outputs": [
    {
     "data": {
      "text/plain": [
       "82.55080588647512"
      ]
     },
     "execution_count": 22,
     "metadata": {},
     "output_type": "execute_result"
    }
   ],
   "source": [
    "100*len(data_early.query('MSI == \"PWI\"')['distances_2020_early'][data_early.query('MSI == \"PWI\"')['distances_2020_early']<5])/len(data_early.query('MSI == \"PWI\"'))"
   ]
  },
  {
   "cell_type": "markdown",
   "id": "40384f9b-054c-42c8-a8b1-ba3fba1c5bf0",
   "metadata": {},
   "source": [
    "### ~83% of PWI have early voting sites either on campus or atleast 5 miles from the campus"
   ]
  },
  {
   "cell_type": "markdown",
   "id": "dcd7405b-80ed-44ce-9f05-f91449541c38",
   "metadata": {},
   "source": [
    "-----------------------------------------"
   ]
  },
  {
   "cell_type": "code",
   "execution_count": 23,
   "id": "37972fce-0ac1-425e-8781-fafb661fcaeb",
   "metadata": {},
   "outputs": [
    {
     "data": {
      "text/plain": [
       "count    133.000000\n",
       "mean       2.080133\n",
       "std        2.892938\n",
       "min        0.000000\n",
       "25%        0.390826\n",
       "50%        1.099075\n",
       "75%        2.679979\n",
       "max       22.031545\n",
       "Name: distances_2020_early, dtype: float64"
      ]
     },
     "execution_count": 23,
     "metadata": {},
     "output_type": "execute_result"
    }
   ],
   "source": [
    "data_early.query('MSI == \"HBCU_PBI\"')['distances_2020_early'].describe()"
   ]
  },
  {
   "cell_type": "code",
   "execution_count": 24,
   "id": "cb835990-ec5b-4c80-bd90-9bde8eb4925d",
   "metadata": {},
   "outputs": [
    {
     "data": {
      "text/plain": [
       "0.000000    9.774436\n",
       "0.052574    0.751880\n",
       "8.801802    0.751880\n",
       "0.031426    0.751880\n",
       "1.573564    0.751880\n",
       "              ...   \n",
       "1.354012    0.751880\n",
       "0.626859    0.751880\n",
       "0.693635    0.751880\n",
       "2.410975    0.751880\n",
       "0.143904    0.751880\n",
       "Name: distances_2020_early, Length: 121, dtype: float64"
      ]
     },
     "execution_count": 24,
     "metadata": {},
     "output_type": "execute_result"
    }
   ],
   "source": [
    "data_early.query('MSI == \"HBCU_PBI\"')['distances_2020_early'].value_counts(normalize=True)*100"
   ]
  },
  {
   "cell_type": "markdown",
   "id": "219bc7d6-3aaf-4dcd-a4b3-325d31bc607e",
   "metadata": {},
   "source": [
    "### ~10% of HBCU/PBI have on campus early voting sites"
   ]
  },
  {
   "cell_type": "code",
   "execution_count": 25,
   "id": "6933e0fa-0c84-4045-ae4e-70b96d49a8ea",
   "metadata": {},
   "outputs": [
    {
     "data": {
      "text/plain": [
       "88.7218045112782"
      ]
     },
     "execution_count": 25,
     "metadata": {},
     "output_type": "execute_result"
    }
   ],
   "source": [
    "100*len(data_early.query('MSI == \"HBCU_PBI\"')['distances_2020_early'][data_early.query('MSI == \"HBCU_PBI\"')['distances_2020_early']<5])/len(data_early.query('MSI == \"HBCU_PBI\"'))"
   ]
  },
  {
   "cell_type": "markdown",
   "id": "c450ead1-72c9-4b9a-b926-5332c78efd0c",
   "metadata": {},
   "source": [
    "### ~88.72% of HBCU/PBI have early voting sites either on campus or within 5 miles from Campus"
   ]
  },
  {
   "cell_type": "markdown",
   "id": "0364a298-6be6-493c-9945-265bc826ff81",
   "metadata": {},
   "source": [
    "---------------------"
   ]
  },
  {
   "cell_type": "code",
   "execution_count": 26,
   "id": "4e669723-79d3-418d-882c-784d00a7e7df",
   "metadata": {},
   "outputs": [
    {
     "data": {
      "text/plain": [
       "count    283.000000\n",
       "mean       2.489474\n",
       "std        6.144308\n",
       "min        0.000000\n",
       "25%        0.000000\n",
       "50%        0.707473\n",
       "75%        1.887948\n",
       "max       49.119608\n",
       "Name: distances_2020_early, dtype: float64"
      ]
     },
     "execution_count": 26,
     "metadata": {},
     "output_type": "execute_result"
    }
   ],
   "source": [
    "data_early.query('MSI == \"HSI\"')['distances_2020_early'].describe()"
   ]
  },
  {
   "cell_type": "code",
   "execution_count": 27,
   "id": "9984b2f2-b4cd-4990-a01c-659ba427d30f",
   "metadata": {},
   "outputs": [
    {
     "data": {
      "text/plain": [
       "0.000000    27.561837\n",
       "0.502048     0.353357\n",
       "0.423942     0.353357\n",
       "0.509561     0.353357\n",
       "0.729091     0.353357\n",
       "              ...    \n",
       "0.894003     0.353357\n",
       "1.491473     0.353357\n",
       "1.824682     0.353357\n",
       "0.516581     0.353357\n",
       "0.713442     0.353357\n",
       "Name: distances_2020_early, Length: 206, dtype: float64"
      ]
     },
     "execution_count": 27,
     "metadata": {},
     "output_type": "execute_result"
    }
   ],
   "source": [
    "data_early.query('MSI == \"HSI\"')['distances_2020_early'].value_counts(normalize=True)*100"
   ]
  },
  {
   "cell_type": "markdown",
   "id": "bb550173-8895-4907-a8d4-b14e45389071",
   "metadata": {},
   "source": [
    "### ~28% of HSI have on campus early voting sites"
   ]
  },
  {
   "cell_type": "code",
   "execution_count": 28,
   "id": "ef8db1b6-c540-4678-bb1a-bce0ca5aa84d",
   "metadata": {},
   "outputs": [
    {
     "data": {
      "text/plain": [
       "88.69257950530036"
      ]
     },
     "execution_count": 28,
     "metadata": {},
     "output_type": "execute_result"
    }
   ],
   "source": [
    "100*len(data_early.query('MSI == \"HSI\"')['distances_2020_early'][data_early.query('MSI == \"HSI\"')['distances_2020_early']<5])/len(data_early.query('MSI == \"HSI\"'))"
   ]
  },
  {
   "cell_type": "markdown",
   "id": "f4ed0dbf-f409-49d3-b1b8-1e81aa48fb17",
   "metadata": {},
   "source": [
    "### ~88.72% of HSI have early voting sites either on campus or within 5 miles from Campus"
   ]
  },
  {
   "cell_type": "markdown",
   "id": "e24b0bfa-88eb-4540-8ce1-3f5aaeb1f228",
   "metadata": {},
   "source": [
    "--------"
   ]
  },
  {
   "cell_type": "code",
   "execution_count": 29,
   "id": "caf8712c-62da-4206-afb7-1384e0c80f3b",
   "metadata": {},
   "outputs": [
    {
     "data": {
      "text/plain": [
       "count    105.000000\n",
       "mean       7.022026\n",
       "std       15.826392\n",
       "min        0.000000\n",
       "25%        0.548532\n",
       "50%        1.253198\n",
       "75%        3.439083\n",
       "max      111.272944\n",
       "Name: distances_2020_early, dtype: float64"
      ]
     },
     "execution_count": 29,
     "metadata": {},
     "output_type": "execute_result"
    }
   ],
   "source": [
    "data_early.query('MSI == \"Misc\"')['distances_2020_early'].describe()"
   ]
  },
  {
   "cell_type": "code",
   "execution_count": 30,
   "id": "d4283721-ecee-4202-9f2c-323c3083808f",
   "metadata": {},
   "outputs": [
    {
     "data": {
      "text/plain": [
       "0.000000     9.523810\n",
       "53.338140    0.952381\n",
       "1.767773     0.952381\n",
       "46.049840    0.952381\n",
       "55.421305    0.952381\n",
       "               ...   \n",
       "7.507629     0.952381\n",
       "0.876779     0.952381\n",
       "0.948993     0.952381\n",
       "3.322668     0.952381\n",
       "6.161558     0.952381\n",
       "Name: distances_2020_early, Length: 96, dtype: float64"
      ]
     },
     "execution_count": 30,
     "metadata": {},
     "output_type": "execute_result"
    }
   ],
   "source": [
    "data_early.query('MSI == \"Misc\"')['distances_2020_early'].value_counts(normalize=True)*100"
   ]
  },
  {
   "cell_type": "markdown",
   "id": "d4bc437c-3d28-4b41-83a9-befb26866615",
   "metadata": {},
   "source": [
    "### ~10% of Misc have on campus early voting sites"
   ]
  },
  {
   "cell_type": "code",
   "execution_count": 31,
   "id": "81406d89-957a-4b32-a3d3-afe4afcca788",
   "metadata": {},
   "outputs": [
    {
     "data": {
      "text/plain": [
       "77.14285714285714"
      ]
     },
     "execution_count": 31,
     "metadata": {},
     "output_type": "execute_result"
    }
   ],
   "source": [
    "100*len(data_early.query('MSI == \"Misc\"')['distances_2020_early'][data_early.query('MSI == \"Misc\"')['distances_2020_early']<5])/len(data_early.query('MSI == \"Misc\"'))"
   ]
  },
  {
   "cell_type": "markdown",
   "id": "d4f60f9b-a7f1-40bd-86fd-cc6df5302907",
   "metadata": {},
   "source": [
    "### ~77.14% of Misc have early voting sites either on campus or within 5 miles from Campus"
   ]
  },
  {
   "cell_type": "markdown",
   "id": "71f317c7-f619-4a26-8bda-256da301aec1",
   "metadata": {},
   "source": [
    "------------"
   ]
  },
  {
   "cell_type": "markdown",
   "id": "69be3b2c-9099-4af4-8345-ae41677c5d64",
   "metadata": {},
   "source": [
    "## Polling Place General"
   ]
  },
  {
   "cell_type": "code",
   "execution_count": 34,
   "id": "d1847053-282c-42c1-93e6-3d5a3e300c90",
   "metadata": {},
   "outputs": [
    {
     "data": {
      "text/plain": [
       "NaN            572\n",
       "0.000000       399\n",
       "807.817134       1\n",
       "769.312419       1\n",
       "337.307767       1\n",
       "              ... \n",
       "37.993328        1\n",
       "52.784955        1\n",
       "4833.507993      1\n",
       "542.164249       1\n",
       "820.905570       1\n",
       "Name: distances_2020, Length: 1251, dtype: int64"
      ]
     },
     "execution_count": 34,
     "metadata": {},
     "output_type": "execute_result"
    }
   ],
   "source": [
    "data['distances_2020'].value_counts(dropna=False)"
   ]
  },
  {
   "cell_type": "code",
   "execution_count": 36,
   "id": "b1d77b63-1b58-4737-8312-32d1e5cfc847",
   "metadata": {},
   "outputs": [],
   "source": [
    "data['distances_2020']=data['distances_2020']/1609"
   ]
  },
  {
   "cell_type": "code",
   "execution_count": 37,
   "id": "66056ecb-1f26-4272-8f1a-f79ee23c3cc3",
   "metadata": {},
   "outputs": [],
   "source": [
    "data_2020=data.dropna(subset=['distances_2020'])"
   ]
  },
  {
   "cell_type": "code",
   "execution_count": 38,
   "id": "fb6789e4-0fe4-4bd7-bd1c-339b1474a6a8",
   "metadata": {},
   "outputs": [
    {
     "data": {
      "text/plain": [
       "count    1210.000000\n",
       "mean        0.568085\n",
       "std         1.000558\n",
       "min         0.000000\n",
       "25%         0.028569\n",
       "50%         0.241901\n",
       "75%         0.693740\n",
       "max        17.590581\n",
       "Name: distances_2020, dtype: float64"
      ]
     },
     "execution_count": 38,
     "metadata": {},
     "output_type": "execute_result"
    }
   ],
   "source": [
    "data_2020.query('MSI == \"PWI\"')['distances_2020'].describe()"
   ]
  },
  {
   "cell_type": "code",
   "execution_count": 39,
   "id": "c63a232e-36a2-4652-bc92-ac84414215f1",
   "metadata": {},
   "outputs": [
    {
     "data": {
      "text/plain": [
       "0.000000    20.495868\n",
       "0.492641     0.082645\n",
       "0.582607     0.082645\n",
       "0.806514     0.082645\n",
       "0.009141     0.082645\n",
       "              ...    \n",
       "0.443997     0.082645\n",
       "0.181109     0.082645\n",
       "0.318437     0.082645\n",
       "0.287457     0.082645\n",
       "0.510196     0.082645\n",
       "Name: distances_2020, Length: 963, dtype: float64"
      ]
     },
     "execution_count": 39,
     "metadata": {},
     "output_type": "execute_result"
    }
   ],
   "source": [
    "data_2020.query('MSI == \"PWI\"')['distances_2020'].value_counts(normalize=True)*100"
   ]
  },
  {
   "cell_type": "markdown",
   "id": "e1f681ee-257d-49a3-9ccc-28f3a508f12b",
   "metadata": {},
   "source": [
    "### ~20% of PWI have polling locations on campus"
   ]
  },
  {
   "cell_type": "code",
   "execution_count": 40,
   "id": "d0cea852-97a6-4058-89eb-4a4be1355781",
   "metadata": {},
   "outputs": [
    {
     "data": {
      "text/plain": [
       "99.33884297520662"
      ]
     },
     "execution_count": 40,
     "metadata": {},
     "output_type": "execute_result"
    }
   ],
   "source": [
    "100*len(data_2020.query('MSI == \"PWI\"')['distances_2020'][data_2020.query('MSI == \"PWI\"')['distances_2020']<5])/len(data_2020.query('MSI == \"PWI\"'))"
   ]
  },
  {
   "cell_type": "markdown",
   "id": "aa7a2e5f-2060-4cc8-87e3-da6d691a066f",
   "metadata": {},
   "source": [
    "### ~99% of PWI have polling locations within 5 miles from Campus"
   ]
  },
  {
   "cell_type": "markdown",
   "id": "4a083bc1-570b-4e7b-a543-02c31c19e0be",
   "metadata": {},
   "source": [
    "---------------"
   ]
  },
  {
   "cell_type": "code",
   "execution_count": 42,
   "id": "0afd9b1f-56fe-4663-821c-8c6ff3dcc0b1",
   "metadata": {},
   "outputs": [
    {
     "data": {
      "text/plain": [
       "count    125.000000\n",
       "mean       0.365705\n",
       "std        0.533995\n",
       "min        0.000000\n",
       "25%        0.000000\n",
       "50%        0.189682\n",
       "75%        0.487041\n",
       "max        3.037870\n",
       "Name: distances_2020, dtype: float64"
      ]
     },
     "execution_count": 42,
     "metadata": {},
     "output_type": "execute_result"
    }
   ],
   "source": [
    "data_2020.query('MSI == \"HBCU_PBI\"')['distances_2020'].describe()"
   ]
  },
  {
   "cell_type": "code",
   "execution_count": 46,
   "id": "4c82d6ac-70c4-4389-a532-cc83e07dade4",
   "metadata": {},
   "outputs": [
    {
     "data": {
      "text/plain": [
       "0.000000    29.6\n",
       "0.608184     0.8\n",
       "0.020367     0.8\n",
       "0.103995     0.8\n",
       "0.153069     0.8\n",
       "            ... \n",
       "0.491716     0.8\n",
       "0.220470     0.8\n",
       "0.609102     0.8\n",
       "0.331862     0.8\n",
       "0.589911     0.8\n",
       "Name: distances_2020, Length: 89, dtype: float64"
      ]
     },
     "execution_count": 46,
     "metadata": {},
     "output_type": "execute_result"
    }
   ],
   "source": [
    "data_2020.query('MSI == \"HBCU_PBI\"')['distances_2020'].value_counts(normalize=True)*100"
   ]
  },
  {
   "cell_type": "markdown",
   "id": "213109e2-e92b-4df6-b43a-480ce262917b",
   "metadata": {},
   "source": [
    "### ~30% of HBCU/PBI have polling locations on campus"
   ]
  },
  {
   "cell_type": "code",
   "execution_count": 47,
   "id": "b1ffa152-addb-4ffd-9846-de8336f70888",
   "metadata": {},
   "outputs": [
    {
     "data": {
      "text/plain": [
       "100.0"
      ]
     },
     "execution_count": 47,
     "metadata": {},
     "output_type": "execute_result"
    }
   ],
   "source": [
    "100*len(data_2020.query('MSI == \"HBCU_PBI\"')['distances_2020'][data_2020.query('MSI == \"HBCU_PBI\"')['distances_2020']<5])/len(data_2020.query('MSI == \"HBCU_PBI\"'))"
   ]
  },
  {
   "cell_type": "markdown",
   "id": "4ff0d0c4-c251-49f6-8e2e-791fcd7d570d",
   "metadata": {},
   "source": [
    "### 100% of HBCU/PBI have polling locations within 5 miles from campus"
   ]
  },
  {
   "cell_type": "markdown",
   "id": "eb14bd59-7677-45bc-9a29-4648b7b62fc3",
   "metadata": {},
   "source": [
    "---------------------"
   ]
  },
  {
   "cell_type": "code",
   "execution_count": 48,
   "id": "b42ebd24-5313-45c3-89e7-f5a8c306d895",
   "metadata": {},
   "outputs": [
    {
     "data": {
      "text/plain": [
       "count    242.000000\n",
       "mean       0.430922\n",
       "std        0.803183\n",
       "min        0.000000\n",
       "25%        0.000000\n",
       "50%        0.088428\n",
       "75%        0.524082\n",
       "max        7.317574\n",
       "Name: distances_2020, dtype: float64"
      ]
     },
     "execution_count": 48,
     "metadata": {},
     "output_type": "execute_result"
    }
   ],
   "source": [
    "data_2020.query('MSI == \"HSI\"')['distances_2020'].describe()"
   ]
  },
  {
   "cell_type": "code",
   "execution_count": 50,
   "id": "bf579082-4305-4cea-b179-3e538d87b5eb",
   "metadata": {},
   "outputs": [
    {
     "data": {
      "text/plain": [
       "0.000000    41.735537\n",
       "0.502062     0.413223\n",
       "1.020529     0.413223\n",
       "0.329470     0.413223\n",
       "1.328597     0.413223\n",
       "              ...    \n",
       "0.787733     0.413223\n",
       "0.286452     0.413223\n",
       "0.418892     0.413223\n",
       "0.438577     0.413223\n",
       "0.713224     0.413223\n",
       "Name: distances_2020, Length: 142, dtype: float64"
      ]
     },
     "execution_count": 50,
     "metadata": {},
     "output_type": "execute_result"
    }
   ],
   "source": [
    "data_2020.query('MSI == \"HSI\"')['distances_2020'].value_counts(normalize=True)*100"
   ]
  },
  {
   "cell_type": "markdown",
   "id": "04b55d69-2f73-4187-8d88-93ec3352d32c",
   "metadata": {},
   "source": [
    "### ~42% of HSI have polling locations on campus"
   ]
  },
  {
   "cell_type": "code",
   "execution_count": 51,
   "id": "79a6f8e6-c630-4e6f-bf17-dc9b13d5d8cb",
   "metadata": {},
   "outputs": [
    {
     "data": {
      "text/plain": [
       "99.17355371900827"
      ]
     },
     "execution_count": 51,
     "metadata": {},
     "output_type": "execute_result"
    }
   ],
   "source": [
    "100*len(data_2020.query('MSI == \"HSI\"')['distances_2020'][data_2020.query('MSI == \"HSI\"')['distances_2020']<5])/len(data_2020.query('MSI == \"HSI\"'))"
   ]
  },
  {
   "cell_type": "markdown",
   "id": "6f86288b-a23e-4cfa-919c-70e93d325301",
   "metadata": {},
   "source": [
    "### 99% of HSI have polling locations within 5 miles from campus"
   ]
  },
  {
   "cell_type": "markdown",
   "id": "78aaf6e3-a050-4583-b360-67e681b3eaaa",
   "metadata": {},
   "source": [
    "---------------------"
   ]
  },
  {
   "cell_type": "code",
   "execution_count": 52,
   "id": "2b73d042-0fbe-4bc1-920d-aaae686ecbef",
   "metadata": {},
   "outputs": [
    {
     "data": {
      "text/plain": [
       "count    71.000000\n",
       "mean      0.567584\n",
       "std       0.952227\n",
       "min       0.000000\n",
       "25%       0.051668\n",
       "50%       0.282393\n",
       "75%       0.667691\n",
       "max       6.352578\n",
       "Name: distances_2020, dtype: float64"
      ]
     },
     "execution_count": 52,
     "metadata": {},
     "output_type": "execute_result"
    }
   ],
   "source": [
    "data_2020.query('MSI == \"Misc\"')['distances_2020'].describe()"
   ]
  },
  {
   "cell_type": "code",
   "execution_count": 56,
   "id": "179b591b-a50d-4e09-af2c-aa061d00e25f",
   "metadata": {},
   "outputs": [
    {
     "data": {
      "text/plain": [
       "0.000000    18.309859\n",
       "0.654353     1.408451\n",
       "0.143809     1.408451\n",
       "0.681030     1.408451\n",
       "0.281788     1.408451\n",
       "Name: distances_2020, dtype: float64"
      ]
     },
     "execution_count": 56,
     "metadata": {},
     "output_type": "execute_result"
    }
   ],
   "source": [
    "data_2020.query('MSI == \"Misc\"')['distances_2020'].value_counts(normalize=True).head(5)*100"
   ]
  },
  {
   "cell_type": "markdown",
   "id": "ee48add1-42f9-4fa3-9766-91a9b8bf8b31",
   "metadata": {},
   "source": [
    "### 18% of Misc Colleges have on campus polling places"
   ]
  },
  {
   "cell_type": "code",
   "execution_count": 57,
   "id": "d37a7342-ada0-40ca-bb14-c56c2d86ddd6",
   "metadata": {},
   "outputs": [
    {
     "data": {
      "text/plain": [
       "98.59154929577464"
      ]
     },
     "execution_count": 57,
     "metadata": {},
     "output_type": "execute_result"
    }
   ],
   "source": [
    "100*len(data_2020.query('MSI == \"Misc\"')['distances_2020'][data_2020.query('MSI == \"Misc\"')['distances_2020']<5])/len(data_2020.query('MSI == \"Misc\"'))"
   ]
  },
  {
   "cell_type": "markdown",
   "id": "6a6fba04-730c-453a-8da4-ca29aeed06f8",
   "metadata": {},
   "source": [
    "### ~99% of Misc have polling locations within 5 miles from campus"
   ]
  },
  {
   "cell_type": "code",
   "execution_count": null,
   "id": "fd40fca8-2481-452e-9082-cc5a40101ca6",
   "metadata": {},
   "outputs": [],
   "source": []
  }
 ],
 "metadata": {
  "kernelspec": {
   "display_name": "Python 3 (ipykernel)",
   "language": "python",
   "name": "python3"
  },
  "language_info": {
   "codemirror_mode": {
    "name": "ipython",
    "version": 3
   },
   "file_extension": ".py",
   "mimetype": "text/x-python",
   "name": "python",
   "nbconvert_exporter": "python",
   "pygments_lexer": "ipython3",
   "version": "3.9.7"
  }
 },
 "nbformat": 4,
 "nbformat_minor": 5
}
