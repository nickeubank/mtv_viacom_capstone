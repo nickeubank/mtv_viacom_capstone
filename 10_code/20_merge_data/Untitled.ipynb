{
 "cells": [
  {
   "cell_type": "code",
   "execution_count": 3,
   "metadata": {},
   "outputs": [
    {
     "name": "stdout",
     "output_type": "stream",
     "text": [
      "Original Master: 3114\n",
      "Updated Master: 2838\n",
      "Length of Master Table: 2838\n",
      "Length of Merged Table: 2444\n",
      "Length of Merged Table without duplicates: 2421\n"
     ]
    }
   ],
   "source": [
    "%run 10_merging_HIFLD_w_demographics.py"
   ]
  },
  {
   "cell_type": "code",
   "execution_count": 39,
   "metadata": {},
   "outputs": [
    {
     "name": "stdout",
     "output_type": "stream",
     "text": [
      "Pre # of campuses: 2421\n",
      "Within State Set # of campuses: 2258\n"
     ]
    }
   ],
   "source": [
    "%run 20_calc_dist_to_nearest_pp_elecday.py"
   ]
  },
  {
   "cell_type": "code",
   "execution_count": 23,
   "metadata": {},
   "outputs": [
    {
     "name": "stdout",
     "output_type": "stream",
     "text": [
      "Pre # of campuses: 2421\n",
      "Within State Set # of campuses: 2258\n",
      "    UNIQUEID                                 NAME                    ADDRESS  \\\n",
      "90    212878    HARRISBURG AREA COMMUNITY COLLEGE                 1 HACC DR.   \n",
      "91    214111  MONTGOMERY COUNTY COMMUNITY COLLEGE            340 DEKALB PIKE   \n",
      "93    213376                   LACKAWANNA COLLEGE                501 VINE ST   \n",
      "95    215655             ROBERT MORRIS UNIVERSITY  6001 UNIVERSITY BOULEVARD   \n",
      "188   212869                       HARCUM COLLEGE         750 MONTGOMERY AVE   \n",
      "\n",
      "              CITY STATE    ZIP  ZIP4       TELEPHONE TYPE STATUS  ...  \\\n",
      "90      Harrisburg    PA  17110  2999  (717) 780-2300    1      A  ...   \n",
      "91       Blue Bell    PA  19422  0796  (215) 641-6300    1      A  ...   \n",
      "93        Scranton    PA  18509  3206  (570) 961-7810    2      A  ...   \n",
      "95   Moon Township    PA  15108  1189  (800) 762-0097    2      A  ...   \n",
      "188      Bryn Mawr    PA  19010  3470  (610) 525-4100    2      A  ...   \n",
      "\n",
      "     Black or African American Hispanic or Latinx   NHPI Two or more Races  \\\n",
      "90                      10.03%             10.91%  0.11%             3.21%   \n",
      "91                      13.03%              6.35%  0.18%             3.11%   \n",
      "93                       9.50%              7.15%  0.06%             1.39%   \n",
      "95                       6.20%              2.12%  0.09%             2.84%   \n",
      "188                     48.67%             11.99%  0.18%             2.54%   \n",
      "\n",
      "                                              geometry index_right state_2020  \\\n",
      "90   POLYGON ((1605047.034 312178.060, 1604849.920 ...     31804.0         PA   \n",
      "91   POLYGON ((1741134.187 328912.751, 1740950.124 ...     33968.0         PA   \n",
      "93   MULTIPOLYGON (((1678818.832 455721.780, 167880...     32732.0         PA   \n",
      "95   MULTIPOLYGON (((1324906.421 283703.982, 132488...     29429.0         PA   \n",
      "188  POLYGON ((1741319.132 311882.432, 1741460.717 ...     33836.0         PA   \n",
      "\n",
      "    Latitude_2020 Longitude_2020 distances_2020  \n",
      "90      40.308058     -76.894164     620.488341  \n",
      "91      40.173390     -75.276690       0.000000  \n",
      "93      41.410790     -75.659993       0.000000  \n",
      "95      40.510576     -80.220901     185.502197  \n",
      "188     40.021372     -75.310769     247.284681  \n",
      "\n",
      "[5 rows x 61 columns]\n",
      "  UNIQUEID                                 NAME                    ADDRESS  \\\n",
      "0   212878    HARRISBURG AREA COMMUNITY COLLEGE                 1 HACC DR.   \n",
      "1   214111  MONTGOMERY COUNTY COMMUNITY COLLEGE            340 DEKALB PIKE   \n",
      "2   213376                   LACKAWANNA COLLEGE                501 VINE ST   \n",
      "3   215655             ROBERT MORRIS UNIVERSITY  6001 UNIVERSITY BOULEVARD   \n",
      "4   212869                       HARCUM COLLEGE         750 MONTGOMERY AVE   \n",
      "\n",
      "            CITY STATE    ZIP  ZIP4       TELEPHONE TYPE STATUS  ...  \\\n",
      "0     Harrisburg    PA  17110  2999  (717) 780-2300    1      A  ...   \n",
      "1      Blue Bell    PA  19422  0796  (215) 641-6300    1      A  ...   \n",
      "2       Scranton    PA  18509  3206  (570) 961-7810    2      A  ...   \n",
      "3  Moon Township    PA  15108  1189  (800) 762-0097    2      A  ...   \n",
      "4      Bryn Mawr    PA  19010  3470  (610) 525-4100    2      A  ...   \n",
      "\n",
      "   distances_2020 Latitude_2020_early Longitude_2020_early  \\\n",
      "0      620.488341           40.259492           -76.881770   \n",
      "1        0.000000           40.244436           -75.287894   \n",
      "2        0.000000           41.408490           -75.665693   \n",
      "3      185.502197           40.414250           -80.096572   \n",
      "4      247.284681           40.011988           -75.260530   \n",
      "\n",
      "  distances_2020_early Latitude_starbucks Longitude_starbucks  \\\n",
      "0          3480.957883          40.302962          -76.845026   \n",
      "1          7259.581096          40.166138          -75.290424   \n",
      "2           480.063799          41.406799          -75.655986   \n",
      "3         12312.658582          40.516461          -80.219944   \n",
      "4          4636.515310          40.020329          -75.316589   \n",
      "\n",
      "  distances_starbucks Latitude_target Longitude_target distances_target  \n",
      "0         3108.077605       40.308926       -76.796429      7267.541903  \n",
      "1          742.347073        40.22443         -75.2396      5941.294568  \n",
      "2          281.363300        41.46711       -75.639079      6264.540417  \n",
      "3          459.121467       40.535463       -80.067772      7046.031809  \n",
      "4          263.475128        40.00322       -75.283075      3324.823796  \n",
      "\n",
      "[5 rows x 70 columns]\n"
     ]
    }
   ],
   "source": [
    "import pandas as pd\n",
    "import geopandas as gpd\n",
    "import numpy as np\n",
    "\n",
    "\n",
    "wkt = \"\"\"PROJCS[\"USA_Contiguous_Equidistant_Conic\",\n",
    "        GEOGCS[\"GCS_North_American_1983\",\n",
    "            DATUM[\"North_American_Datum_1983\",\n",
    "                SPHEROID[\"GRS_1980\",6378137,298.257222101]],\n",
    "            PRIMEM[\"Greenwich\",0],\n",
    "            UNIT[\"Degree\",0.017453292519943295]],\n",
    "        PROJECTION[\"Equidistant_Conic\"],\n",
    "        PARAMETER[\"False_Easting\",0],\n",
    "        PARAMETER[\"False_Northing\",0],\n",
    "        PARAMETER[\"Longitude_Of_Center\",-96],\n",
    "        PARAMETER[\"Standard_Parallel_1\",33],\n",
    "        PARAMETER[\"Standard_Parallel_2\",45],\n",
    "        PARAMETER[\"Latitude_Of_Center\",39],\n",
    "        UNIT[\"Meter\",1],\n",
    "        AUTHORITY[\"EPSG\",\"102005\"]]\"\"\"\n",
    "\n",
    "# Load Final List of Colleges and Subset of Colleges\n",
    "campuses = gpd.read_file(\n",
    "    \"../../20_intermediate_files/20_campus_polygons_w_demographics.geojson\"\n",
    ")\n",
    "#Drop excess columns\n",
    "campuses = campuses.drop(columns=['SLSV Coalition', 'ALL IN', 'AGF', 'Ask Every Student', 'Campus Vote Project','Voter Friendly Campus', 'StudentPIRGs', 'Aliento Education Fund', 'Alliance for Youth Organizing', 'American Democracy Project', \n",
    "                   \" Arizona Students' Association\", 'Baltimore Collegetown Network\\t\\t', 'Black Girls Vote', \n",
    "                   'Boston Votes Coalition', 'California Campus Compact ', 'CALPIRG Students', 'CEEP', 'Civic Nebraska', \n",
    "                   'Common Cause', 'Count US IN', 'Creative Campus Voting Project', 'Day on Democracy', 'Democracy Works', \n",
    "                   'Engage Miami', 'Every Vote Counts', 'Forward Montana', 'Georgia Shift', 'Hillel International', \n",
    "                   'IGNITE National', 'IA & MN Campus Compact', 'LeadMN', 'Loud Light', 'Maine Students Vote', 'MARYPIRG', \n",
    "                   'MI Familia Vota', 'Minnesota Youth Collective', 'Mississippi Votes', 'NASPAA', 'New Era Colorado', \n",
    "                   'NYPIRG', 'NCAAT', 'NCPIRG', 'NC Campus Compact', 'Ohio Campus Compact', 'PIRGIM Campus Action', \n",
    "                   'Project Pericles', 'TurnUp Activism', 'Up to Us/ Net Impact', 'VoteRiders', 'Washington Student Association', 'Xceleader (Vote HBCU)', 'NVEW 2020', 'NVRD\\n2017', 'NVRD 2018', 'NVRD 2020'])\n",
    "\n",
    "campuses = campuses.to_crs(wkt)\n",
    "\n",
    "campuses = campuses.copy()\n",
    "print('Pre # of campuses: {}'.format(len(campuses)))\n",
    "\n",
    "#Get sets of states common to all polling place data\n",
    "p = gpd.read_file(\n",
    "        f\"../../20_intermediate_files/10_polling_places/2020_BallotReady_Early.geojson\"\n",
    "    )\n",
    "ev_state_set = set(p['state'].unique())\n",
    "\n",
    "q = gpd.read_file(\n",
    "        f\"../../20_intermediate_files/10_polling_places/2020_elecday_cpi.geojson\"\n",
    "    )\n",
    "ed_state_set = set(q['state'].unique())\n",
    "\n",
    "max_state_set = ev_state_set.union(ed_state_set)\n",
    "    \n",
    "#Limit campuses to those within our common states\n",
    "campuses = campuses[campuses['STATE'].isin(max_state_set)]\n",
    "print('Within State Set # of campuses: {}'.format(len(campuses)))\n",
    "temp_list = []\n",
    "\n",
    "p = p.to_crs(wkt)\n",
    "q = q.to_crs(wkt)\n",
    "\n",
    "assert campuses.crs == p.crs\n",
    "if 'latitude' in q.columns:\n",
    "    q = q.rename(columns={\"latitude\": \"Latitude\", \"longitude\": \"Longitude\"})\n",
    "q = q[[\"state\", \"Latitude\",\"Longitude\",\"geometry\"]]\n",
    "year = '2020'\n",
    "q = q.rename({\"state\": f\"state_{year}\"}, axis=\"columns\")\n",
    "q = q.rename({\"Latitude\": f\"Latitude_{year}\"}, axis=\"columns\")\n",
    "q = q.rename({\"Longitude\": f\"Longitude_{year}\"}, axis=\"columns\")\n",
    "    \n",
    "# Get distance to nearest by looping through states, then concat\n",
    "temp = pd.DataFrame()\n",
    "for state in max_state_set:\n",
    "    temp1 = pd.DataFrame()\n",
    "    temp1 = campuses[campuses['STATE'] == state].sjoin_nearest(q[q[f\"state_{year}\"] == state], distance_col=f\"distances_{year}\", how=\"left\")\n",
    "    #Remove multiple equidistant polling places\n",
    "    temp1 = temp1.drop_duplicates(subset=['UNIQUEID'], keep='last')\n",
    "    temp = pd.concat([temp, temp1])\n",
    "\n",
    "#Set final df\n",
    "final_df = temp\n",
    "\n",
    "##############################\n",
    "#Add Ballot Ready Polling Data\n",
    "##############################\n",
    "p = gpd.read_file(\n",
    "        f\"../../20_intermediate_files/10_polling_places/2020_BallotReady_Early.geojson\"\n",
    "    )\n",
    "p['Longitude'] = p['geometry'].x\n",
    "p['Latitude'] = p['geometry'].y\n",
    "p = p.to_crs(wkt)\n",
    "#Save a copy of polling place geometries\n",
    "p = p[[\"state\", \"Latitude\", \"Longitude\", \"geometry\"]]\n",
    "year = '2020_early'\n",
    "p = p.rename({\"state\": f\"state_{year}\"}, axis=\"columns\")\n",
    "p = p.rename({\"Latitude\": f\"Latitude_{year}\"}, axis=\"columns\")\n",
    "p = p.rename({\"Longitude\": f\"Longitude_{year}\"}, axis=\"columns\")\n",
    "temp = pd.DataFrame()\n",
    "\n",
    "#Loop through states and merge with final dataframe\n",
    "for state in max_state_set:\n",
    "    temp1 = pd.DataFrame()\n",
    "    temp1 = campuses[campuses['STATE'] == state].sjoin_nearest(p[p[f\"state_{year}\"] == state], distance_col=f\"distances_{year}\", how=\"left\")\n",
    "    #Remove multiple equidistant polling places\n",
    "    temp1 = temp1.drop_duplicates(subset=['UNIQUEID'], keep='last')\n",
    "    temp = pd.concat([temp, temp1])\n",
    "final_df = final_df.merge(temp.iloc[:,[0,-3,-2,-1]],on='UNIQUEID',how='inner')\n",
    "\n",
    "######################\n",
    "#Add Nearest Starbucks\n",
    "######################\n",
    "s = gpd.read_file(\n",
    "        f\"../../00_source_data/store_locations/Starbucks_USA.csv\"\n",
    "    )\n",
    "s = gpd.GeoDataFrame(s,geometry=gpd.points_from_xy(s['Longitude'], s['Latitude']))\n",
    "s = s.set_crs(epsg=4326)\n",
    "s = s.to_crs(wkt)\n",
    "#Save a copy of polling place geometries\n",
    "s = s[[\"State\", \"Latitude\", \"Longitude\", \"geometry\"]]\n",
    "year = 'starbucks'\n",
    "s = s.rename({\"State\": f\"state_{year}\"}, axis=\"columns\")\n",
    "s = s.rename({\"Latitude\": f\"Latitude_{year}\"}, axis=\"columns\")\n",
    "s = s.rename({\"Longitude\": f\"Longitude_{year}\"}, axis=\"columns\")\n",
    "temp = pd.DataFrame()\n",
    "#Loop through states and merge with final dataframe\n",
    "for state in max_state_set:\n",
    "    temp1 = pd.DataFrame()\n",
    "    temp1 = campuses[campuses['STATE'] == state].sjoin_nearest(s[s[f\"state_{year}\"] == state], distance_col=f\"distances_{year}\", how=\"left\")\n",
    "    #Remove multiple equidistant Starbucks\n",
    "    temp1 = temp1.drop_duplicates(subset=['UNIQUEID'], keep='last')\n",
    "    temp = pd.concat([temp, temp1])\n",
    "final_df = final_df.merge(temp.iloc[:,[0,-3,-2,-1]],on='UNIQUEID',how='inner')\n",
    "\n",
    "######################\n",
    "#Add Nearest Target\n",
    "######################\n",
    "s = gpd.read_file(\n",
    "        f\"../../00_source_data/store_locations/Target_USA.csv\"\n",
    "    )\n",
    "s = gpd.GeoDataFrame(s,geometry=gpd.points_from_xy(s['Longitude'], s['Latitude']))\n",
    "s = s.set_crs(epsg=4326)\n",
    "s = s.to_crs(wkt)\n",
    "#Save a copy of polling place geometries\n",
    "s = s[[\"State\", \"Latitude\", \"Longitude\", \"geometry\"]]\n",
    "year = 'target'\n",
    "s = s.rename({\"State\": f\"state_{year}\"}, axis=\"columns\")\n",
    "s = s.rename({\"Latitude\": f\"Latitude_{year}\"}, axis=\"columns\")\n",
    "s = s.rename({\"Longitude\": f\"Longitude_{year}\"}, axis=\"columns\")\n",
    "temp = pd.DataFrame()\n",
    "#Loop through states and merge with final dataframe\n",
    "for state in max_state_set:\n",
    "    temp1 = pd.DataFrame()\n",
    "    temp1 = campuses[campuses['STATE'] == state].sjoin_nearest(s[s[f\"state_{year}\"] == state], distance_col=f\"distances_{year}\", how=\"left\")\n",
    "    #Remove multiple equidistant Targets\n",
    "    temp1 = temp1.drop_duplicates(subset=['UNIQUEID'], keep='last')\n",
    "    temp = pd.concat([temp, temp1])\n",
    "final_df = final_df.merge(temp.iloc[:,[0,-3,-2,-1]],on='UNIQUEID',how='inner')\n",
    "\n",
    "\n",
    "#Save to file\n",
    "#final_df.to_file(\n",
    "#    \"../../20_intermediate_files/30_campuses_w_dist_to_nearest_pp.geojson\",\n",
    "#    driver=\"GeoJSON\")\n",
    "#final_df.to_csv(\n",
    "#    \"../../20_intermediate_files/30_campuses_w_dist_to_nearest_pp.csv\")"
   ]
  },
  {
   "cell_type": "code",
   "execution_count": 24,
   "metadata": {},
   "outputs": [
    {
     "data": {
      "text/plain": [
       "2258"
      ]
     },
     "execution_count": 24,
     "metadata": {},
     "output_type": "execute_result"
    }
   ],
   "source": [
    "len(final_df)"
   ]
  },
  {
   "cell_type": "code",
   "execution_count": 25,
   "metadata": {},
   "outputs": [
    {
     "data": {
      "text/plain": [
       "443"
      ]
     },
     "execution_count": 25,
     "metadata": {},
     "output_type": "execute_result"
    }
   ],
   "source": [
    "sum(final_df['distances_2020'].isna())"
   ]
  },
  {
   "cell_type": "code",
   "execution_count": 26,
   "metadata": {},
   "outputs": [
    {
     "data": {
      "text/plain": [
       "88"
      ]
     },
     "execution_count": 26,
     "metadata": {},
     "output_type": "execute_result"
    }
   ],
   "source": [
    "sum(final_df['distances_2020_early'].isna())"
   ]
  },
  {
   "cell_type": "code",
   "execution_count": 37,
   "metadata": {},
   "outputs": [
    {
     "data": {
      "text/plain": [
       "48"
      ]
     },
     "execution_count": 37,
     "metadata": {},
     "output_type": "execute_result"
    }
   ],
   "source": [
    "len(final_df['STATE'].unique())"
   ]
  },
  {
   "cell_type": "code",
   "execution_count": 27,
   "metadata": {},
   "outputs": [
    {
     "data": {
      "text/plain": [
       "45"
      ]
     },
     "execution_count": 27,
     "metadata": {},
     "output_type": "execute_result"
    }
   ],
   "source": [
    "len(ev_state_set)"
   ]
  },
  {
   "cell_type": "code",
   "execution_count": 28,
   "metadata": {},
   "outputs": [
    {
     "data": {
      "text/plain": [
       "35"
      ]
     },
     "execution_count": 28,
     "metadata": {},
     "output_type": "execute_result"
    }
   ],
   "source": [
    "len(ed_state_set)"
   ]
  },
  {
   "cell_type": "code",
   "execution_count": 29,
   "metadata": {},
   "outputs": [],
   "source": [
    "df_ed = final_df[final_df['distances_2020'].notna()]"
   ]
  },
  {
   "cell_type": "code",
   "execution_count": 30,
   "metadata": {},
   "outputs": [],
   "source": [
    "df_ev = final_df[final_df['distances_2020_early'].notna()]"
   ]
  },
  {
   "cell_type": "code",
   "execution_count": 31,
   "metadata": {},
   "outputs": [
    {
     "data": {
      "text/plain": [
       "1815"
      ]
     },
     "execution_count": 31,
     "metadata": {},
     "output_type": "execute_result"
    }
   ],
   "source": [
    "len(df_ed)"
   ]
  },
  {
   "cell_type": "code",
   "execution_count": 34,
   "metadata": {},
   "outputs": [
    {
     "data": {
      "text/plain": [
       "35"
      ]
     },
     "execution_count": 34,
     "metadata": {},
     "output_type": "execute_result"
    }
   ],
   "source": [
    "len(df_ed['STATE'].unique())"
   ]
  },
  {
   "cell_type": "code",
   "execution_count": 32,
   "metadata": {},
   "outputs": [
    {
     "data": {
      "text/plain": [
       "2170"
      ]
     },
     "execution_count": 32,
     "metadata": {},
     "output_type": "execute_result"
    }
   ],
   "source": [
    "len(df_ev)"
   ]
  },
  {
   "cell_type": "code",
   "execution_count": 35,
   "metadata": {},
   "outputs": [
    {
     "data": {
      "text/plain": [
       "45"
      ]
     },
     "execution_count": 35,
     "metadata": {},
     "output_type": "execute_result"
    }
   ],
   "source": [
    "len(df_ev['STATE'].unique())"
   ]
  },
  {
   "cell_type": "code",
   "execution_count": 19,
   "metadata": {},
   "outputs": [],
   "source": [
    "import geopandas as gpd\n",
    "fin = gpd.read_file(\"../../20_intermediate_files/30_campuses_w_dist_to_nearest_pp.geojson\")"
   ]
  },
  {
   "cell_type": "code",
   "execution_count": 20,
   "metadata": {},
   "outputs": [
    {
     "data": {
      "text/html": [
       "<div>\n",
       "<style scoped>\n",
       "    .dataframe tbody tr th:only-of-type {\n",
       "        vertical-align: middle;\n",
       "    }\n",
       "\n",
       "    .dataframe tbody tr th {\n",
       "        vertical-align: top;\n",
       "    }\n",
       "\n",
       "    .dataframe thead th {\n",
       "        text-align: right;\n",
       "    }\n",
       "</style>\n",
       "<table border=\"1\" class=\"dataframe\">\n",
       "  <thead>\n",
       "    <tr style=\"text-align: right;\">\n",
       "      <th></th>\n",
       "      <th>UNIQUEID</th>\n",
       "      <th>NAME</th>\n",
       "      <th>ADDRESS</th>\n",
       "      <th>CITY</th>\n",
       "      <th>STATE</th>\n",
       "      <th>ZIP</th>\n",
       "      <th>ZIP4</th>\n",
       "      <th>TELEPHONE</th>\n",
       "      <th>TYPE</th>\n",
       "      <th>STATUS</th>\n",
       "      <th>...</th>\n",
       "      <th>Latitude_2020_early</th>\n",
       "      <th>Longitude_2020_early</th>\n",
       "      <th>distances_2020_early</th>\n",
       "      <th>Latitude_starbucks</th>\n",
       "      <th>Longitude_starbucks</th>\n",
       "      <th>distances_starbucks</th>\n",
       "      <th>Latitude_target</th>\n",
       "      <th>Longitude_target</th>\n",
       "      <th>distances_target</th>\n",
       "      <th>geometry</th>\n",
       "    </tr>\n",
       "  </thead>\n",
       "  <tbody>\n",
       "    <tr>\n",
       "      <th>0</th>\n",
       "      <td>230737</td>\n",
       "      <td>UTAH VALLEY UNIVERSITY</td>\n",
       "      <td>800 W UNIVERSITY PARKWAY</td>\n",
       "      <td>Orem</td>\n",
       "      <td>UT</td>\n",
       "      <td>84058</td>\n",
       "      <td>5999</td>\n",
       "      <td>(801) 863-8000</td>\n",
       "      <td>1</td>\n",
       "      <td>A</td>\n",
       "      <td>...</td>\n",
       "      <td>40.307563</td>\n",
       "      <td>-111.735687</td>\n",
       "      <td>272.164025</td>\n",
       "      <td>40.27883</td>\n",
       "      <td>-111.714617</td>\n",
       "      <td>0.000000</td>\n",
       "      <td>40.2959</td>\n",
       "      <td>-111.699239</td>\n",
       "      <td>1711.027074</td>\n",
       "      <td>MULTIPOLYGON (((-1323470.53542 257003.34571, -...</td>\n",
       "    </tr>\n",
       "    <tr>\n",
       "      <th>1</th>\n",
       "      <td>230490</td>\n",
       "      <td>OGDEN-WEBER TECHNICAL COLLEGE</td>\n",
       "      <td>200 N WASHINGTON BLVD</td>\n",
       "      <td>Ogden</td>\n",
       "      <td>UT</td>\n",
       "      <td>84404</td>\n",
       "      <td>4089</td>\n",
       "      <td>(801) 627-8300</td>\n",
       "      <td>1</td>\n",
       "      <td>A</td>\n",
       "      <td>...</td>\n",
       "      <td>41.223260</td>\n",
       "      <td>-111.970034</td>\n",
       "      <td>4252.466673</td>\n",
       "      <td>41.2452</td>\n",
       "      <td>-111.970485</td>\n",
       "      <td>1832.088454</td>\n",
       "      <td>41.173612</td>\n",
       "      <td>-112.006235</td>\n",
       "      <td>10294.861960</td>\n",
       "      <td>POLYGON ((-1324324.58080 367418.25623, -132434...</td>\n",
       "    </tr>\n",
       "    <tr>\n",
       "      <th>2</th>\n",
       "      <td>438151</td>\n",
       "      <td>STEVENS-HENAGER COLLEGE</td>\n",
       "      <td>383 W VINE ST</td>\n",
       "      <td>Salt Lake City</td>\n",
       "      <td>UT</td>\n",
       "      <td>84123</td>\n",
       "      <td>5671</td>\n",
       "      <td>(801) 281-7620</td>\n",
       "      <td>2</td>\n",
       "      <td>A</td>\n",
       "      <td>...</td>\n",
       "      <td>40.665099</td>\n",
       "      <td>-111.888214</td>\n",
       "      <td>1236.786553</td>\n",
       "      <td>40.659511</td>\n",
       "      <td>-111.887825</td>\n",
       "      <td>1172.075537</td>\n",
       "      <td>40.646102</td>\n",
       "      <td>-111.940181</td>\n",
       "      <td>3413.714194</td>\n",
       "      <td>POLYGON ((-1331123.34073 300517.71684, -133123...</td>\n",
       "    </tr>\n",
       "    <tr>\n",
       "      <th>3</th>\n",
       "      <td>230728</td>\n",
       "      <td>UTAH STATE UNIVERSITY</td>\n",
       "      <td>OLD MAIN HILL</td>\n",
       "      <td>Logan</td>\n",
       "      <td>UT</td>\n",
       "      <td>84322</td>\n",
       "      <td>1400</td>\n",
       "      <td>(435) 797-1000</td>\n",
       "      <td>1</td>\n",
       "      <td>A</td>\n",
       "      <td>...</td>\n",
       "      <td>41.722622</td>\n",
       "      <td>-111.848255</td>\n",
       "      <td>3150.762959</td>\n",
       "      <td>41.739979</td>\n",
       "      <td>-111.830619</td>\n",
       "      <td>1045.334557</td>\n",
       "      <td>41.173612</td>\n",
       "      <td>-112.006235</td>\n",
       "      <td>64713.336523</td>\n",
       "      <td>MULTIPOLYGON (((-1302624.24752 419672.17026, -...</td>\n",
       "    </tr>\n",
       "    <tr>\n",
       "      <th>4</th>\n",
       "      <td>230746</td>\n",
       "      <td>SALT LAKE COMMUNITY COLLEGE</td>\n",
       "      <td>4600 S REDWOOD RD</td>\n",
       "      <td>Salt Lake City</td>\n",
       "      <td>UT</td>\n",
       "      <td>84123</td>\n",
       "      <td>NOT AVAILABLE</td>\n",
       "      <td>(801) 957-4111</td>\n",
       "      <td>1</td>\n",
       "      <td>A</td>\n",
       "      <td>...</td>\n",
       "      <td>40.654562</td>\n",
       "      <td>-111.955438</td>\n",
       "      <td>1850.323586</td>\n",
       "      <td>40.683266</td>\n",
       "      <td>-111.939437</td>\n",
       "      <td>864.873904</td>\n",
       "      <td>40.646102</td>\n",
       "      <td>-111.940181</td>\n",
       "      <td>2571.483420</td>\n",
       "      <td>POLYGON ((-1334174.70639 302840.33035, -133402...</td>\n",
       "    </tr>\n",
       "  </tbody>\n",
       "</table>\n",
       "<p>5 rows × 79 columns</p>\n",
       "</div>"
      ],
      "text/plain": [
       "  UNIQUEID                           NAME                   ADDRESS  \\\n",
       "0   230737         UTAH VALLEY UNIVERSITY  800 W UNIVERSITY PARKWAY   \n",
       "1   230490  OGDEN-WEBER TECHNICAL COLLEGE     200 N WASHINGTON BLVD   \n",
       "2   438151        STEVENS-HENAGER COLLEGE             383 W VINE ST   \n",
       "3   230728          UTAH STATE UNIVERSITY             OLD MAIN HILL   \n",
       "4   230746    SALT LAKE COMMUNITY COLLEGE         4600 S REDWOOD RD   \n",
       "\n",
       "             CITY STATE    ZIP           ZIP4       TELEPHONE TYPE STATUS  \\\n",
       "0            Orem    UT  84058           5999  (801) 863-8000    1      A   \n",
       "1           Ogden    UT  84404           4089  (801) 627-8300    1      A   \n",
       "2  Salt Lake City    UT  84123           5671  (801) 281-7620    2      A   \n",
       "3           Logan    UT  84322           1400  (435) 797-1000    1      A   \n",
       "4  Salt Lake City    UT  84123  NOT AVAILABLE  (801) 957-4111    1      A   \n",
       "\n",
       "   ...  Latitude_2020_early Longitude_2020_early distances_2020_early  \\\n",
       "0  ...            40.307563          -111.735687           272.164025   \n",
       "1  ...            41.223260          -111.970034          4252.466673   \n",
       "2  ...            40.665099          -111.888214          1236.786553   \n",
       "3  ...            41.722622          -111.848255          3150.762959   \n",
       "4  ...            40.654562          -111.955438          1850.323586   \n",
       "\n",
       "  Latitude_starbucks Longitude_starbucks distances_starbucks Latitude_target  \\\n",
       "0           40.27883         -111.714617            0.000000         40.2959   \n",
       "1            41.2452         -111.970485         1832.088454       41.173612   \n",
       "2          40.659511         -111.887825         1172.075537       40.646102   \n",
       "3          41.739979         -111.830619         1045.334557       41.173612   \n",
       "4          40.683266         -111.939437          864.873904       40.646102   \n",
       "\n",
       "  Longitude_target distances_target  \\\n",
       "0      -111.699239      1711.027074   \n",
       "1      -112.006235     10294.861960   \n",
       "2      -111.940181      3413.714194   \n",
       "3      -112.006235     64713.336523   \n",
       "4      -111.940181      2571.483420   \n",
       "\n",
       "                                            geometry  \n",
       "0  MULTIPOLYGON (((-1323470.53542 257003.34571, -...  \n",
       "1  POLYGON ((-1324324.58080 367418.25623, -132434...  \n",
       "2  POLYGON ((-1331123.34073 300517.71684, -133123...  \n",
       "3  MULTIPOLYGON (((-1302624.24752 419672.17026, -...  \n",
       "4  POLYGON ((-1334174.70639 302840.33035, -133402...  \n",
       "\n",
       "[5 rows x 79 columns]"
      ]
     },
     "execution_count": 20,
     "metadata": {},
     "output_type": "execute_result"
    }
   ],
   "source": [
    "fin.head()"
   ]
  },
  {
   "cell_type": "code",
   "execution_count": null,
   "metadata": {},
   "outputs": [],
   "source": [
    "#Add Nearest Starbucks\n",
    "\n",
    "s = gpd.read_file(\n",
    "        f\"../../00_source_data/store_locations/Starbucks_USA.csv\"\n",
    "    )\n",
    "s['Longitude'] = s['geometry'].x\n",
    "s['Latitude'] = s['geometry'].y\n",
    "s = s.to_crs(wkt)\n",
    "#Save a copy of polling place geometries\n",
    "s = s[[\"state\", \"Latitude\", \"Longitude\", \"geometry\"]]\n",
    "year = 'starbucks'\n",
    "s = s.rename({\"state\": f\"state_{year}\"}, axis=\"columns\")\n",
    "s = s.rename({\"Latitude\": f\"Latitude_{year}\"}, axis=\"columns\")\n",
    "s = s.rename({\"Longitude\": f\"Longitude_{year}\"}, axis=\"columns\")\n",
    "temp = pd.DataFrame()\n",
    "#Loop through states and merge with final dataframe\n",
    "for state in state_set:\n",
    "    temp1 = pd.DataFrame()\n",
    "    temp1 = campuses[campuses['STATE'] == state].sjoin_nearest(s[s[f\"state_{year}\"] == state], distance_col=f\"distances_{year}\", how=\"left\")\n",
    "    #Remove multiple equidistant polling places\n",
    "    temp1 = temp1.drop_duplicates(subset=['UNIQUEID'], keep='last')\n",
    "    temp = pd.concat([temp, temp1])\n",
    "final_df = final_df.merge(temp.iloc[:,[0,-3,-2,-1]],on='UNIQUEID',how='inner')\n"
   ]
  }
 ],
 "metadata": {
  "kernelspec": {
   "display_name": "Python 3",
   "language": "python",
   "name": "python3"
  },
  "language_info": {
   "codemirror_mode": {
    "name": "ipython",
    "version": 3
   },
   "file_extension": ".py",
   "mimetype": "text/x-python",
   "name": "python",
   "nbconvert_exporter": "python",
   "pygments_lexer": "ipython3",
   "version": "3.8.3"
  }
 },
 "nbformat": 4,
 "nbformat_minor": 4
}
