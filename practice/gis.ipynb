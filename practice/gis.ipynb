{
 "cells": [
  {
   "cell_type": "markdown",
   "metadata": {},
   "source": [
    "## What are Shape Files"
   ]
  },
  {
   "cell_type": "markdown",
   "metadata": {},
   "source": [
    "The shapefile format is a geospatial vector data format for geographic information system (GIS) software. It is developed and regulated by Esri as a mostly open specification for data interoperability among Esri and other GIS software products. The shapefile format can spatially describe vector features: points, lines, and polygons, representing, for example, water wells, rivers, and lakes. Each item usually has attributes that describe it, such as name or temperature."
   ]
  },
  {
   "cell_type": "markdown",
   "metadata": {},
   "source": [
    "## What are GeoJSON Files"
   ]
  },
  {
   "cell_type": "markdown",
   "metadata": {},
   "source": [
    "GeoJSON is a format for encoding a variety of geographic data structures. GeoJSON is an open standard format designed for representing simple geographical features, along with their non-spatial attributes. It is based on the JSON format.\n",
    "\n",
    "The features include points (therefore addresses and locations), line strings (therefore streets, highways and boundaries), polygons (countries, provinces, tracts of land), and multi-part collections of these types. GeoJSON features need not represent entities of the physical world only; mobile routing and navigation apps, for example, might describe their service coverage using GeoJSON"
   ]
  },
  {
   "cell_type": "markdown",
   "metadata": {},
   "source": [
    "![GeoJson](geojson1.png)"
   ]
  },
  {
   "cell_type": "markdown",
   "metadata": {},
   "source": [
    "## What is GeoPandas"
   ]
  },
  {
   "cell_type": "markdown",
   "metadata": {},
   "source": [
    "GeoPandas is an open source project to make working with geospatial data in python easier. GeoPandas extends the datatypes used by pandas to allow spatial operations on geometric types. Geometric operations are performed by shapely. Geopandas further depends on fiona for file access and matplotlib for plotting.\n",
    "\n"
   ]
  },
  {
   "cell_type": "markdown",
   "metadata": {},
   "source": [
    "GeoPandas is an open source project to add support for geographic data to pandas objects. It currently implements GeoSeries and GeoDataFrame types which are subclasses of pandas.Series and pandas.DataFrame respectively. GeoPandas objects can act on shapely geometry objects and perform geometric operations."
   ]
  },
  {
   "cell_type": "code",
   "execution_count": 1,
   "metadata": {},
   "outputs": [],
   "source": [
    "import geopandas as gpd"
   ]
  },
  {
   "cell_type": "code",
   "execution_count": 2,
   "metadata": {},
   "outputs": [],
   "source": [
    "geo_df = gpd.read_file(\n",
    "    \"../00_source_data/HIFLD_CollegeUniversityCampuses/\"\n",
    "    \"HIFLD_CollegeUniversityCampuses.shp\"\n",
    ")"
   ]
  },
  {
   "cell_type": "code",
   "execution_count": 3,
   "metadata": {},
   "outputs": [
    {
     "data": {
      "text/html": [
       "<div>\n",
       "<style scoped>\n",
       "    .dataframe tbody tr th:only-of-type {\n",
       "        vertical-align: middle;\n",
       "    }\n",
       "\n",
       "    .dataframe tbody tr th {\n",
       "        vertical-align: top;\n",
       "    }\n",
       "\n",
       "    .dataframe thead th {\n",
       "        text-align: right;\n",
       "    }\n",
       "</style>\n",
       "<table border=\"1\" class=\"dataframe\">\n",
       "  <thead>\n",
       "    <tr style=\"text-align: right;\">\n",
       "      <th></th>\n",
       "      <th>UNIQUEID</th>\n",
       "      <th>NAME</th>\n",
       "      <th>ADDRESS</th>\n",
       "      <th>CITY</th>\n",
       "      <th>STATE</th>\n",
       "      <th>ZIP</th>\n",
       "      <th>ZIP4</th>\n",
       "      <th>TELEPHONE</th>\n",
       "      <th>POPULATION</th>\n",
       "      <th>COUNTY</th>\n",
       "      <th>COUNTYFIPS</th>\n",
       "      <th>COUNTRY</th>\n",
       "      <th>TOT_ENROLL</th>\n",
       "      <th>geometry</th>\n",
       "    </tr>\n",
       "  </thead>\n",
       "  <tbody>\n",
       "    <tr>\n",
       "      <th>0</th>\n",
       "      <td>105367</td>\n",
       "      <td>OTTAWA UNIVERSITY-PHOENIX</td>\n",
       "      <td>9414 NORTH 25TH AVENUE</td>\n",
       "      <td>PHOENIX</td>\n",
       "      <td>AZ</td>\n",
       "      <td>85021</td>\n",
       "      <td>NOT AVAILABLE</td>\n",
       "      <td>(602) 371-1188</td>\n",
       "      <td>923</td>\n",
       "      <td>MARICOPA</td>\n",
       "      <td>04013</td>\n",
       "      <td>USA</td>\n",
       "      <td>809</td>\n",
       "      <td>POLYGON ((-12480419.928 3971527.354, -12480311...</td>\n",
       "    </tr>\n",
       "    <tr>\n",
       "      <th>1</th>\n",
       "      <td>110361</td>\n",
       "      <td>CALIFORNIA BAPTIST UNIVERSITY</td>\n",
       "      <td>8432 MAGNOLIA AVE</td>\n",
       "      <td>RIVERSIDE</td>\n",
       "      <td>CA</td>\n",
       "      <td>92504</td>\n",
       "      <td>3297</td>\n",
       "      <td>(877) 228-3615</td>\n",
       "      <td>12142</td>\n",
       "      <td>RIVERSIDE</td>\n",
       "      <td>06065</td>\n",
       "      <td>USA</td>\n",
       "      <td>10486</td>\n",
       "      <td>POLYGON ((-13072418.831 4019240.575, -13071986...</td>\n",
       "    </tr>\n",
       "    <tr>\n",
       "      <th>2</th>\n",
       "      <td>111391</td>\n",
       "      <td>CALIFORNIA WESTERN SCHOOL OF LAW</td>\n",
       "      <td>225 CEDAR ST</td>\n",
       "      <td>SAN DIEGO</td>\n",
       "      <td>CA</td>\n",
       "      <td>92101</td>\n",
       "      <td>3046</td>\n",
       "      <td>(619) 239-0391</td>\n",
       "      <td>1021</td>\n",
       "      <td>SAN DIEGO</td>\n",
       "      <td>06073</td>\n",
       "      <td>USA</td>\n",
       "      <td>802</td>\n",
       "      <td>POLYGON ((-13042517.805 3858457.172, -13042435...</td>\n",
       "    </tr>\n",
       "    <tr>\n",
       "      <th>3</th>\n",
       "      <td>113698</td>\n",
       "      <td>DOMINICAN UNIVERSITY OF CALIFORNIA</td>\n",
       "      <td>50 ACACIA AVE</td>\n",
       "      <td>SAN RAFAEL</td>\n",
       "      <td>CA</td>\n",
       "      <td>94901</td>\n",
       "      <td>2298</td>\n",
       "      <td>(415) 457-4440</td>\n",
       "      <td>2395</td>\n",
       "      <td>MARIN</td>\n",
       "      <td>06041</td>\n",
       "      <td>USA</td>\n",
       "      <td>1779</td>\n",
       "      <td>MULTIPOLYGON (((-13637570.792 4576797.967, -13...</td>\n",
       "    </tr>\n",
       "    <tr>\n",
       "      <th>4</th>\n",
       "      <td>192563</td>\n",
       "      <td>LIU BRENTWOOD</td>\n",
       "      <td>MICHAEL J. GRANT CAMPUS, SUFFOLK COUNTY COMMUN...</td>\n",
       "      <td>BRENTWOOD</td>\n",
       "      <td>NY</td>\n",
       "      <td>11717</td>\n",
       "      <td>NOT AVAILABLE</td>\n",
       "      <td>(631) 287-8500</td>\n",
       "      <td>-999</td>\n",
       "      <td>SUFFOLK</td>\n",
       "      <td>36103</td>\n",
       "      <td>USA</td>\n",
       "      <td>-999</td>\n",
       "      <td>POLYGON ((-8156290.559 4982259.419, -8156297.2...</td>\n",
       "    </tr>\n",
       "  </tbody>\n",
       "</table>\n",
       "</div>"
      ],
      "text/plain": [
       "  UNIQUEID                                NAME  \\\n",
       "0   105367           OTTAWA UNIVERSITY-PHOENIX   \n",
       "1   110361       CALIFORNIA BAPTIST UNIVERSITY   \n",
       "2   111391    CALIFORNIA WESTERN SCHOOL OF LAW   \n",
       "3   113698  DOMINICAN UNIVERSITY OF CALIFORNIA   \n",
       "4   192563                       LIU BRENTWOOD   \n",
       "\n",
       "                                             ADDRESS        CITY STATE    ZIP  \\\n",
       "0                             9414 NORTH 25TH AVENUE     PHOENIX    AZ  85021   \n",
       "1                                  8432 MAGNOLIA AVE   RIVERSIDE    CA  92504   \n",
       "2                                       225 CEDAR ST   SAN DIEGO    CA  92101   \n",
       "3                                      50 ACACIA AVE  SAN RAFAEL    CA  94901   \n",
       "4  MICHAEL J. GRANT CAMPUS, SUFFOLK COUNTY COMMUN...   BRENTWOOD    NY  11717   \n",
       "\n",
       "            ZIP4       TELEPHONE  POPULATION     COUNTY COUNTYFIPS COUNTRY  \\\n",
       "0  NOT AVAILABLE  (602) 371-1188         923   MARICOPA      04013     USA   \n",
       "1           3297  (877) 228-3615       12142  RIVERSIDE      06065     USA   \n",
       "2           3046  (619) 239-0391        1021  SAN DIEGO      06073     USA   \n",
       "3           2298  (415) 457-4440        2395      MARIN      06041     USA   \n",
       "4  NOT AVAILABLE  (631) 287-8500        -999    SUFFOLK      36103     USA   \n",
       "\n",
       "   TOT_ENROLL                                           geometry  \n",
       "0         809  POLYGON ((-12480419.928 3971527.354, -12480311...  \n",
       "1       10486  POLYGON ((-13072418.831 4019240.575, -13071986...  \n",
       "2         802  POLYGON ((-13042517.805 3858457.172, -13042435...  \n",
       "3        1779  MULTIPOLYGON (((-13637570.792 4576797.967, -13...  \n",
       "4        -999  POLYGON ((-8156290.559 4982259.419, -8156297.2...  "
      ]
     },
     "execution_count": 3,
     "metadata": {},
     "output_type": "execute_result"
    }
   ],
   "source": [
    "data=geo_df[['UNIQUEID', 'NAME', 'ADDRESS', 'CITY', 'STATE', 'ZIP', 'ZIP4',\n",
    "       'TELEPHONE', 'POPULATION', 'COUNTY', 'COUNTYFIPS','COUNTRY', 'TOT_ENROLL','geometry']]\n",
    "data.head()"
   ]
  },
  {
   "cell_type": "code",
   "execution_count": 5,
   "metadata": {},
   "outputs": [
    {
     "data": {
      "text/plain": [
       "geopandas.geodataframe.GeoDataFrame"
      ]
     },
     "execution_count": 5,
     "metadata": {},
     "output_type": "execute_result"
    }
   ],
   "source": [
    "type(data)"
   ]
  },
  {
   "cell_type": "code",
   "execution_count": 4,
   "metadata": {},
   "outputs": [
    {
     "data": {
      "text/plain": [
       "0    POINT (-12480368.112 3971492.550)\n",
       "1    POINT (-13071805.749 4019121.787)\n",
       "2    POINT (-13042476.335 3858426.366)\n",
       "3    POINT (-13638208.049 4576613.670)\n",
       "4     POINT (-8156683.197 4982572.374)\n",
       "dtype: geometry"
      ]
     },
     "execution_count": 4,
     "metadata": {},
     "output_type": "execute_result"
    }
   ],
   "source": [
    "data['geometry'].centroid.head()"
   ]
  },
  {
   "cell_type": "markdown",
   "metadata": {},
   "source": [
    "### Geometry Columns\n",
    "1. Point <br>\n",
    "2. Polygon <br>\n",
    "3. Multipolygon\n"
   ]
  },
  {
   "cell_type": "markdown",
   "metadata": {},
   "source": [
    "![Geometry Column](geometry.png)"
   ]
  },
  {
   "cell_type": "markdown",
   "metadata": {},
   "source": [
    "### Converting Pandas Dataframe into GeoPandas Dataframe"
   ]
  },
  {
   "cell_type": "code",
   "execution_count": 6,
   "metadata": {},
   "outputs": [
    {
     "name": "stdout",
     "output_type": "stream",
     "text": [
      "           City    Country  Latitude  Longitude            Coordinates\n",
      "0  Buenos Aires  Argentina    -34.58     -58.66  POINT (-58.66 -34.58)\n",
      "1      Brasilia     Brazil    -15.78     -47.91  POINT (-47.91 -15.78)\n",
      "2      Santiago      Chile    -33.45     -70.66  POINT (-70.66 -33.45)\n",
      "3        Bogota   Colombia      4.60     -74.08     POINT (-74.08 4.6)\n",
      "4       Caracas  Venezuela     10.48     -66.86   POINT (-66.86 10.48)\n",
      "<class 'pandas.core.frame.DataFrame'>\n"
     ]
    }
   ],
   "source": [
    "import pandas as pd\n",
    "from shapely.geometry import Point\n",
    "df = pd.DataFrame(\n",
    "    {'City': ['Buenos Aires', 'Brasilia', 'Santiago', 'Bogota', 'Caracas'],\n",
    "     'Country': ['Argentina', 'Brazil', 'Chile', 'Colombia', 'Venezuela'],\n",
    "     'Latitude': [-34.58, -15.78, -33.45, 4.60, 10.48],\n",
    "     'Longitude': [-58.66, -47.91, -70.66, -74.08, -66.86]})\n",
    "\n",
    "df['Coordinates'] = list(zip(df.Longitude, df.Latitude))\n",
    "df['Coordinates'] = df['Coordinates'].apply(Point)\n",
    "print(df.head())\n",
    "print(type(df))"
   ]
  },
  {
   "cell_type": "code",
   "execution_count": 7,
   "metadata": {},
   "outputs": [
    {
     "ename": "AttributeError",
     "evalue": "'Series' object has no attribute 'x'",
     "output_type": "error",
     "traceback": [
      "\u001b[0;31m---------------------------------------------------------------------------\u001b[0m",
      "\u001b[0;31mAttributeError\u001b[0m                            Traceback (most recent call last)",
      "\u001b[0;32m/var/folders/mg/_cgtqpgx2ps_3pqf62ck_mbm0000gn/T/ipykernel_23000/3048913067.py\u001b[0m in \u001b[0;36m<module>\u001b[0;34m\u001b[0m\n\u001b[0;32m----> 1\u001b[0;31m \u001b[0mdf\u001b[0m\u001b[0;34m.\u001b[0m\u001b[0mCoordinates\u001b[0m\u001b[0;34m.\u001b[0m\u001b[0mx\u001b[0m\u001b[0;34m\u001b[0m\u001b[0;34m\u001b[0m\u001b[0m\n\u001b[0m",
      "\u001b[0;32m/opt/anaconda3/envs/geo_final/lib/python3.9/site-packages/pandas/core/generic.py\u001b[0m in \u001b[0;36m__getattr__\u001b[0;34m(self, name)\u001b[0m\n\u001b[1;32m   5485\u001b[0m         ):\n\u001b[1;32m   5486\u001b[0m             \u001b[0;32mreturn\u001b[0m \u001b[0mself\u001b[0m\u001b[0;34m[\u001b[0m\u001b[0mname\u001b[0m\u001b[0;34m]\u001b[0m\u001b[0;34m\u001b[0m\u001b[0;34m\u001b[0m\u001b[0m\n\u001b[0;32m-> 5487\u001b[0;31m         \u001b[0;32mreturn\u001b[0m \u001b[0mobject\u001b[0m\u001b[0;34m.\u001b[0m\u001b[0m__getattribute__\u001b[0m\u001b[0;34m(\u001b[0m\u001b[0mself\u001b[0m\u001b[0;34m,\u001b[0m \u001b[0mname\u001b[0m\u001b[0;34m)\u001b[0m\u001b[0;34m\u001b[0m\u001b[0;34m\u001b[0m\u001b[0m\n\u001b[0m\u001b[1;32m   5488\u001b[0m \u001b[0;34m\u001b[0m\u001b[0m\n\u001b[1;32m   5489\u001b[0m     \u001b[0;32mdef\u001b[0m \u001b[0m__setattr__\u001b[0m\u001b[0;34m(\u001b[0m\u001b[0mself\u001b[0m\u001b[0;34m,\u001b[0m \u001b[0mname\u001b[0m\u001b[0;34m:\u001b[0m \u001b[0mstr\u001b[0m\u001b[0;34m,\u001b[0m \u001b[0mvalue\u001b[0m\u001b[0;34m)\u001b[0m \u001b[0;34m->\u001b[0m \u001b[0;32mNone\u001b[0m\u001b[0;34m:\u001b[0m\u001b[0;34m\u001b[0m\u001b[0;34m\u001b[0m\u001b[0m\n",
      "\u001b[0;31mAttributeError\u001b[0m: 'Series' object has no attribute 'x'"
     ]
    }
   ],
   "source": [
    "df.Coordinates.x"
   ]
  },
  {
   "cell_type": "code",
   "execution_count": 8,
   "metadata": {},
   "outputs": [
    {
     "name": "stdout",
     "output_type": "stream",
     "text": [
      "           City    Country  Latitude  Longitude                  Coordinates\n",
      "0  Buenos Aires  Argentina    -34.58     -58.66  POINT (-58.66000 -34.58000)\n",
      "1      Brasilia     Brazil    -15.78     -47.91  POINT (-47.91000 -15.78000)\n",
      "2      Santiago      Chile    -33.45     -70.66  POINT (-70.66000 -33.45000)\n",
      "3        Bogota   Colombia      4.60     -74.08    POINT (-74.08000 4.60000)\n",
      "4       Caracas  Venezuela     10.48     -66.86   POINT (-66.86000 10.48000)\n",
      "<class 'geopandas.geodataframe.GeoDataFrame'>\n"
     ]
    }
   ],
   "source": [
    "gdf = gpd.GeoDataFrame(df, geometry='Coordinates')\n",
    "print(gdf)\n",
    "print(type(gdf))"
   ]
  },
  {
   "cell_type": "code",
   "execution_count": 10,
   "metadata": {},
   "outputs": [
    {
     "data": {
      "text/plain": [
       "0   -34.58\n",
       "1   -15.78\n",
       "2   -33.45\n",
       "3     4.60\n",
       "4    10.48\n",
       "dtype: float64"
      ]
     },
     "execution_count": 10,
     "metadata": {},
     "output_type": "execute_result"
    }
   ],
   "source": [
    "gdf.Coordinates.y"
   ]
  },
  {
   "cell_type": "code",
   "execution_count": null,
   "metadata": {},
   "outputs": [],
   "source": []
  }
 ],
 "metadata": {
  "interpreter": {
   "hash": "32a279703e52eea307a8a01f10bec547f621edfd0bd503f3a86551f862d11cf1"
  },
  "kernelspec": {
   "display_name": "Python 3.9.7 64-bit ('gis_python': conda)",
   "language": "python",
   "name": "python3"
  },
  "language_info": {
   "codemirror_mode": {
    "name": "ipython",
    "version": 3
   },
   "file_extension": ".py",
   "mimetype": "text/x-python",
   "name": "python",
   "nbconvert_exporter": "python",
   "pygments_lexer": "ipython3",
   "version": "3.9.9"
  },
  "orig_nbformat": 4
 },
 "nbformat": 4,
 "nbformat_minor": 2
}
